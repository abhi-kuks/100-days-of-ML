{
 "cells": [
  {
   "cell_type": "code",
   "execution_count": 1,
   "id": "0b95f4df",
   "metadata": {},
   "outputs": [],
   "source": [
    "import numpy as np\n",
    "import matplotlib.pyplot as plt\n",
    "\n",
    "from sklearn.model_selection import train_test_split\n",
    "from sklearn.linear_model import LinearRegression, SGDRegressor\n",
    "from sklearn.preprocessing import PolynomialFeatures,StandardScaler\n",
    "\n",
    "from sklearn.metrics import r2_score\n",
    "from sklearn.pipeline import Pipeline"
   ]
  },
  {
   "cell_type": "code",
   "execution_count": 2,
   "id": "33c01b29",
   "metadata": {},
   "outputs": [],
   "source": [
    "X= 6* np.random.rand(200,1) -3 \n",
    "y =0.8* X**2 +0.9 *X + 2 + np.random.randn(200,1)\n",
    "\n",
    "# y = 0.8x^2 +0.9x + 2"
   ]
  },
  {
   "cell_type": "code",
   "execution_count": 3,
   "id": "28aa5701",
   "metadata": {},
   "outputs": [
    {
     "data": {
      "image/png": "[encoded data removed]",
      "text/plain": [
       "<Figure size 432x288 with 1 Axes>"
      ]
     },
     "metadata": {
      "needs_background": "light"
     },
     "output_type": "display_data"
    }
   ],
   "source": [
    "plt.plot(X,y,'b.')\n",
    "plt.xlabel('X')\n",
    "plt.ylabel('y')\n",
    "plt.show()\n"
   ]
  },
  {
   "cell_type": "code",
   "execution_count": 4,
   "id": "9ac09a74",
   "metadata": {},
   "outputs": [],
   "source": [
    "X_train,X_test,y_train,y_test = train_test_split(X,y, test_size=0.2, random_state=2)"
   ]
  },
  {
   "cell_type": "code",
   "execution_count": 5,
   "id": "f2501f0e",
   "metadata": {},
   "outputs": [
    {
     "name": "stdout",
     "output_type": "stream",
     "text": [
      "0.1564833078973038\n"
     ]
    }
   ],
   "source": [
    "lr = LinearRegression()\n",
    "lr.fit(X_train,y_train)\n",
    "y_pred = lr.predict(X_test)\n",
    "print(r2_score(y_test,y_pred))"
   ]
  },
  {
   "cell_type": "code",
   "execution_count": 6,
   "id": "5911f97a",
   "metadata": {},
   "outputs": [
    {
     "data": {
      "image/png": "[encoded data removed]",
      "text/plain": [
       "<Figure size 432x288 with 1 Axes>"
      ]
     },
     "metadata": {
      "needs_background": "light"
     },
     "output_type": "display_data"
    }
   ],
   "source": [
    "plt.plot(X_train , lr.predict(X_train) , color = 'r')\n",
    "plt.plot(X,y,\"b.\")\n",
    "plt.xlabel('X')\n",
    "plt.ylabel('y')\n",
    "plt.show()"
   ]
  },
  {
   "cell_type": "code",
   "execution_count": 13,
   "id": "be6511ff",
   "metadata": {},
   "outputs": [],
   "source": [
    "# Applying Polynomial Linear Regression\n",
    "# degree 2\n",
    "\n",
    "poly = PolynomialFeatures(degree=2 , include_bias=True)\n",
    "X_train_trans = poly.fit_transform(X_train)\n",
    "X_test_trans = poly.transform(X_test)"
   ]
  },
  {
   "cell_type": "code",
   "execution_count": 14,
   "id": "78d75494",
   "metadata": {},
   "outputs": [
    {
     "data": {
      "text/plain": [
       "((160, 1), (160, 3))"
      ]
     },
     "execution_count": 14,
     "metadata": {},
     "output_type": "execute_result"
    }
   ],
   "source": [
    "X_train.shape , X_train_trans.shape"
   ]
  },
  {
   "cell_type": "code",
   "execution_count": 15,
   "id": "2b63d19e",
   "metadata": {},
   "outputs": [
    {
     "name": "stdout",
     "output_type": "stream",
     "text": [
      "[2.09347722]\n",
      "[1.         2.09347722 4.38264685]\n"
     ]
    }
   ],
   "source": [
    "print(X_train[0])\n",
    "print(X_train_trans[0])"
   ]
  },
  {
   "cell_type": "code",
   "execution_count": 16,
   "id": "8b0d5729",
   "metadata": {},
   "outputs": [
    {
     "data": {
      "text/plain": [
       "LinearRegression()"
      ]
     },
     "execution_count": 16,
     "metadata": {},
     "output_type": "execute_result"
    }
   ],
   "source": [
    "lr = LinearRegression()\n",
    "lr.fit(X_train_trans ,y_train)"
   ]
  },
  {
   "cell_type": "code",
   "execution_count": 17,
   "id": "306a541a",
   "metadata": {},
   "outputs": [],
   "source": [
    "y_pred = lr.predict(X_test_trans)"
   ]
  },
  {
   "cell_type": "code",
   "execution_count": 18,
   "id": "7f8e4f1d",
   "metadata": {},
   "outputs": [
    {
     "data": {
      "text/plain": [
       "0.8030679145946964"
      ]
     },
     "execution_count": 18,
     "metadata": {},
     "output_type": "execute_result"
    }
   ],
   "source": [
    "r2_score(y_test , y_pred)"
   ]
  },
  {
   "cell_type": "code",
   "execution_count": 20,
   "id": "905ecf70",
   "metadata": {},
   "outputs": [
    {
     "name": "stdout",
     "output_type": "stream",
     "text": [
      "[2.12460677]\n",
      "[[0.         0.94450562 0.79779881]]\n"
     ]
    }
   ],
   "source": [
    "print(lr.intercept_)\n",
    "print(lr.coef_)"
   ]
  },
  {
   "cell_type": "code",
   "execution_count": 21,
   "id": "31860eea",
   "metadata": {},
   "outputs": [],
   "source": [
    "X_new = np.linspace(-3,3,200).reshape(200,1)\n",
    "X_new_poly = poly.transform(X_new)\n",
    "y_new = lr.predict(X_new_poly)"
   ]
  },
  {
   "cell_type": "code",
   "execution_count": 28,
   "id": "d1b1e8c2",
   "metadata": {},
   "outputs": [
    {
     "data": {
      "image/png": "[encoded data removed]",
      "text/plain": [
       "<Figure size 432x288 with 1 Axes>"
      ]
     },
     "metadata": {
      "needs_background": "light"
     },
     "output_type": "display_data"
    }
   ],
   "source": [
    "plt.plot(X_new ,y_new, color = 'red' , linewidth =2 , label = 'Predictions')\n",
    "plt.plot(X_train ,y_train, 'b.' , label = 'Training Points')\n",
    "plt.plot(X_test ,y_test,'g.' , label = 'Testing Points')\n",
    "plt.plot(X,y,\"b.\")\n",
    "plt.xlabel('X')\n",
    "plt.ylabel('y')\n",
    "plt.legend()\n",
    "plt.show()"
   ]
  },
  {
   "cell_type": "code",
   "execution_count": 29,
   "id": "82a7ee86",
   "metadata": {},
   "outputs": [],
   "source": [
    "def polynomial_regression(degree):\n",
    "    X_new=np.linspace(-3, 3, 100).reshape(100, 1)\n",
    "    X_new_poly = poly.transform(X_new)\n",
    "\n",
    "    polybig_features = PolynomialFeatures(degree=degree, include_bias=False)\n",
    "    std_scaler = StandardScaler()\n",
    "    lin_reg = LinearRegression()\n",
    "    polynomial_regression = Pipeline([\n",
    "            (\"poly_features\", polybig_features),\n",
    "            (\"std_scaler\", std_scaler),\n",
    "            (\"lin_reg\", lin_reg),\n",
    "        ])\n",
    "    polynomial_regression.fit(X, y)\n",
    "    y_newbig = polynomial_regression.predict(X_new)\n",
    "    plt.plot(X_new, y_newbig,'r', label=\"Degree \" + str(degree), linewidth=2)\n",
    "\n",
    "    plt.plot(X_train, y_train, \"b.\", linewidth=3)\n",
    "    plt.plot(X_test, y_test, \"g.\", linewidth=3)\n",
    "    plt.legend(loc=\"upper left\")\n",
    "    plt.xlabel(\"X\")\n",
    "    plt.ylabel(\"y\")\n",
    "    plt.axis([-3, 3, 0, 10])\n",
    "    plt.show()"
   ]
  },
  {
   "cell_type": "code",
   "execution_count": 39,
   "id": "b63f3fb2",
   "metadata": {},
   "outputs": [
    {
     "data": {
      "image/png": "[encoded data removed]",
      "text/plain": [
       "<Figure size 432x288 with 1 Axes>"
      ]
     },
     "metadata": {
      "needs_background": "light"
     },
     "output_type": "display_data"
    }
   ],
   "source": [
    "polynomial_regression(250)"
   ]
  },
  {
   "cell_type": "code",
   "execution_count": 40,
   "id": "f5f26eaf",
   "metadata": {},
   "outputs": [],
   "source": [
    "# 3D polynomial regression\n",
    "x = 7 * np.random.rand(100, 1) - 2.8\n",
    "y = 7 * np.random.rand(100, 1) - 2.8\n",
    "\n",
    "z = x**2 + y**2 + 0.2*x + 0.2*y + 0.1*x*y +2 + np.random.randn(100, 1)\n",
    "# z = x^2 + y^2 + 0.2x + 0.2y + 0.1xy + 2"
   ]
  },
  {
   "cell_type": "code",
   "execution_count": 42,
   "id": "ab340c09",
   "metadata": {},
   "outputs": [
    {
     "data": {
      "application/vnd.plotly.v1+json": {
       "config": {
        "plotlyServerURL": "https://plot.ly"
       },
       "data": [
        {
         "hovertemplate": "x=%{x}<br>y=%{y}<br>z=%{z}<extra></extra>",
         "legendgroup": "",
         "marker": {
          "color": "#636efa",
          "symbol": "circle"
         },
         "mode": "markers",
         "name": "",
         "scene": "scene",
         "showlegend": false,
         "type": "scatter3d",
         "x": [
          -2.4053608376327364,
          0.35570769273859915,
          1.771037087369197,
          -0.27262200857320984,
          -1.4383853658236787,
          -1.9948255691988674,
          -0.2551078636036954,
          -0.23441893034059946,
          3.442605755854858,
          -0.4226582798371372,
          -1.600405377089258,
          -2.5435101754658898,
          2.809220199831687,
          3.221738824540764,
          3.649494915155855,
          -1.8643493667199094,
          -0.7794804716848396,
          2.3471875210642317,
          2.9775009385167497,
          -0.44468744541747274,
          0.10080395885664206,
          3.353644307377265,
          4.0355031535690316,
          0.2080863982146477,
          -2.7796731212916885,
          -0.77361252793099,
          0.7884967620266661,
          2.3861678535668807,
          -2.617897077449754,
          2.1056726942378408,
          1.7137729086225546,
          0.8059484434170008,
          2.0771964597655357,
          1.205628981049645,
          2.9234862125735424,
          2.355103883117713,
          3.946018149779447,
          3.5816338605242395,
          -1.1147477002783455,
          -1.2374476756861994,
          -2.369857798491674,
          -2.046775528133515,
          1.0138539392285697,
          1.7861533654436546,
          -0.6178869912450802,
          3.587154835470301,
          -0.6013000831868114,
          0.00834841273027509,
          2.8580998570294334,
          0.674637416417426,
          -0.4832681267176113,
          0.9715565156736803,
          2.8317936535766446,
          0.8082241250104425,
          2.2854833850353105,
          1.7746126611971391,
          0.9404004992675183,
          3.557039185971462,
          1.3835237389612907,
          2.8408564314798808,
          -2.684327931630194,
          2.6033084839776732,
          1.6553473497974434,
          -2.7862921753118304,
          0.5320505614718232,
          3.192938577942937,
          -1.7373281685206123,
          0.04748145278972338,
          1.9070343577349735,
          -1.9407485797217001,
          -1.772517576148641,
          0.6336397558497104,
          -0.3308721470418816,
          3.3574360872268345,
          2.467308869541589,
          -0.19845507247059668,
          -1.2327389147490737,
          -2.566146540083623,
          0.5586107170491221,
          1.9956728136130177,
          -1.8204922638877672,
          1.3747175247911327,
          -2.499408456640417,
          1.0411890728849764,
          -2.4943049792846965,
          3.24610803029375,
          -2.523270032876205,
          0.06619653577101126,
          1.0044958964348134,
          0.5506047955607176,
          0.00885768798036235,
          2.946150622541306,
          3.563026915389824,
          3.0140295802852846,
          -0.5797095451978436,
          0.6293743329130255,
          1.4815693486295034,
          0.3651798967808708,
          -2.4787334407053847,
          -0.6448312714453985
         ],
         "y": [
          -1.522382421999041,
          0.45374402446081064,
          -1.4676241530937526,
          1.059859769748082,
          1.5774444911783423,
          2.66182684808314,
          -2.1260209669899064,
          0.056868545326681286,
          1.393877153081764,
          0.8969642204483952,
          1.7099796139968948,
          0.8797829341349273,
          -0.9930358753979966,
          -2.799101210056959,
          1.7423569912293342,
          3.026698703062018,
          3.1485208002453975,
          0.12290866917914967,
          0.47225072588908823,
          0.24560632314993747,
          -0.33791464636421154,
          -0.5706341117267657,
          3.9394726142652745,
          -0.9061017948860997,
          -1.206783240263507,
          -1.7924770212236303,
          1.6316423813038385,
          2.366204533210264,
          1.4470140325837528,
          -1.0072298034105802,
          2.692551559979794,
          -2.6601309966192552,
          -0.8061745761443622,
          4.132099251040443,
          1.1745921419817789,
          0.6834468776238278,
          1.356942034986976,
          3.9068072045330675,
          2.0053901267868,
          -0.7166424933130875,
          -0.32374710991247735,
          0.9776221428987886,
          -0.7050646685406505,
          1.2216897653809928,
          3.910008424189294,
          1.2499797714131242,
          -1.5854889167359516,
          3.9059535871197975,
          -1.082225953437225,
          3.8675888895689967,
          0.9022665617065551,
          -2.147705790880354,
          -2.2998291317034223,
          0.9088823605399536,
          1.9675248843615982,
          2.0855167358412787,
          -0.39067938661405366,
          -2.123924643805622,
          0.12171737410563832,
          -0.29712383103204587,
          3.404866183168056,
          0.7258306246600164,
          -1.1380881403601466,
          -1.551287779652816,
          3.5577166021738185,
          3.812841651849479,
          3.7939503383564626,
          -0.30351887773655584,
          3.0751893156576875,
          1.4880073511228513,
          2.271160574267168,
          -0.10156841067212241,
          2.9477259009941665,
          -0.8141676216095814,
          -0.5152941879435269,
          0.05983181791548109,
          1.6846584820538384,
          1.38003741992594,
          1.733621129130948,
          -1.9511273291364728,
          -2.7493773257497507,
          0.7702809705673097,
          2.0764012794126785,
          -0.44924343826718793,
          1.2152745709354162,
          1.692163229848993,
          -1.0322079145867464,
          0.5708245332174693,
          1.522909519586249,
          2.5968799459424643,
          -0.17789706109852865,
          -1.641656092259412,
          -0.226221483633684,
          -2.2275462232427854,
          1.311772592379823,
          0.06987241283693502,
          2.110647366547018,
          -0.28993146986914775,
          0.39832243981906146,
          1.496455414885352
         ],
         "z": [
          11.599142732089277,
          2.9159979782531664,
          6.133466355307469,
          3.874108313297492,
          6.257583684990187,
          12.991354549136965,
          5.208166323517682,
          3.8345188899919957,
          16.90126249870179,
          4.245125985621281,
          6.206096530315248,
          8.752457236618246,
          10.271896367652387,
          19.61687547784378,
          18.394435525437295,
          15.274256033092499,
          10.83495434234949,
          6.45915259411862,
          11.921656606174787,
          1.4690844015568307,
          3.947561830176737,
          14.214507696307841,
          36.57109758292118,
          3.8158531328284537,
          12.503002588387286,
          6.506980312075961,
          4.792233538787846,
          14.579112947459372,
          9.358999142051417,
          7.533945684049049,
          13.223563120335081,
          9.540551516064243,
          8.20295760581524,
          21.916367407267785,
          13.923697325280388,
          10.200211516744645,
          20.07263929416775,
          34.548612315439314,
          7.3818369028971835,
          4.71753050603835,
          6.339181752964698,
          7.537367423759406,
          1.6432949489654647,
          7.547194724295302,
          17.033201979807618,
          15.698883293092157,
          2.560203183163164,
          18.357803867376536,
          12.508255467910129,
          18.458542742326923,
          2.3175728592094074,
          6.663807511061313,
          14.403541720291804,
          4.303547437077338,
          13.563818460055536,
          11.825408111787786,
          2.951164693279903,
          17.672824621222475,
          6.306748486029786,
          11.24077558272862,
          20.046054543755574,
          10.029932542807497,
          7.564929957770417,
          11.09576096297063,
          16.569142094011788,
          29.128657418553388,
          20.134831288279347,
          2.465911864527075,
          17.923926026852634,
          9.252421857043426,
          11.920794663732458,
          4.017739299161346,
          11.31316106776564,
          13.506206921161464,
          10.02677929679303,
          3.286024952051533,
          6.62248152762765,
          11.762764396421513,
          5.385330283212823,
          8.861717717258346,
          13.531377204584516,
          5.364389038245294,
          11.924990297294645,
          4.873375408118887,
          9.607822782271354,
          18.24237514034274,
          10.34305922245447,
          2.5157947393459437,
          5.290855584864985,
          10.655670439575745,
          1.761367576586988,
          12.488095269420405,
          15.389483990370973,
          16.102562534375327,
          4.712664834488074,
          2.011327495726987,
          8.246167443063232,
          1.985375824416235,
          5.9899292327087235,
          5.577246942124796
         ]
        }
       ],
       "layout": {
        "legend": {
         "tracegroupgap": 0
        },
        "margin": {
         "t": 60
        },
        "scene": {
         "domain": {
          "x": [
           0,
           1
          ],
          "y": [
           0,
           1
          ]
         },
         "xaxis": {
          "title": {
           "text": "x"
          }
         },
         "yaxis": {
          "title": {
           "text": "y"
          }
         },
         "zaxis": {
          "title": {
           "text": "z"
          }
         }
        },
        "template": {
         "data": {
          "bar": [
           {
            "error_x": {
             "color": "#2a3f5f"
            },
            "error_y": {
             "color": "#2a3f5f"
            },
            "marker": {
             "line": {
              "color": "#E5ECF6",
              "width": 0.5
             },
             "pattern": {
              "fillmode": "overlay",
              "size": 10,
              "solidity": 0.2
             }
            },
            "type": "bar"
           }
          ],
          "barpolar": [
           {
            "marker": {
             "line": {
              "color": "#E5ECF6",
              "width": 0.5
             },
             "pattern": {
              "fillmode": "overlay",
              "size": 10,
              "solidity": 0.2
             }
            },
            "type": "barpolar"
           }
          ],
          "carpet": [
           {
            "aaxis": {
             "endlinecolor": "#2a3f5f",
             "gridcolor": "white",
             "linecolor": "white",
             "minorgridcolor": "white",
             "startlinecolor": "#2a3f5f"
            },
            "baxis": {
             "endlinecolor": "#2a3f5f",
             "gridcolor": "white",
             "linecolor": "white",
             "minorgridcolor": "white",
             "startlinecolor": "#2a3f5f"
            },
            "type": "carpet"
           }
          ],
          "choropleth": [
           {
            "colorbar": {
             "outlinewidth": 0,
             "ticks": ""
            },
            "type": "choropleth"
           }
          ],
          "contour": [
           {
            "colorbar": {
             "outlinewidth": 0,
             "ticks": ""
            },
            "colorscale": [
             [
              0,
              "#0d0887"
             ],
             [
              0.1111111111111111,
              "#46039f"
             ],
             [
              0.2222222222222222,
              "#7201a8"
             ],
             [
              0.3333333333333333,
              "#9c179e"
             ],
             [
              0.4444444444444444,
              "#bd3786"
             ],
             [
              0.5555555555555556,
              "#d8576b"
             ],
             [
              0.6666666666666666,
              "#ed7953"
             ],
             [
              0.7777777777777778,
              "#fb9f3a"
             ],
             [
              0.8888888888888888,
              "#fdca26"
             ],
             [
              1,
              "#f0f921"
             ]
            ],
            "type": "contour"
           }
          ],
          "contourcarpet": [
           {
            "colorbar": {
             "outlinewidth": 0,
             "ticks": ""
            },
            "type": "contourcarpet"
           }
          ],
          "heatmap": [
           {
            "colorbar": {
             "outlinewidth": 0,
             "ticks": ""
            },
            "colorscale": [
             [
              0,
              "#0d0887"
             ],
             [
              0.1111111111111111,
              "#46039f"
             ],
             [
              0.2222222222222222,
              "#7201a8"
             ],
             [
              0.3333333333333333,
              "#9c179e"
             ],
             [
              0.4444444444444444,
              "#bd3786"
             ],
             [
              0.5555555555555556,
              "#d8576b"
             ],
             [
              0.6666666666666666,
              "#ed7953"
             ],
             [
              0.7777777777777778,
              "#fb9f3a"
             ],
             [
              0.8888888888888888,
              "#fdca26"
             ],
             [
              1,
              "#f0f921"
             ]
            ],
            "type": "heatmap"
           }
          ],
          "heatmapgl": [
           {
            "colorbar": {
             "outlinewidth": 0,
             "ticks": ""
            },
            "colorscale": [
             [
              0,
              "#0d0887"
             ],
             [
              0.1111111111111111,
              "#46039f"
             ],
             [
              0.2222222222222222,
              "#7201a8"
             ],
             [
              0.3333333333333333,
              "#9c179e"
             ],
             [
              0.4444444444444444,
              "#bd3786"
             ],
             [
              0.5555555555555556,
              "#d8576b"
             ],
             [
              0.6666666666666666,
              "#ed7953"
             ],
             [
              0.7777777777777778,
              "#fb9f3a"
             ],
             [
              0.8888888888888888,
              "#fdca26"
             ],
             [
              1,
              "#f0f921"
             ]
            ],
            "type": "heatmapgl"
           }
          ],
          "histogram": [
           {
            "marker": {
             "pattern": {
              "fillmode": "overlay",
              "size": 10,
              "solidity": 0.2
             }
            },
            "type": "histogram"
           }
          ],
          "histogram2d": [
           {
            "colorbar": {
             "outlinewidth": 0,
             "ticks": ""
            },
            "colorscale": [
             [
              0,
              "#0d0887"
             ],
             [
              0.1111111111111111,
              "#46039f"
             ],
             [
              0.2222222222222222,
              "#7201a8"
             ],
             [
              0.3333333333333333,
              "#9c179e"
             ],
             [
              0.4444444444444444,
              "#bd3786"
             ],
             [
              0.5555555555555556,
              "#d8576b"
             ],
             [
              0.6666666666666666,
              "#ed7953"
             ],
             [
              0.7777777777777778,
              "#fb9f3a"
             ],
             [
              0.8888888888888888,
              "#fdca26"
             ],
             [
              1,
              "#f0f921"
             ]
            ],
            "type": "histogram2d"
           }
          ],
          "histogram2dcontour": [
           {
            "colorbar": {
             "outlinewidth": 0,
             "ticks": ""
            },
            "colorscale": [
             [
              0,
              "#0d0887"
             ],
             [
              0.1111111111111111,
              "#46039f"
             ],
             [
              0.2222222222222222,
              "#7201a8"
             ],
             [
              0.3333333333333333,
              "#9c179e"
             ],
             [
              0.4444444444444444,
              "#bd3786"
             ],
             [
              0.5555555555555556,
              "#d8576b"
             ],
             [
              0.6666666666666666,
              "#ed7953"
             ],
             [
              0.7777777777777778,
              "#fb9f3a"
             ],
             [
              0.8888888888888888,
              "#fdca26"
             ],
             [
              1,
              "#f0f921"
             ]
            ],
            "type": "histogram2dcontour"
           }
          ],
          "mesh3d": [
           {
            "colorbar": {
             "outlinewidth": 0,
             "ticks": ""
            },
            "type": "mesh3d"
           }
          ],
          "parcoords": [
           {
            "line": {
             "colorbar": {
              "outlinewidth": 0,
              "ticks": ""
             }
            },
            "type": "parcoords"
           }
          ],
          "pie": [
           {
            "automargin": true,
            "type": "pie"
           }
          ],
          "scatter": [
           {
            "fillpattern": {
             "fillmode": "overlay",
             "size": 10,
             "solidity": 0.2
            },
            "type": "scatter"
           }
          ],
          "scatter3d": [
           {
            "line": {
             "colorbar": {
              "outlinewidth": 0,
              "ticks": ""
             }
            },
            "marker": {
             "colorbar": {
              "outlinewidth": 0,
              "ticks": ""
             }
            },
            "type": "scatter3d"
           }
          ],
          "scattercarpet": [
           {
            "marker": {
             "colorbar": {
              "outlinewidth": 0,
              "ticks": ""
             }
            },
            "type": "scattercarpet"
           }
          ],
          "scattergeo": [
           {
            "marker": {
             "colorbar": {
              "outlinewidth": 0,
              "ticks": ""
             }
            },
            "type": "scattergeo"
           }
          ],
          "scattergl": [
           {
            "marker": {
             "colorbar": {
              "outlinewidth": 0,
              "ticks": ""
             }
            },
            "type": "scattergl"
           }
          ],
          "scattermapbox": [
           {
            "marker": {
             "colorbar": {
              "outlinewidth": 0,
              "ticks": ""
             }
            },
            "type": "scattermapbox"
           }
          ],
          "scatterpolar": [
           {
            "marker": {
             "colorbar": {
              "outlinewidth": 0,
              "ticks": ""
             }
            },
            "type": "scatterpolar"
           }
          ],
          "scatterpolargl": [
           {
            "marker": {
             "colorbar": {
              "outlinewidth": 0,
              "ticks": ""
             }
            },
            "type": "scatterpolargl"
           }
          ],
          "scatterternary": [
           {
            "marker": {
             "colorbar": {
              "outlinewidth": 0,
              "ticks": ""
             }
            },
            "type": "scatterternary"
           }
          ],
          "surface": [
           {
            "colorbar": {
             "outlinewidth": 0,
             "ticks": ""
            },
            "colorscale": [
             [
              0,
              "#0d0887"
             ],
             [
              0.1111111111111111,
              "#46039f"
             ],
             [
              0.2222222222222222,
              "#7201a8"
             ],
             [
              0.3333333333333333,
              "#9c179e"
             ],
             [
              0.4444444444444444,
              "#bd3786"
             ],
             [
              0.5555555555555556,
              "#d8576b"
             ],
             [
              0.6666666666666666,
              "#ed7953"
             ],
             [
              0.7777777777777778,
              "#fb9f3a"
             ],
             [
              0.8888888888888888,
              "#fdca26"
             ],
             [
              1,
              "#f0f921"
             ]
            ],
            "type": "surface"
           }
          ],
          "table": [
           {
            "cells": {
             "fill": {
              "color": "#EBF0F8"
             },
             "line": {
              "color": "white"
             }
            },
            "header": {
             "fill": {
              "color": "#C8D4E3"
             },
             "line": {
              "color": "white"
             }
            },
            "type": "table"
           }
          ]
         },
         "layout": {
          "annotationdefaults": {
           "arrowcolor": "#2a3f5f",
           "arrowhead": 0,
           "arrowwidth": 1
          },
          "autotypenumbers": "strict",
          "coloraxis": {
           "colorbar": {
            "outlinewidth": 0,
            "ticks": ""
           }
          },
          "colorscale": {
           "diverging": [
            [
             0,
             "#8e0152"
            ],
            [
             0.1,
             "#c51b7d"
            ],
            [
             0.2,
             "#de77ae"
            ],
            [
             0.3,
             "#f1b6da"
            ],
            [
             0.4,
             "#fde0ef"
            ],
            [
             0.5,
             "#f7f7f7"
            ],
            [
             0.6,
             "#e6f5d0"
            ],
            [
             0.7,
             "#b8e186"
            ],
            [
             0.8,
             "#7fbc41"
            ],
            [
             0.9,
             "#4d9221"
            ],
            [
             1,
             "#276419"
            ]
           ],
           "sequential": [
            [
             0,
             "#0d0887"
            ],
            [
             0.1111111111111111,
             "#46039f"
            ],
            [
             0.2222222222222222,
             "#7201a8"
            ],
            [
             0.3333333333333333,
             "#9c179e"
            ],
            [
             0.4444444444444444,
             "#bd3786"
            ],
            [
             0.5555555555555556,
             "#d8576b"
            ],
            [
             0.6666666666666666,
             "#ed7953"
            ],
            [
             0.7777777777777778,
             "#fb9f3a"
            ],
            [
             0.8888888888888888,
             "#fdca26"
            ],
            [
             1,
             "#f0f921"
            ]
           ],
           "sequentialminus": [
            [
             0,
             "#0d0887"
            ],
            [
             0.1111111111111111,
             "#46039f"
            ],
            [
             0.2222222222222222,
             "#7201a8"
            ],
            [
             0.3333333333333333,
             "#9c179e"
            ],
            [
             0.4444444444444444,
             "#bd3786"
            ],
            [
             0.5555555555555556,
             "#d8576b"
            ],
            [
             0.6666666666666666,
             "#ed7953"
            ],
            [
             0.7777777777777778,
             "#fb9f3a"
            ],
            [
             0.8888888888888888,
             "#fdca26"
            ],
            [
             1,
             "#f0f921"
            ]
           ]
          },
          "colorway": [
           "#636efa",
           "#EF553B",
           "#00cc96",
           "#ab63fa",
           "#FFA15A",
           "#19d3f3",
           "#FF6692",
           "#B6E880",
           "#FF97FF",
           "#FECB52"
          ],
          "font": {
           "color": "#2a3f5f"
          },
          "geo": {
           "bgcolor": "white",
           "lakecolor": "white",
           "landcolor": "#E5ECF6",
           "showlakes": true,
           "showland": true,
           "subunitcolor": "white"
          },
          "hoverlabel": {
           "align": "left"
          },
          "hovermode": "closest",
          "mapbox": {
           "style": "light"
          },
          "paper_bgcolor": "white",
          "plot_bgcolor": "#E5ECF6",
          "polar": {
           "angularaxis": {
            "gridcolor": "white",
            "linecolor": "white",
            "ticks": ""
           },
           "bgcolor": "#E5ECF6",
           "radialaxis": {
            "gridcolor": "white",
            "linecolor": "white",
            "ticks": ""
           }
          },
          "scene": {
           "xaxis": {
            "backgroundcolor": "#E5ECF6",
            "gridcolor": "white",
            "gridwidth": 2,
            "linecolor": "white",
            "showbackground": true,
            "ticks": "",
            "zerolinecolor": "white"
           },
           "yaxis": {
            "backgroundcolor": "#E5ECF6",
            "gridcolor": "white",
            "gridwidth": 2,
            "linecolor": "white",
            "showbackground": true,
            "ticks": "",
            "zerolinecolor": "white"
           },
           "zaxis": {
            "backgroundcolor": "#E5ECF6",
            "gridcolor": "white",
            "gridwidth": 2,
            "linecolor": "white",
            "showbackground": true,
            "ticks": "",
            "zerolinecolor": "white"
           }
          },
          "shapedefaults": {
           "line": {
            "color": "#2a3f5f"
           }
          },
          "ternary": {
           "aaxis": {
            "gridcolor": "white",
            "linecolor": "white",
            "ticks": ""
           },
           "baxis": {
            "gridcolor": "white",
            "linecolor": "white",
            "ticks": ""
           },
           "bgcolor": "#E5ECF6",
           "caxis": {
            "gridcolor": "white",
            "linecolor": "white",
            "ticks": ""
           }
          },
          "title": {
           "x": 0.05
          },
          "xaxis": {
           "automargin": true,
           "gridcolor": "white",
           "linecolor": "white",
           "ticks": "",
           "title": {
            "standoff": 15
           },
           "zerolinecolor": "white",
           "zerolinewidth": 2
          },
          "yaxis": {
           "automargin": true,
           "gridcolor": "white",
           "linecolor": "white",
           "ticks": "",
           "title": {
            "standoff": 15
           },
           "zerolinecolor": "white",
           "zerolinewidth": 2
          }
         }
        }
       }
      },
      "text/html": [
       "<div>                            <div id=\"60e94482-d6d5-441f-a484-6787a7596207\" class=\"plotly-graph-div\" style=\"height:525px; width:100%;\"></div>            <script type=\"text/javascript\">                require([\"plotly\"], function(Plotly) {                    window.PLOTLYENV=window.PLOTLYENV || {};                                    if (document.getElementById(\"60e94482-d6d5-441f-a484-6787a7596207\")) {                    Plotly.newPlot(                        \"60e94482-d6d5-441f-a484-6787a7596207\",                        [{\"hovertemplate\":\"x=%{x}<br>y=%{y}<br>z=%{z}<extra></extra>\",\"legendgroup\":\"\",\"marker\":{\"color\":\"#636efa\",\"symbol\":\"circle\"},\"mode\":\"markers\",\"name\":\"\",\"scene\":\"scene\",\"showlegend\":false,\"x\":[-2.4053608376327364,0.35570769273859915,1.771037087369197,-0.27262200857320984,-1.4383853658236787,-1.9948255691988674,-0.2551078636036954,-0.23441893034059946,3.442605755854858,-0.4226582798371372,-1.600405377089258,-2.5435101754658898,2.809220199831687,3.221738824540764,3.649494915155855,-1.8643493667199094,-0.7794804716848396,2.3471875210642317,2.9775009385167497,-0.44468744541747274,0.10080395885664206,3.353644307377265,4.0355031535690316,0.2080863982146477,-2.7796731212916885,-0.77361252793099,0.7884967620266661,2.3861678535668807,-2.617897077449754,2.1056726942378408,1.7137729086225546,0.8059484434170008,2.0771964597655357,1.205628981049645,2.9234862125735424,2.355103883117713,3.946018149779447,3.5816338605242395,-1.1147477002783455,-1.2374476756861994,-2.369857798491674,-2.046775528133515,1.0138539392285697,1.7861533654436546,-0.6178869912450802,3.587154835470301,-0.6013000831868114,0.00834841273027509,2.8580998570294334,0.674637416417426,-0.4832681267176113,0.9715565156736803,2.8317936535766446,0.8082241250104425,2.2854833850353105,1.7746126611971391,0.9404004992675183,3.557039185971462,1.3835237389612907,2.8408564314798808,-2.684327931630194,2.6033084839776732,1.6553473497974434,-2.7862921753118304,0.5320505614718232,3.192938577942937,-1.7373281685206123,0.04748145278972338,1.9070343577349735,-1.9407485797217001,-1.772517576148641,0.6336397558497104,-0.3308721470418816,3.3574360872268345,2.467308869541589,-0.19845507247059668,-1.2327389147490737,-2.566146540083623,0.5586107170491221,1.9956728136130177,-1.8204922638877672,1.3747175247911327,-2.499408456640417,1.0411890728849764,-2.4943049792846965,3.24610803029375,-2.523270032876205,0.06619653577101126,1.0044958964348134,0.5506047955607176,0.00885768798036235,2.946150622541306,3.563026915389824,3.0140295802852846,-0.5797095451978436,0.6293743329130255,1.4815693486295034,0.3651798967808708,-2.4787334407053847,-0.6448312714453985],\"y\":[-1.522382421999041,0.45374402446081064,-1.4676241530937526,1.059859769748082,1.5774444911783423,2.66182684808314,-2.1260209669899064,0.056868545326681286,1.393877153081764,0.8969642204483952,1.7099796139968948,0.8797829341349273,-0.9930358753979966,-2.799101210056959,1.7423569912293342,3.026698703062018,3.1485208002453975,0.12290866917914967,0.47225072588908823,0.24560632314993747,-0.33791464636421154,-0.5706341117267657,3.9394726142652745,-0.9061017948860997,-1.206783240263507,-1.7924770212236303,1.6316423813038385,2.366204533210264,1.4470140325837528,-1.0072298034105802,2.692551559979794,-2.6601309966192552,-0.8061745761443622,4.132099251040443,1.1745921419817789,0.6834468776238278,1.356942034986976,3.9068072045330675,2.0053901267868,-0.7166424933130875,-0.32374710991247735,0.9776221428987886,-0.7050646685406505,1.2216897653809928,3.910008424189294,1.2499797714131242,-1.5854889167359516,3.9059535871197975,-1.082225953437225,3.8675888895689967,0.9022665617065551,-2.147705790880354,-2.2998291317034223,0.9088823605399536,1.9675248843615982,2.0855167358412787,-0.39067938661405366,-2.123924643805622,0.12171737410563832,-0.29712383103204587,3.404866183168056,0.7258306246600164,-1.1380881403601466,-1.551287779652816,3.5577166021738185,3.812841651849479,3.7939503383564626,-0.30351887773655584,3.0751893156576875,1.4880073511228513,2.271160574267168,-0.10156841067212241,2.9477259009941665,-0.8141676216095814,-0.5152941879435269,0.05983181791548109,1.6846584820538384,1.38003741992594,1.733621129130948,-1.9511273291364728,-2.7493773257497507,0.7702809705673097,2.0764012794126785,-0.44924343826718793,1.2152745709354162,1.692163229848993,-1.0322079145867464,0.5708245332174693,1.522909519586249,2.5968799459424643,-0.17789706109852865,-1.641656092259412,-0.226221483633684,-2.2275462232427854,1.311772592379823,0.06987241283693502,2.110647366547018,-0.28993146986914775,0.39832243981906146,1.496455414885352],\"z\":[11.599142732089277,2.9159979782531664,6.133466355307469,3.874108313297492,6.257583684990187,12.991354549136965,5.208166323517682,3.8345188899919957,16.90126249870179,4.245125985621281,6.206096530315248,8.752457236618246,10.271896367652387,19.61687547784378,18.394435525437295,15.274256033092499,10.83495434234949,6.45915259411862,11.921656606174787,1.4690844015568307,3.947561830176737,14.214507696307841,36.57109758292118,3.8158531328284537,12.503002588387286,6.506980312075961,4.792233538787846,14.579112947459372,9.358999142051417,7.533945684049049,13.223563120335081,9.540551516064243,8.20295760581524,21.916367407267785,13.923697325280388,10.200211516744645,20.07263929416775,34.548612315439314,7.3818369028971835,4.71753050603835,6.339181752964698,7.537367423759406,1.6432949489654647,7.547194724295302,17.033201979807618,15.698883293092157,2.560203183163164,18.357803867376536,12.508255467910129,18.458542742326923,2.3175728592094074,6.663807511061313,14.403541720291804,4.303547437077338,13.563818460055536,11.825408111787786,2.951164693279903,17.672824621222475,6.306748486029786,11.24077558272862,20.046054543755574,10.029932542807497,7.564929957770417,11.09576096297063,16.569142094011788,29.128657418553388,20.134831288279347,2.465911864527075,17.923926026852634,9.252421857043426,11.920794663732458,4.017739299161346,11.31316106776564,13.506206921161464,10.02677929679303,3.286024952051533,6.62248152762765,11.762764396421513,5.385330283212823,8.861717717258346,13.531377204584516,5.364389038245294,11.924990297294645,4.873375408118887,9.607822782271354,18.24237514034274,10.34305922245447,2.5157947393459437,5.290855584864985,10.655670439575745,1.761367576586988,12.488095269420405,15.389483990370973,16.102562534375327,4.712664834488074,2.011327495726987,8.246167443063232,1.985375824416235,5.9899292327087235,5.577246942124796],\"type\":\"scatter3d\"}],                        {\"template\":{\"data\":{\"histogram2dcontour\":[{\"type\":\"histogram2dcontour\",\"colorbar\":{\"outlinewidth\":0,\"ticks\":\"\"},\"colorscale\":[[0.0,\"#0d0887\"],[0.1111111111111111,\"#46039f\"],[0.2222222222222222,\"#7201a8\"],[0.3333333333333333,\"#9c179e\"],[0.4444444444444444,\"#bd3786\"],[0.5555555555555556,\"#d8576b\"],[0.6666666666666666,\"#ed7953\"],[0.7777777777777778,\"#fb9f3a\"],[0.8888888888888888,\"#fdca26\"],[1.0,\"#f0f921\"]]}],\"choropleth\":[{\"type\":\"choropleth\",\"colorbar\":{\"outlinewidth\":0,\"ticks\":\"\"}}],\"histogram2d\":[{\"type\":\"histogram2d\",\"colorbar\":{\"outlinewidth\":0,\"ticks\":\"\"},\"colorscale\":[[0.0,\"#0d0887\"],[0.1111111111111111,\"#46039f\"],[0.2222222222222222,\"#7201a8\"],[0.3333333333333333,\"#9c179e\"],[0.4444444444444444,\"#bd3786\"],[0.5555555555555556,\"#d8576b\"],[0.6666666666666666,\"#ed7953\"],[0.7777777777777778,\"#fb9f3a\"],[0.8888888888888888,\"#fdca26\"],[1.0,\"#f0f921\"]]}],\"heatmap\":[{\"type\":\"heatmap\",\"colorbar\":{\"outlinewidth\":0,\"ticks\":\"\"},\"colorscale\":[[0.0,\"#0d0887\"],[0.1111111111111111,\"#46039f\"],[0.2222222222222222,\"#7201a8\"],[0.3333333333333333,\"#9c179e\"],[0.4444444444444444,\"#bd3786\"],[0.5555555555555556,\"#d8576b\"],[0.6666666666666666,\"#ed7953\"],[0.7777777777777778,\"#fb9f3a\"],[0.8888888888888888,\"#fdca26\"],[1.0,\"#f0f921\"]]}],\"heatmapgl\":[{\"type\":\"heatmapgl\",\"colorbar\":{\"outlinewidth\":0,\"ticks\":\"\"},\"colorscale\":[[0.0,\"#0d0887\"],[0.1111111111111111,\"#46039f\"],[0.2222222222222222,\"#7201a8\"],[0.3333333333333333,\"#9c179e\"],[0.4444444444444444,\"#bd3786\"],[0.5555555555555556,\"#d8576b\"],[0.6666666666666666,\"#ed7953\"],[0.7777777777777778,\"#fb9f3a\"],[0.8888888888888888,\"#fdca26\"],[1.0,\"#f0f921\"]]}],\"contourcarpet\":[{\"type\":\"contourcarpet\",\"colorbar\":{\"outlinewidth\":0,\"ticks\":\"\"}}],\"contour\":[{\"type\":\"contour\",\"colorbar\":{\"outlinewidth\":0,\"ticks\":\"\"},\"colorscale\":[[0.0,\"#0d0887\"],[0.1111111111111111,\"#46039f\"],[0.2222222222222222,\"#7201a8\"],[0.3333333333333333,\"#9c179e\"],[0.4444444444444444,\"#bd3786\"],[0.5555555555555556,\"#d8576b\"],[0.6666666666666666,\"#ed7953\"],[0.7777777777777778,\"#fb9f3a\"],[0.8888888888888888,\"#fdca26\"],[1.0,\"#f0f921\"]]}],\"surface\":[{\"type\":\"surface\",\"colorbar\":{\"outlinewidth\":0,\"ticks\":\"\"},\"colorscale\":[[0.0,\"#0d0887\"],[0.1111111111111111,\"#46039f\"],[0.2222222222222222,\"#7201a8\"],[0.3333333333333333,\"#9c179e\"],[0.4444444444444444,\"#bd3786\"],[0.5555555555555556,\"#d8576b\"],[0.6666666666666666,\"#ed7953\"],[0.7777777777777778,\"#fb9f3a\"],[0.8888888888888888,\"#fdca26\"],[1.0,\"#f0f921\"]]}],\"mesh3d\":[{\"type\":\"mesh3d\",\"colorbar\":{\"outlinewidth\":0,\"ticks\":\"\"}}],\"scatter\":[{\"fillpattern\":{\"fillmode\":\"overlay\",\"size\":10,\"solidity\":0.2},\"type\":\"scatter\"}],\"parcoords\":[{\"type\":\"parcoords\",\"line\":{\"colorbar\":{\"outlinewidth\":0,\"ticks\":\"\"}}}],\"scatterpolargl\":[{\"type\":\"scatterpolargl\",\"marker\":{\"colorbar\":{\"outlinewidth\":0,\"ticks\":\"\"}}}],\"bar\":[{\"error_x\":{\"color\":\"#2a3f5f\"},\"error_y\":{\"color\":\"#2a3f5f\"},\"marker\":{\"line\":{\"color\":\"#E5ECF6\",\"width\":0.5},\"pattern\":{\"fillmode\":\"overlay\",\"size\":10,\"solidity\":0.2}},\"type\":\"bar\"}],\"scattergeo\":[{\"type\":\"scattergeo\",\"marker\":{\"colorbar\":{\"outlinewidth\":0,\"ticks\":\"\"}}}],\"scatterpolar\":[{\"type\":\"scatterpolar\",\"marker\":{\"colorbar\":{\"outlinewidth\":0,\"ticks\":\"\"}}}],\"histogram\":[{\"marker\":{\"pattern\":{\"fillmode\":\"overlay\",\"size\":10,\"solidity\":0.2}},\"type\":\"histogram\"}],\"scattergl\":[{\"type\":\"scattergl\",\"marker\":{\"colorbar\":{\"outlinewidth\":0,\"ticks\":\"\"}}}],\"scatter3d\":[{\"type\":\"scatter3d\",\"line\":{\"colorbar\":{\"outlinewidth\":0,\"ticks\":\"\"}},\"marker\":{\"colorbar\":{\"outlinewidth\":0,\"ticks\":\"\"}}}],\"scattermapbox\":[{\"type\":\"scattermapbox\",\"marker\":{\"colorbar\":{\"outlinewidth\":0,\"ticks\":\"\"}}}],\"scatterternary\":[{\"type\":\"scatterternary\",\"marker\":{\"colorbar\":{\"outlinewidth\":0,\"ticks\":\"\"}}}],\"scattercarpet\":[{\"type\":\"scattercarpet\",\"marker\":{\"colorbar\":{\"outlinewidth\":0,\"ticks\":\"\"}}}],\"carpet\":[{\"aaxis\":{\"endlinecolor\":\"#2a3f5f\",\"gridcolor\":\"white\",\"linecolor\":\"white\",\"minorgridcolor\":\"white\",\"startlinecolor\":\"#2a3f5f\"},\"baxis\":{\"endlinecolor\":\"#2a3f5f\",\"gridcolor\":\"white\",\"linecolor\":\"white\",\"minorgridcolor\":\"white\",\"startlinecolor\":\"#2a3f5f\"},\"type\":\"carpet\"}],\"table\":[{\"cells\":{\"fill\":{\"color\":\"#EBF0F8\"},\"line\":{\"color\":\"white\"}},\"header\":{\"fill\":{\"color\":\"#C8D4E3\"},\"line\":{\"color\":\"white\"}},\"type\":\"table\"}],\"barpolar\":[{\"marker\":{\"line\":{\"color\":\"#E5ECF6\",\"width\":0.5},\"pattern\":{\"fillmode\":\"overlay\",\"size\":10,\"solidity\":0.2}},\"type\":\"barpolar\"}],\"pie\":[{\"automargin\":true,\"type\":\"pie\"}]},\"layout\":{\"autotypenumbers\":\"strict\",\"colorway\":[\"#636efa\",\"#EF553B\",\"#00cc96\",\"#ab63fa\",\"#FFA15A\",\"#19d3f3\",\"#FF6692\",\"#B6E880\",\"#FF97FF\",\"#FECB52\"],\"font\":{\"color\":\"#2a3f5f\"},\"hovermode\":\"closest\",\"hoverlabel\":{\"align\":\"left\"},\"paper_bgcolor\":\"white\",\"plot_bgcolor\":\"#E5ECF6\",\"polar\":{\"bgcolor\":\"#E5ECF6\",\"angularaxis\":{\"gridcolor\":\"white\",\"linecolor\":\"white\",\"ticks\":\"\"},\"radialaxis\":{\"gridcolor\":\"white\",\"linecolor\":\"white\",\"ticks\":\"\"}},\"ternary\":{\"bgcolor\":\"#E5ECF6\",\"aaxis\":{\"gridcolor\":\"white\",\"linecolor\":\"white\",\"ticks\":\"\"},\"baxis\":{\"gridcolor\":\"white\",\"linecolor\":\"white\",\"ticks\":\"\"},\"caxis\":{\"gridcolor\":\"white\",\"linecolor\":\"white\",\"ticks\":\"\"}},\"coloraxis\":{\"colorbar\":{\"outlinewidth\":0,\"ticks\":\"\"}},\"colorscale\":{\"sequential\":[[0.0,\"#0d0887\"],[0.1111111111111111,\"#46039f\"],[0.2222222222222222,\"#7201a8\"],[0.3333333333333333,\"#9c179e\"],[0.4444444444444444,\"#bd3786\"],[0.5555555555555556,\"#d8576b\"],[0.6666666666666666,\"#ed7953\"],[0.7777777777777778,\"#fb9f3a\"],[0.8888888888888888,\"#fdca26\"],[1.0,\"#f0f921\"]],\"sequentialminus\":[[0.0,\"#0d0887\"],[0.1111111111111111,\"#46039f\"],[0.2222222222222222,\"#7201a8\"],[0.3333333333333333,\"#9c179e\"],[0.4444444444444444,\"#bd3786\"],[0.5555555555555556,\"#d8576b\"],[0.6666666666666666,\"#ed7953\"],[0.7777777777777778,\"#fb9f3a\"],[0.8888888888888888,\"#fdca26\"],[1.0,\"#f0f921\"]],\"diverging\":[[0,\"#8e0152\"],[0.1,\"#c51b7d\"],[0.2,\"#de77ae\"],[0.3,\"#f1b6da\"],[0.4,\"#fde0ef\"],[0.5,\"#f7f7f7\"],[0.6,\"#e6f5d0\"],[0.7,\"#b8e186\"],[0.8,\"#7fbc41\"],[0.9,\"#4d9221\"],[1,\"#276419\"]]},\"xaxis\":{\"gridcolor\":\"white\",\"linecolor\":\"white\",\"ticks\":\"\",\"title\":{\"standoff\":15},\"zerolinecolor\":\"white\",\"automargin\":true,\"zerolinewidth\":2},\"yaxis\":{\"gridcolor\":\"white\",\"linecolor\":\"white\",\"ticks\":\"\",\"title\":{\"standoff\":15},\"zerolinecolor\":\"white\",\"automargin\":true,\"zerolinewidth\":2},\"scene\":{\"xaxis\":{\"backgroundcolor\":\"#E5ECF6\",\"gridcolor\":\"white\",\"linecolor\":\"white\",\"showbackground\":true,\"ticks\":\"\",\"zerolinecolor\":\"white\",\"gridwidth\":2},\"yaxis\":{\"backgroundcolor\":\"#E5ECF6\",\"gridcolor\":\"white\",\"linecolor\":\"white\",\"showbackground\":true,\"ticks\":\"\",\"zerolinecolor\":\"white\",\"gridwidth\":2},\"zaxis\":{\"backgroundcolor\":\"#E5ECF6\",\"gridcolor\":\"white\",\"linecolor\":\"white\",\"showbackground\":true,\"ticks\":\"\",\"zerolinecolor\":\"white\",\"gridwidth\":2}},\"shapedefaults\":{\"line\":{\"color\":\"#2a3f5f\"}},\"annotationdefaults\":{\"arrowcolor\":\"#2a3f5f\",\"arrowhead\":0,\"arrowwidth\":1},\"geo\":{\"bgcolor\":\"white\",\"landcolor\":\"#E5ECF6\",\"subunitcolor\":\"white\",\"showland\":true,\"showlakes\":true,\"lakecolor\":\"white\"},\"title\":{\"x\":0.05},\"mapbox\":{\"style\":\"light\"}}},\"scene\":{\"domain\":{\"x\":[0.0,1.0],\"y\":[0.0,1.0]},\"xaxis\":{\"title\":{\"text\":\"x\"}},\"yaxis\":{\"title\":{\"text\":\"y\"}},\"zaxis\":{\"title\":{\"text\":\"z\"}}},\"legend\":{\"tracegroupgap\":0},\"margin\":{\"t\":60}},                        {\"responsive\": true}                    ).then(function(){\n",
       "                            \n",
       "var gd = document.getElementById('60e94482-d6d5-441f-a484-6787a7596207');\n",
       "var x = new MutationObserver(function (mutations, observer) {{\n",
       "        var display = window.getComputedStyle(gd).display;\n",
       "        if (!display || display === 'none') {{\n",
       "            console.log([gd, 'removed!']);\n",
       "            Plotly.purge(gd);\n",
       "            observer.disconnect();\n",
       "        }}\n",
       "}});\n",
       "\n",
       "// Listen for the removal of the full notebook cells\n",
       "var notebookContainer = gd.closest('#notebook-container');\n",
       "if (notebookContainer) {{\n",
       "    x.observe(notebookContainer, {childList: true});\n",
       "}}\n",
       "\n",
       "// Listen for the clearing of the current output cell\n",
       "var outputEl = gd.closest('.output');\n",
       "if (outputEl) {{\n",
       "    x.observe(outputEl, {childList: true});\n",
       "}}\n",
       "\n",
       "                        })                };                });            </script>        </div>"
      ]
     },
     "metadata": {},
     "output_type": "display_data"
    }
   ],
   "source": [
    "import plotly.express as px\n",
    "df = px.data.iris()\n",
    "fig = px.scatter_3d(df, x=x.ravel(), y=y.ravel(), z=z.ravel())\n",
    "fig.show()"
   ]
  },
  {
   "cell_type": "code",
   "execution_count": 43,
   "id": "401f3cca",
   "metadata": {},
   "outputs": [],
   "source": [
    "lr = LinearRegression()\n",
    "lr.fit(np.array([x,y]).reshape(100,2),z)\n",
    "\n",
    "x_input = np.linspace(x.min(), x.max(), 10)\n",
    "y_input = np.linspace(y.min(), y.max(), 10)\n",
    "xGrid, yGrid = np.meshgrid(x_input,y_input)\n",
    "\n",
    "final = np.vstack((xGrid.ravel().reshape(1,100),yGrid.ravel().reshape(1,100))).T\n",
    "\n",
    "z_final = lr.predict(final).reshape(10,10)"
   ]
  },
  {
   "cell_type": "code",
   "execution_count": 44,
   "id": "46c6f5a3",
   "metadata": {},
   "outputs": [
    {
     "data": {
      "application/vnd.plotly.v1+json": {
       "config": {
        "plotlyServerURL": "https://plot.ly"
       },
       "data": [
        {
         "hovertemplate": "x=%{x}<br>y=%{y}<br>z=%{z}<extra></extra>",
         "legendgroup": "",
         "marker": {
          "color": "#636efa",
          "symbol": "circle"
         },
         "mode": "markers",
         "name": "",
         "scene": "scene",
         "showlegend": false,
         "type": "scatter3d",
         "x": [
          -2.4053608376327364,
          0.35570769273859915,
          1.771037087369197,
          -0.27262200857320984,
          -1.4383853658236787,
          -1.9948255691988674,
          -0.2551078636036954,
          -0.23441893034059946,
          3.442605755854858,
          -0.4226582798371372,
          -1.600405377089258,
          -2.5435101754658898,
          2.809220199831687,
          3.221738824540764,
          3.649494915155855,
          -1.8643493667199094,
          -0.7794804716848396,
          2.3471875210642317,
          2.9775009385167497,
          -0.44468744541747274,
          0.10080395885664206,
          3.353644307377265,
          4.0355031535690316,
          0.2080863982146477,
          -2.7796731212916885,
          -0.77361252793099,
          0.7884967620266661,
          2.3861678535668807,
          -2.617897077449754,
          2.1056726942378408,
          1.7137729086225546,
          0.8059484434170008,
          2.0771964597655357,
          1.205628981049645,
          2.9234862125735424,
          2.355103883117713,
          3.946018149779447,
          3.5816338605242395,
          -1.1147477002783455,
          -1.2374476756861994,
          -2.369857798491674,
          -2.046775528133515,
          1.0138539392285697,
          1.7861533654436546,
          -0.6178869912450802,
          3.587154835470301,
          -0.6013000831868114,
          0.00834841273027509,
          2.8580998570294334,
          0.674637416417426,
          -0.4832681267176113,
          0.9715565156736803,
          2.8317936535766446,
          0.8082241250104425,
          2.2854833850353105,
          1.7746126611971391,
          0.9404004992675183,
          3.557039185971462,
          1.3835237389612907,
          2.8408564314798808,
          -2.684327931630194,
          2.6033084839776732,
          1.6553473497974434,
          -2.7862921753118304,
          0.5320505614718232,
          3.192938577942937,
          -1.7373281685206123,
          0.04748145278972338,
          1.9070343577349735,
          -1.9407485797217001,
          -1.772517576148641,
          0.6336397558497104,
          -0.3308721470418816,
          3.3574360872268345,
          2.467308869541589,
          -0.19845507247059668,
          -1.2327389147490737,
          -2.566146540083623,
          0.5586107170491221,
          1.9956728136130177,
          -1.8204922638877672,
          1.3747175247911327,
          -2.499408456640417,
          1.0411890728849764,
          -2.4943049792846965,
          3.24610803029375,
          -2.523270032876205,
          0.06619653577101126,
          1.0044958964348134,
          0.5506047955607176,
          0.00885768798036235,
          2.946150622541306,
          3.563026915389824,
          3.0140295802852846,
          -0.5797095451978436,
          0.6293743329130255,
          1.4815693486295034,
          0.3651798967808708,
          -2.4787334407053847,
          -0.6448312714453985
         ],
         "y": [
          -1.522382421999041,
          0.45374402446081064,
          -1.4676241530937526,
          1.059859769748082,
          1.5774444911783423,
          2.66182684808314,
          -2.1260209669899064,
          0.056868545326681286,
          1.393877153081764,
          0.8969642204483952,
          1.7099796139968948,
          0.8797829341349273,
          -0.9930358753979966,
          -2.799101210056959,
          1.7423569912293342,
          3.026698703062018,
          3.1485208002453975,
          0.12290866917914967,
          0.47225072588908823,
          0.24560632314993747,
          -0.33791464636421154,
          -0.5706341117267657,
          3.9394726142652745,
          -0.9061017948860997,
          -1.206783240263507,
          -1.7924770212236303,
          1.6316423813038385,
          2.366204533210264,
          1.4470140325837528,
          -1.0072298034105802,
          2.692551559979794,
          -2.6601309966192552,
          -0.8061745761443622,
          4.132099251040443,
          1.1745921419817789,
          0.6834468776238278,
          1.356942034986976,
          3.9068072045330675,
          2.0053901267868,
          -0.7166424933130875,
          -0.32374710991247735,
          0.9776221428987886,
          -0.7050646685406505,
          1.2216897653809928,
          3.910008424189294,
          1.2499797714131242,
          -1.5854889167359516,
          3.9059535871197975,
          -1.082225953437225,
          3.8675888895689967,
          0.9022665617065551,
          -2.147705790880354,
          -2.2998291317034223,
          0.9088823605399536,
          1.9675248843615982,
          2.0855167358412787,
          -0.39067938661405366,
          -2.123924643805622,
          0.12171737410563832,
          -0.29712383103204587,
          3.404866183168056,
          0.7258306246600164,
          -1.1380881403601466,
          -1.551287779652816,
          3.5577166021738185,
          3.812841651849479,
          3.7939503383564626,
          -0.30351887773655584,
          3.0751893156576875,
          1.4880073511228513,
          2.271160574267168,
          -0.10156841067212241,
          2.9477259009941665,
          -0.8141676216095814,
          -0.5152941879435269,
          0.05983181791548109,
          1.6846584820538384,
          1.38003741992594,
          1.733621129130948,
          -1.9511273291364728,
          -2.7493773257497507,
          0.7702809705673097,
          2.0764012794126785,
          -0.44924343826718793,
          1.2152745709354162,
          1.692163229848993,
          -1.0322079145867464,
          0.5708245332174693,
          1.522909519586249,
          2.5968799459424643,
          -0.17789706109852865,
          -1.641656092259412,
          -0.226221483633684,
          -2.2275462232427854,
          1.311772592379823,
          0.06987241283693502,
          2.110647366547018,
          -0.28993146986914775,
          0.39832243981906146,
          1.496455414885352
         ],
         "z": [
          11.599142732089277,
          2.9159979782531664,
          6.133466355307469,
          3.874108313297492,
          6.257583684990187,
          12.991354549136965,
          5.208166323517682,
          3.8345188899919957,
          16.90126249870179,
          4.245125985621281,
          6.206096530315248,
          8.752457236618246,
          10.271896367652387,
          19.61687547784378,
          18.394435525437295,
          15.274256033092499,
          10.83495434234949,
          6.45915259411862,
          11.921656606174787,
          1.4690844015568307,
          3.947561830176737,
          14.214507696307841,
          36.57109758292118,
          3.8158531328284537,
          12.503002588387286,
          6.506980312075961,
          4.792233538787846,
          14.579112947459372,
          9.358999142051417,
          7.533945684049049,
          13.223563120335081,
          9.540551516064243,
          8.20295760581524,
          21.916367407267785,
          13.923697325280388,
          10.200211516744645,
          20.07263929416775,
          34.548612315439314,
          7.3818369028971835,
          4.71753050603835,
          6.339181752964698,
          7.537367423759406,
          1.6432949489654647,
          7.547194724295302,
          17.033201979807618,
          15.698883293092157,
          2.560203183163164,
          18.357803867376536,
          12.508255467910129,
          18.458542742326923,
          2.3175728592094074,
          6.663807511061313,
          14.403541720291804,
          4.303547437077338,
          13.563818460055536,
          11.825408111787786,
          2.951164693279903,
          17.672824621222475,
          6.306748486029786,
          11.24077558272862,
          20.046054543755574,
          10.029932542807497,
          7.564929957770417,
          11.09576096297063,
          16.569142094011788,
          29.128657418553388,
          20.134831288279347,
          2.465911864527075,
          17.923926026852634,
          9.252421857043426,
          11.920794663732458,
          4.017739299161346,
          11.31316106776564,
          13.506206921161464,
          10.02677929679303,
          3.286024952051533,
          6.62248152762765,
          11.762764396421513,
          5.385330283212823,
          8.861717717258346,
          13.531377204584516,
          5.364389038245294,
          11.924990297294645,
          4.873375408118887,
          9.607822782271354,
          18.24237514034274,
          10.34305922245447,
          2.5157947393459437,
          5.290855584864985,
          10.655670439575745,
          1.761367576586988,
          12.488095269420405,
          15.389483990370973,
          16.102562534375327,
          4.712664834488074,
          2.011327495726987,
          8.246167443063232,
          1.985375824416235,
          5.9899292327087235,
          5.577246942124796
         ]
        },
        {
         "type": "surface",
         "x": [
          -2.7862921753118304,
          -2.02831491654729,
          -1.2703376577827499,
          -0.5123603990182097,
          0.24561685974633063,
          1.003594118510871,
          1.761571377275411,
          2.5195486360399517,
          3.2775258948044916,
          4.0355031535690316
         ],
         "y": [
          -2.799101210056959,
          -2.0289678254905814,
          -1.2588344409242032,
          -0.48870105635782535,
          0.2814323282085529,
          1.0515657127749312,
          1.8216990973413085,
          2.591832481907687,
          3.361965866474065,
          4.132099251040443
         ],
         "z": [
          [
           7.395282506598875,
           7.501053331368325,
           7.606824156137774,
           7.712594980907225,
           7.818365805676675,
           7.9241366304461245,
           8.029907455215575,
           8.135678279985024,
           8.241449104754475,
           8.347219929523924
          ],
          [
           7.949743739668325,
           8.055514564437773,
           8.161285389207224,
           8.267056213976673,
           8.372827038746124,
           8.478597863515574,
           8.584368688285023,
           8.690139513054474,
           8.795910337823923,
           8.901681162593373
          ],
          [
           8.504204972737773,
           8.609975797507223,
           8.715746622276672,
           8.821517447046123,
           8.927288271815573,
           9.033059096585022,
           9.138829921354473,
           9.244600746123922,
           9.350371570893373,
           9.456142395662821
          ],
          [
           9.058666205807222,
           9.164437030576671,
           9.270207855346122,
           9.375978680115571,
           9.481749504885022,
           9.587520329654472,
           9.693291154423921,
           9.799061979193372,
           9.90483280396282,
           10.010603628732271
          ],
          [
           9.61312743887667,
           9.718898263646121,
           9.824669088415572,
           9.93043991318502,
           10.036210737954471,
           10.14198156272392,
           10.247752387493371,
           10.35352321226282,
           10.45929403703227,
           10.56506486180172
          ],
          [
           10.16758867194612,
           10.273359496715571,
           10.37913032148502,
           10.48490114625447,
           10.59067197102392,
           10.69644279579337,
           10.80221362056282,
           10.90798444533227,
           11.01375527010172,
           11.11952609487117
          ],
          [
           10.722049905015568,
           10.827820729785019,
           10.933591554554468,
           11.039362379323919,
           11.14513320409337,
           11.250904028862818,
           11.356674853632269,
           11.462445678401718,
           11.568216503171168,
           11.673987327940617
          ],
          [
           11.276511138085018,
           11.382281962854467,
           11.488052787623918,
           11.593823612393368,
           11.699594437162817,
           11.805365261932268,
           11.911136086701717,
           12.016906911471168,
           12.122677736240618,
           12.228448561010067
          ],
          [
           11.830972371154466,
           11.936743195923917,
           12.042514020693368,
           12.148284845462817,
           12.254055670232267,
           12.359826495001716,
           12.465597319771167,
           12.571368144540617,
           12.677138969310066,
           12.782909794079517
          ],
          [
           12.385433604223916,
           12.491204428993367,
           12.596975253762816,
           12.702746078532266,
           12.808516903301715,
           12.914287728071166,
           13.020058552840617,
           13.125829377610065,
           13.231600202379514,
           13.337371027148965
          ]
         ]
        }
       ],
       "layout": {
        "legend": {
         "tracegroupgap": 0
        },
        "margin": {
         "t": 60
        },
        "scene": {
         "domain": {
          "x": [
           0,
           1
          ],
          "y": [
           0,
           1
          ]
         },
         "xaxis": {
          "title": {
           "text": "x"
          }
         },
         "yaxis": {
          "title": {
           "text": "y"
          }
         },
         "zaxis": {
          "title": {
           "text": "z"
          }
         }
        },
        "template": {
         "data": {
          "bar": [
           {
            "error_x": {
             "color": "#2a3f5f"
            },
            "error_y": {
             "color": "#2a3f5f"
            },
            "marker": {
             "line": {
              "color": "#E5ECF6",
              "width": 0.5
             },
             "pattern": {
              "fillmode": "overlay",
              "size": 10,
              "solidity": 0.2
             }
            },
            "type": "bar"
           }
          ],
          "barpolar": [
           {
            "marker": {
             "line": {
              "color": "#E5ECF6",
              "width": 0.5
             },
             "pattern": {
              "fillmode": "overlay",
              "size": 10,
              "solidity": 0.2
             }
            },
            "type": "barpolar"
           }
          ],
          "carpet": [
           {
            "aaxis": {
             "endlinecolor": "#2a3f5f",
             "gridcolor": "white",
             "linecolor": "white",
             "minorgridcolor": "white",
             "startlinecolor": "#2a3f5f"
            },
            "baxis": {
             "endlinecolor": "#2a3f5f",
             "gridcolor": "white",
             "linecolor": "white",
             "minorgridcolor": "white",
             "startlinecolor": "#2a3f5f"
            },
            "type": "carpet"
           }
          ],
          "choropleth": [
           {
            "colorbar": {
             "outlinewidth": 0,
             "ticks": ""
            },
            "type": "choropleth"
           }
          ],
          "contour": [
           {
            "colorbar": {
             "outlinewidth": 0,
             "ticks": ""
            },
            "colorscale": [
             [
              0,
              "#0d0887"
             ],
             [
              0.1111111111111111,
              "#46039f"
             ],
             [
              0.2222222222222222,
              "#7201a8"
             ],
             [
              0.3333333333333333,
              "#9c179e"
             ],
             [
              0.4444444444444444,
              "#bd3786"
             ],
             [
              0.5555555555555556,
              "#d8576b"
             ],
             [
              0.6666666666666666,
              "#ed7953"
             ],
             [
              0.7777777777777778,
              "#fb9f3a"
             ],
             [
              0.8888888888888888,
              "#fdca26"
             ],
             [
              1,
              "#f0f921"
             ]
            ],
            "type": "contour"
           }
          ],
          "contourcarpet": [
           {
            "colorbar": {
             "outlinewidth": 0,
             "ticks": ""
            },
            "type": "contourcarpet"
           }
          ],
          "heatmap": [
           {
            "colorbar": {
             "outlinewidth": 0,
             "ticks": ""
            },
            "colorscale": [
             [
              0,
              "#0d0887"
             ],
             [
              0.1111111111111111,
              "#46039f"
             ],
             [
              0.2222222222222222,
              "#7201a8"
             ],
             [
              0.3333333333333333,
              "#9c179e"
             ],
             [
              0.4444444444444444,
              "#bd3786"
             ],
             [
              0.5555555555555556,
              "#d8576b"
             ],
             [
              0.6666666666666666,
              "#ed7953"
             ],
             [
              0.7777777777777778,
              "#fb9f3a"
             ],
             [
              0.8888888888888888,
              "#fdca26"
             ],
             [
              1,
              "#f0f921"
             ]
            ],
            "type": "heatmap"
           }
          ],
          "heatmapgl": [
           {
            "colorbar": {
             "outlinewidth": 0,
             "ticks": ""
            },
            "colorscale": [
             [
              0,
              "#0d0887"
             ],
             [
              0.1111111111111111,
              "#46039f"
             ],
             [
              0.2222222222222222,
              "#7201a8"
             ],
             [
              0.3333333333333333,
              "#9c179e"
             ],
             [
              0.4444444444444444,
              "#bd3786"
             ],
             [
              0.5555555555555556,
              "#d8576b"
             ],
             [
              0.6666666666666666,
              "#ed7953"
             ],
             [
              0.7777777777777778,
              "#fb9f3a"
             ],
             [
              0.8888888888888888,
              "#fdca26"
             ],
             [
              1,
              "#f0f921"
             ]
            ],
            "type": "heatmapgl"
           }
          ],
          "histogram": [
           {
            "marker": {
             "pattern": {
              "fillmode": "overlay",
              "size": 10,
              "solidity": 0.2
             }
            },
            "type": "histogram"
           }
          ],
          "histogram2d": [
           {
            "colorbar": {
             "outlinewidth": 0,
             "ticks": ""
            },
            "colorscale": [
             [
              0,
              "#0d0887"
             ],
             [
              0.1111111111111111,
              "#46039f"
             ],
             [
              0.2222222222222222,
              "#7201a8"
             ],
             [
              0.3333333333333333,
              "#9c179e"
             ],
             [
              0.4444444444444444,
              "#bd3786"
             ],
             [
              0.5555555555555556,
              "#d8576b"
             ],
             [
              0.6666666666666666,
              "#ed7953"
             ],
             [
              0.7777777777777778,
              "#fb9f3a"
             ],
             [
              0.8888888888888888,
              "#fdca26"
             ],
             [
              1,
              "#f0f921"
             ]
            ],
            "type": "histogram2d"
           }
          ],
          "histogram2dcontour": [
           {
            "colorbar": {
             "outlinewidth": 0,
             "ticks": ""
            },
            "colorscale": [
             [
              0,
              "#0d0887"
             ],
             [
              0.1111111111111111,
              "#46039f"
             ],
             [
              0.2222222222222222,
              "#7201a8"
             ],
             [
              0.3333333333333333,
              "#9c179e"
             ],
             [
              0.4444444444444444,
              "#bd3786"
             ],
             [
              0.5555555555555556,
              "#d8576b"
             ],
             [
              0.6666666666666666,
              "#ed7953"
             ],
             [
              0.7777777777777778,
              "#fb9f3a"
             ],
             [
              0.8888888888888888,
              "#fdca26"
             ],
             [
              1,
              "#f0f921"
             ]
            ],
            "type": "histogram2dcontour"
           }
          ],
          "mesh3d": [
           {
            "colorbar": {
             "outlinewidth": 0,
             "ticks": ""
            },
            "type": "mesh3d"
           }
          ],
          "parcoords": [
           {
            "line": {
             "colorbar": {
              "outlinewidth": 0,
              "ticks": ""
             }
            },
            "type": "parcoords"
           }
          ],
          "pie": [
           {
            "automargin": true,
            "type": "pie"
           }
          ],
          "scatter": [
           {
            "fillpattern": {
             "fillmode": "overlay",
             "size": 10,
             "solidity": 0.2
            },
            "type": "scatter"
           }
          ],
          "scatter3d": [
           {
            "line": {
             "colorbar": {
              "outlinewidth": 0,
              "ticks": ""
             }
            },
            "marker": {
             "colorbar": {
              "outlinewidth": 0,
              "ticks": ""
             }
            },
            "type": "scatter3d"
           }
          ],
          "scattercarpet": [
           {
            "marker": {
             "colorbar": {
              "outlinewidth": 0,
              "ticks": ""
             }
            },
            "type": "scattercarpet"
           }
          ],
          "scattergeo": [
           {
            "marker": {
             "colorbar": {
              "outlinewidth": 0,
              "ticks": ""
             }
            },
            "type": "scattergeo"
           }
          ],
          "scattergl": [
           {
            "marker": {
             "colorbar": {
              "outlinewidth": 0,
              "ticks": ""
             }
            },
            "type": "scattergl"
           }
          ],
          "scattermapbox": [
           {
            "marker": {
             "colorbar": {
              "outlinewidth": 0,
              "ticks": ""
             }
            },
            "type": "scattermapbox"
           }
          ],
          "scatterpolar": [
           {
            "marker": {
             "colorbar": {
              "outlinewidth": 0,
              "ticks": ""
             }
            },
            "type": "scatterpolar"
           }
          ],
          "scatterpolargl": [
           {
            "marker": {
             "colorbar": {
              "outlinewidth": 0,
              "ticks": ""
             }
            },
            "type": "scatterpolargl"
           }
          ],
          "scatterternary": [
           {
            "marker": {
             "colorbar": {
              "outlinewidth": 0,
              "ticks": ""
             }
            },
            "type": "scatterternary"
           }
          ],
          "surface": [
           {
            "colorbar": {
             "outlinewidth": 0,
             "ticks": ""
            },
            "colorscale": [
             [
              0,
              "#0d0887"
             ],
             [
              0.1111111111111111,
              "#46039f"
             ],
             [
              0.2222222222222222,
              "#7201a8"
             ],
             [
              0.3333333333333333,
              "#9c179e"
             ],
             [
              0.4444444444444444,
              "#bd3786"
             ],
             [
              0.5555555555555556,
              "#d8576b"
             ],
             [
              0.6666666666666666,
              "#ed7953"
             ],
             [
              0.7777777777777778,
              "#fb9f3a"
             ],
             [
              0.8888888888888888,
              "#fdca26"
             ],
             [
              1,
              "#f0f921"
             ]
            ],
            "type": "surface"
           }
          ],
          "table": [
           {
            "cells": {
             "fill": {
              "color": "#EBF0F8"
             },
             "line": {
              "color": "white"
             }
            },
            "header": {
             "fill": {
              "color": "#C8D4E3"
             },
             "line": {
              "color": "white"
             }
            },
            "type": "table"
           }
          ]
         },
         "layout": {
          "annotationdefaults": {
           "arrowcolor": "#2a3f5f",
           "arrowhead": 0,
           "arrowwidth": 1
          },
          "autotypenumbers": "strict",
          "coloraxis": {
           "colorbar": {
            "outlinewidth": 0,
            "ticks": ""
           }
          },
          "colorscale": {
           "diverging": [
            [
             0,
             "#8e0152"
            ],
            [
             0.1,
             "#c51b7d"
            ],
            [
             0.2,
             "#de77ae"
            ],
            [
             0.3,
             "#f1b6da"
            ],
            [
             0.4,
             "#fde0ef"
            ],
            [
             0.5,
             "#f7f7f7"
            ],
            [
             0.6,
             "#e6f5d0"
            ],
            [
             0.7,
             "#b8e186"
            ],
            [
             0.8,
             "#7fbc41"
            ],
            [
             0.9,
             "#4d9221"
            ],
            [
             1,
             "#276419"
            ]
           ],
           "sequential": [
            [
             0,
             "#0d0887"
            ],
            [
             0.1111111111111111,
             "#46039f"
            ],
            [
             0.2222222222222222,
             "#7201a8"
            ],
            [
             0.3333333333333333,
             "#9c179e"
            ],
            [
             0.4444444444444444,
             "#bd3786"
            ],
            [
             0.5555555555555556,
             "#d8576b"
            ],
            [
             0.6666666666666666,
             "#ed7953"
            ],
            [
             0.7777777777777778,
             "#fb9f3a"
            ],
            [
             0.8888888888888888,
             "#fdca26"
            ],
            [
             1,
             "#f0f921"
            ]
           ],
           "sequentialminus": [
            [
             0,
             "#0d0887"
            ],
            [
             0.1111111111111111,
             "#46039f"
            ],
            [
             0.2222222222222222,
             "#7201a8"
            ],
            [
             0.3333333333333333,
             "#9c179e"
            ],
            [
             0.4444444444444444,
             "#bd3786"
            ],
            [
             0.5555555555555556,
             "#d8576b"
            ],
            [
             0.6666666666666666,
             "#ed7953"
            ],
            [
             0.7777777777777778,
             "#fb9f3a"
            ],
            [
             0.8888888888888888,
             "#fdca26"
            ],
            [
             1,
             "#f0f921"
            ]
           ]
          },
          "colorway": [
           "#636efa",
           "#EF553B",
           "#00cc96",
           "#ab63fa",
           "#FFA15A",
           "#19d3f3",
           "#FF6692",
           "#B6E880",
           "#FF97FF",
           "#FECB52"
          ],
          "font": {
           "color": "#2a3f5f"
          },
          "geo": {
           "bgcolor": "white",
           "lakecolor": "white",
           "landcolor": "#E5ECF6",
           "showlakes": true,
           "showland": true,
           "subunitcolor": "white"
          },
          "hoverlabel": {
           "align": "left"
          },
          "hovermode": "closest",
          "mapbox": {
           "style": "light"
          },
          "paper_bgcolor": "white",
          "plot_bgcolor": "#E5ECF6",
          "polar": {
           "angularaxis": {
            "gridcolor": "white",
            "linecolor": "white",
            "ticks": ""
           },
           "bgcolor": "#E5ECF6",
           "radialaxis": {
            "gridcolor": "white",
            "linecolor": "white",
            "ticks": ""
           }
          },
          "scene": {
           "xaxis": {
            "backgroundcolor": "#E5ECF6",
            "gridcolor": "white",
            "gridwidth": 2,
            "linecolor": "white",
            "showbackground": true,
            "ticks": "",
            "zerolinecolor": "white"
           },
           "yaxis": {
            "backgroundcolor": "#E5ECF6",
            "gridcolor": "white",
            "gridwidth": 2,
            "linecolor": "white",
            "showbackground": true,
            "ticks": "",
            "zerolinecolor": "white"
           },
           "zaxis": {
            "backgroundcolor": "#E5ECF6",
            "gridcolor": "white",
            "gridwidth": 2,
            "linecolor": "white",
            "showbackground": true,
            "ticks": "",
            "zerolinecolor": "white"
           }
          },
          "shapedefaults": {
           "line": {
            "color": "#2a3f5f"
           }
          },
          "ternary": {
           "aaxis": {
            "gridcolor": "white",
            "linecolor": "white",
            "ticks": ""
           },
           "baxis": {
            "gridcolor": "white",
            "linecolor": "white",
            "ticks": ""
           },
           "bgcolor": "#E5ECF6",
           "caxis": {
            "gridcolor": "white",
            "linecolor": "white",
            "ticks": ""
           }
          },
          "title": {
           "x": 0.05
          },
          "xaxis": {
           "automargin": true,
           "gridcolor": "white",
           "linecolor": "white",
           "ticks": "",
           "title": {
            "standoff": 15
           },
           "zerolinecolor": "white",
           "zerolinewidth": 2
          },
          "yaxis": {
           "automargin": true,
           "gridcolor": "white",
           "linecolor": "white",
           "ticks": "",
           "title": {
            "standoff": 15
           },
           "zerolinecolor": "white",
           "zerolinewidth": 2
          }
         }
        }
       }
      },
      "text/html": [
       "<div>                            <div id=\"18762443-110a-49fe-a590-569268b014e0\" class=\"plotly-graph-div\" style=\"height:525px; width:100%;\"></div>            <script type=\"text/javascript\">                require([\"plotly\"], function(Plotly) {                    window.PLOTLYENV=window.PLOTLYENV || {};                                    if (document.getElementById(\"18762443-110a-49fe-a590-569268b014e0\")) {                    Plotly.newPlot(                        \"18762443-110a-49fe-a590-569268b014e0\",                        [{\"hovertemplate\":\"x=%{x}<br>y=%{y}<br>z=%{z}<extra></extra>\",\"legendgroup\":\"\",\"marker\":{\"color\":\"#636efa\",\"symbol\":\"circle\"},\"mode\":\"markers\",\"name\":\"\",\"scene\":\"scene\",\"showlegend\":false,\"x\":[-2.4053608376327364,0.35570769273859915,1.771037087369197,-0.27262200857320984,-1.4383853658236787,-1.9948255691988674,-0.2551078636036954,-0.23441893034059946,3.442605755854858,-0.4226582798371372,-1.600405377089258,-2.5435101754658898,2.809220199831687,3.221738824540764,3.649494915155855,-1.8643493667199094,-0.7794804716848396,2.3471875210642317,2.9775009385167497,-0.44468744541747274,0.10080395885664206,3.353644307377265,4.0355031535690316,0.2080863982146477,-2.7796731212916885,-0.77361252793099,0.7884967620266661,2.3861678535668807,-2.617897077449754,2.1056726942378408,1.7137729086225546,0.8059484434170008,2.0771964597655357,1.205628981049645,2.9234862125735424,2.355103883117713,3.946018149779447,3.5816338605242395,-1.1147477002783455,-1.2374476756861994,-2.369857798491674,-2.046775528133515,1.0138539392285697,1.7861533654436546,-0.6178869912450802,3.587154835470301,-0.6013000831868114,0.00834841273027509,2.8580998570294334,0.674637416417426,-0.4832681267176113,0.9715565156736803,2.8317936535766446,0.8082241250104425,2.2854833850353105,1.7746126611971391,0.9404004992675183,3.557039185971462,1.3835237389612907,2.8408564314798808,-2.684327931630194,2.6033084839776732,1.6553473497974434,-2.7862921753118304,0.5320505614718232,3.192938577942937,-1.7373281685206123,0.04748145278972338,1.9070343577349735,-1.9407485797217001,-1.772517576148641,0.6336397558497104,-0.3308721470418816,3.3574360872268345,2.467308869541589,-0.19845507247059668,-1.2327389147490737,-2.566146540083623,0.5586107170491221,1.9956728136130177,-1.8204922638877672,1.3747175247911327,-2.499408456640417,1.0411890728849764,-2.4943049792846965,3.24610803029375,-2.523270032876205,0.06619653577101126,1.0044958964348134,0.5506047955607176,0.00885768798036235,2.946150622541306,3.563026915389824,3.0140295802852846,-0.5797095451978436,0.6293743329130255,1.4815693486295034,0.3651798967808708,-2.4787334407053847,-0.6448312714453985],\"y\":[-1.522382421999041,0.45374402446081064,-1.4676241530937526,1.059859769748082,1.5774444911783423,2.66182684808314,-2.1260209669899064,0.056868545326681286,1.393877153081764,0.8969642204483952,1.7099796139968948,0.8797829341349273,-0.9930358753979966,-2.799101210056959,1.7423569912293342,3.026698703062018,3.1485208002453975,0.12290866917914967,0.47225072588908823,0.24560632314993747,-0.33791464636421154,-0.5706341117267657,3.9394726142652745,-0.9061017948860997,-1.206783240263507,-1.7924770212236303,1.6316423813038385,2.366204533210264,1.4470140325837528,-1.0072298034105802,2.692551559979794,-2.6601309966192552,-0.8061745761443622,4.132099251040443,1.1745921419817789,0.6834468776238278,1.356942034986976,3.9068072045330675,2.0053901267868,-0.7166424933130875,-0.32374710991247735,0.9776221428987886,-0.7050646685406505,1.2216897653809928,3.910008424189294,1.2499797714131242,-1.5854889167359516,3.9059535871197975,-1.082225953437225,3.8675888895689967,0.9022665617065551,-2.147705790880354,-2.2998291317034223,0.9088823605399536,1.9675248843615982,2.0855167358412787,-0.39067938661405366,-2.123924643805622,0.12171737410563832,-0.29712383103204587,3.404866183168056,0.7258306246600164,-1.1380881403601466,-1.551287779652816,3.5577166021738185,3.812841651849479,3.7939503383564626,-0.30351887773655584,3.0751893156576875,1.4880073511228513,2.271160574267168,-0.10156841067212241,2.9477259009941665,-0.8141676216095814,-0.5152941879435269,0.05983181791548109,1.6846584820538384,1.38003741992594,1.733621129130948,-1.9511273291364728,-2.7493773257497507,0.7702809705673097,2.0764012794126785,-0.44924343826718793,1.2152745709354162,1.692163229848993,-1.0322079145867464,0.5708245332174693,1.522909519586249,2.5968799459424643,-0.17789706109852865,-1.641656092259412,-0.226221483633684,-2.2275462232427854,1.311772592379823,0.06987241283693502,2.110647366547018,-0.28993146986914775,0.39832243981906146,1.496455414885352],\"z\":[11.599142732089277,2.9159979782531664,6.133466355307469,3.874108313297492,6.257583684990187,12.991354549136965,5.208166323517682,3.8345188899919957,16.90126249870179,4.245125985621281,6.206096530315248,8.752457236618246,10.271896367652387,19.61687547784378,18.394435525437295,15.274256033092499,10.83495434234949,6.45915259411862,11.921656606174787,1.4690844015568307,3.947561830176737,14.214507696307841,36.57109758292118,3.8158531328284537,12.503002588387286,6.506980312075961,4.792233538787846,14.579112947459372,9.358999142051417,7.533945684049049,13.223563120335081,9.540551516064243,8.20295760581524,21.916367407267785,13.923697325280388,10.200211516744645,20.07263929416775,34.548612315439314,7.3818369028971835,4.71753050603835,6.339181752964698,7.537367423759406,1.6432949489654647,7.547194724295302,17.033201979807618,15.698883293092157,2.560203183163164,18.357803867376536,12.508255467910129,18.458542742326923,2.3175728592094074,6.663807511061313,14.403541720291804,4.303547437077338,13.563818460055536,11.825408111787786,2.951164693279903,17.672824621222475,6.306748486029786,11.24077558272862,20.046054543755574,10.029932542807497,7.564929957770417,11.09576096297063,16.569142094011788,29.128657418553388,20.134831288279347,2.465911864527075,17.923926026852634,9.252421857043426,11.920794663732458,4.017739299161346,11.31316106776564,13.506206921161464,10.02677929679303,3.286024952051533,6.62248152762765,11.762764396421513,5.385330283212823,8.861717717258346,13.531377204584516,5.364389038245294,11.924990297294645,4.873375408118887,9.607822782271354,18.24237514034274,10.34305922245447,2.5157947393459437,5.290855584864985,10.655670439575745,1.761367576586988,12.488095269420405,15.389483990370973,16.102562534375327,4.712664834488074,2.011327495726987,8.246167443063232,1.985375824416235,5.9899292327087235,5.577246942124796],\"type\":\"scatter3d\"},{\"x\":[-2.7862921753118304,-2.02831491654729,-1.2703376577827499,-0.5123603990182097,0.24561685974633063,1.003594118510871,1.761571377275411,2.5195486360399517,3.2775258948044916,4.0355031535690316],\"y\":[-2.799101210056959,-2.0289678254905814,-1.2588344409242032,-0.48870105635782535,0.2814323282085529,1.0515657127749312,1.8216990973413085,2.591832481907687,3.361965866474065,4.132099251040443],\"z\":[[7.395282506598875,7.501053331368325,7.606824156137774,7.712594980907225,7.818365805676675,7.9241366304461245,8.029907455215575,8.135678279985024,8.241449104754475,8.347219929523924],[7.949743739668325,8.055514564437773,8.161285389207224,8.267056213976673,8.372827038746124,8.478597863515574,8.584368688285023,8.690139513054474,8.795910337823923,8.901681162593373],[8.504204972737773,8.609975797507223,8.715746622276672,8.821517447046123,8.927288271815573,9.033059096585022,9.138829921354473,9.244600746123922,9.350371570893373,9.456142395662821],[9.058666205807222,9.164437030576671,9.270207855346122,9.375978680115571,9.481749504885022,9.587520329654472,9.693291154423921,9.799061979193372,9.90483280396282,10.010603628732271],[9.61312743887667,9.718898263646121,9.824669088415572,9.93043991318502,10.036210737954471,10.14198156272392,10.247752387493371,10.35352321226282,10.45929403703227,10.56506486180172],[10.16758867194612,10.273359496715571,10.37913032148502,10.48490114625447,10.59067197102392,10.69644279579337,10.80221362056282,10.90798444533227,11.01375527010172,11.11952609487117],[10.722049905015568,10.827820729785019,10.933591554554468,11.039362379323919,11.14513320409337,11.250904028862818,11.356674853632269,11.462445678401718,11.568216503171168,11.673987327940617],[11.276511138085018,11.382281962854467,11.488052787623918,11.593823612393368,11.699594437162817,11.805365261932268,11.911136086701717,12.016906911471168,12.122677736240618,12.228448561010067],[11.830972371154466,11.936743195923917,12.042514020693368,12.148284845462817,12.254055670232267,12.359826495001716,12.465597319771167,12.571368144540617,12.677138969310066,12.782909794079517],[12.385433604223916,12.491204428993367,12.596975253762816,12.702746078532266,12.808516903301715,12.914287728071166,13.020058552840617,13.125829377610065,13.231600202379514,13.337371027148965]],\"type\":\"surface\"}],                        {\"template\":{\"data\":{\"histogram2dcontour\":[{\"type\":\"histogram2dcontour\",\"colorbar\":{\"outlinewidth\":0,\"ticks\":\"\"},\"colorscale\":[[0.0,\"#0d0887\"],[0.1111111111111111,\"#46039f\"],[0.2222222222222222,\"#7201a8\"],[0.3333333333333333,\"#9c179e\"],[0.4444444444444444,\"#bd3786\"],[0.5555555555555556,\"#d8576b\"],[0.6666666666666666,\"#ed7953\"],[0.7777777777777778,\"#fb9f3a\"],[0.8888888888888888,\"#fdca26\"],[1.0,\"#f0f921\"]]}],\"choropleth\":[{\"type\":\"choropleth\",\"colorbar\":{\"outlinewidth\":0,\"ticks\":\"\"}}],\"histogram2d\":[{\"type\":\"histogram2d\",\"colorbar\":{\"outlinewidth\":0,\"ticks\":\"\"},\"colorscale\":[[0.0,\"#0d0887\"],[0.1111111111111111,\"#46039f\"],[0.2222222222222222,\"#7201a8\"],[0.3333333333333333,\"#9c179e\"],[0.4444444444444444,\"#bd3786\"],[0.5555555555555556,\"#d8576b\"],[0.6666666666666666,\"#ed7953\"],[0.7777777777777778,\"#fb9f3a\"],[0.8888888888888888,\"#fdca26\"],[1.0,\"#f0f921\"]]}],\"heatmap\":[{\"type\":\"heatmap\",\"colorbar\":{\"outlinewidth\":0,\"ticks\":\"\"},\"colorscale\":[[0.0,\"#0d0887\"],[0.1111111111111111,\"#46039f\"],[0.2222222222222222,\"#7201a8\"],[0.3333333333333333,\"#9c179e\"],[0.4444444444444444,\"#bd3786\"],[0.5555555555555556,\"#d8576b\"],[0.6666666666666666,\"#ed7953\"],[0.7777777777777778,\"#fb9f3a\"],[0.8888888888888888,\"#fdca26\"],[1.0,\"#f0f921\"]]}],\"heatmapgl\":[{\"type\":\"heatmapgl\",\"colorbar\":{\"outlinewidth\":0,\"ticks\":\"\"},\"colorscale\":[[0.0,\"#0d0887\"],[0.1111111111111111,\"#46039f\"],[0.2222222222222222,\"#7201a8\"],[0.3333333333333333,\"#9c179e\"],[0.4444444444444444,\"#bd3786\"],[0.5555555555555556,\"#d8576b\"],[0.6666666666666666,\"#ed7953\"],[0.7777777777777778,\"#fb9f3a\"],[0.8888888888888888,\"#fdca26\"],[1.0,\"#f0f921\"]]}],\"contourcarpet\":[{\"type\":\"contourcarpet\",\"colorbar\":{\"outlinewidth\":0,\"ticks\":\"\"}}],\"contour\":[{\"type\":\"contour\",\"colorbar\":{\"outlinewidth\":0,\"ticks\":\"\"},\"colorscale\":[[0.0,\"#0d0887\"],[0.1111111111111111,\"#46039f\"],[0.2222222222222222,\"#7201a8\"],[0.3333333333333333,\"#9c179e\"],[0.4444444444444444,\"#bd3786\"],[0.5555555555555556,\"#d8576b\"],[0.6666666666666666,\"#ed7953\"],[0.7777777777777778,\"#fb9f3a\"],[0.8888888888888888,\"#fdca26\"],[1.0,\"#f0f921\"]]}],\"surface\":[{\"type\":\"surface\",\"colorbar\":{\"outlinewidth\":0,\"ticks\":\"\"},\"colorscale\":[[0.0,\"#0d0887\"],[0.1111111111111111,\"#46039f\"],[0.2222222222222222,\"#7201a8\"],[0.3333333333333333,\"#9c179e\"],[0.4444444444444444,\"#bd3786\"],[0.5555555555555556,\"#d8576b\"],[0.6666666666666666,\"#ed7953\"],[0.7777777777777778,\"#fb9f3a\"],[0.8888888888888888,\"#fdca26\"],[1.0,\"#f0f921\"]]}],\"mesh3d\":[{\"type\":\"mesh3d\",\"colorbar\":{\"outlinewidth\":0,\"ticks\":\"\"}}],\"scatter\":[{\"fillpattern\":{\"fillmode\":\"overlay\",\"size\":10,\"solidity\":0.2},\"type\":\"scatter\"}],\"parcoords\":[{\"type\":\"parcoords\",\"line\":{\"colorbar\":{\"outlinewidth\":0,\"ticks\":\"\"}}}],\"scatterpolargl\":[{\"type\":\"scatterpolargl\",\"marker\":{\"colorbar\":{\"outlinewidth\":0,\"ticks\":\"\"}}}],\"bar\":[{\"error_x\":{\"color\":\"#2a3f5f\"},\"error_y\":{\"color\":\"#2a3f5f\"},\"marker\":{\"line\":{\"color\":\"#E5ECF6\",\"width\":0.5},\"pattern\":{\"fillmode\":\"overlay\",\"size\":10,\"solidity\":0.2}},\"type\":\"bar\"}],\"scattergeo\":[{\"type\":\"scattergeo\",\"marker\":{\"colorbar\":{\"outlinewidth\":0,\"ticks\":\"\"}}}],\"scatterpolar\":[{\"type\":\"scatterpolar\",\"marker\":{\"colorbar\":{\"outlinewidth\":0,\"ticks\":\"\"}}}],\"histogram\":[{\"marker\":{\"pattern\":{\"fillmode\":\"overlay\",\"size\":10,\"solidity\":0.2}},\"type\":\"histogram\"}],\"scattergl\":[{\"type\":\"scattergl\",\"marker\":{\"colorbar\":{\"outlinewidth\":0,\"ticks\":\"\"}}}],\"scatter3d\":[{\"type\":\"scatter3d\",\"line\":{\"colorbar\":{\"outlinewidth\":0,\"ticks\":\"\"}},\"marker\":{\"colorbar\":{\"outlinewidth\":0,\"ticks\":\"\"}}}],\"scattermapbox\":[{\"type\":\"scattermapbox\",\"marker\":{\"colorbar\":{\"outlinewidth\":0,\"ticks\":\"\"}}}],\"scatterternary\":[{\"type\":\"scatterternary\",\"marker\":{\"colorbar\":{\"outlinewidth\":0,\"ticks\":\"\"}}}],\"scattercarpet\":[{\"type\":\"scattercarpet\",\"marker\":{\"colorbar\":{\"outlinewidth\":0,\"ticks\":\"\"}}}],\"carpet\":[{\"aaxis\":{\"endlinecolor\":\"#2a3f5f\",\"gridcolor\":\"white\",\"linecolor\":\"white\",\"minorgridcolor\":\"white\",\"startlinecolor\":\"#2a3f5f\"},\"baxis\":{\"endlinecolor\":\"#2a3f5f\",\"gridcolor\":\"white\",\"linecolor\":\"white\",\"minorgridcolor\":\"white\",\"startlinecolor\":\"#2a3f5f\"},\"type\":\"carpet\"}],\"table\":[{\"cells\":{\"fill\":{\"color\":\"#EBF0F8\"},\"line\":{\"color\":\"white\"}},\"header\":{\"fill\":{\"color\":\"#C8D4E3\"},\"line\":{\"color\":\"white\"}},\"type\":\"table\"}],\"barpolar\":[{\"marker\":{\"line\":{\"color\":\"#E5ECF6\",\"width\":0.5},\"pattern\":{\"fillmode\":\"overlay\",\"size\":10,\"solidity\":0.2}},\"type\":\"barpolar\"}],\"pie\":[{\"automargin\":true,\"type\":\"pie\"}]},\"layout\":{\"autotypenumbers\":\"strict\",\"colorway\":[\"#636efa\",\"#EF553B\",\"#00cc96\",\"#ab63fa\",\"#FFA15A\",\"#19d3f3\",\"#FF6692\",\"#B6E880\",\"#FF97FF\",\"#FECB52\"],\"font\":{\"color\":\"#2a3f5f\"},\"hovermode\":\"closest\",\"hoverlabel\":{\"align\":\"left\"},\"paper_bgcolor\":\"white\",\"plot_bgcolor\":\"#E5ECF6\",\"polar\":{\"bgcolor\":\"#E5ECF6\",\"angularaxis\":{\"gridcolor\":\"white\",\"linecolor\":\"white\",\"ticks\":\"\"},\"radialaxis\":{\"gridcolor\":\"white\",\"linecolor\":\"white\",\"ticks\":\"\"}},\"ternary\":{\"bgcolor\":\"#E5ECF6\",\"aaxis\":{\"gridcolor\":\"white\",\"linecolor\":\"white\",\"ticks\":\"\"},\"baxis\":{\"gridcolor\":\"white\",\"linecolor\":\"white\",\"ticks\":\"\"},\"caxis\":{\"gridcolor\":\"white\",\"linecolor\":\"white\",\"ticks\":\"\"}},\"coloraxis\":{\"colorbar\":{\"outlinewidth\":0,\"ticks\":\"\"}},\"colorscale\":{\"sequential\":[[0.0,\"#0d0887\"],[0.1111111111111111,\"#46039f\"],[0.2222222222222222,\"#7201a8\"],[0.3333333333333333,\"#9c179e\"],[0.4444444444444444,\"#bd3786\"],[0.5555555555555556,\"#d8576b\"],[0.6666666666666666,\"#ed7953\"],[0.7777777777777778,\"#fb9f3a\"],[0.8888888888888888,\"#fdca26\"],[1.0,\"#f0f921\"]],\"sequentialminus\":[[0.0,\"#0d0887\"],[0.1111111111111111,\"#46039f\"],[0.2222222222222222,\"#7201a8\"],[0.3333333333333333,\"#9c179e\"],[0.4444444444444444,\"#bd3786\"],[0.5555555555555556,\"#d8576b\"],[0.6666666666666666,\"#ed7953\"],[0.7777777777777778,\"#fb9f3a\"],[0.8888888888888888,\"#fdca26\"],[1.0,\"#f0f921\"]],\"diverging\":[[0,\"#8e0152\"],[0.1,\"#c51b7d\"],[0.2,\"#de77ae\"],[0.3,\"#f1b6da\"],[0.4,\"#fde0ef\"],[0.5,\"#f7f7f7\"],[0.6,\"#e6f5d0\"],[0.7,\"#b8e186\"],[0.8,\"#7fbc41\"],[0.9,\"#4d9221\"],[1,\"#276419\"]]},\"xaxis\":{\"gridcolor\":\"white\",\"linecolor\":\"white\",\"ticks\":\"\",\"title\":{\"standoff\":15},\"zerolinecolor\":\"white\",\"automargin\":true,\"zerolinewidth\":2},\"yaxis\":{\"gridcolor\":\"white\",\"linecolor\":\"white\",\"ticks\":\"\",\"title\":{\"standoff\":15},\"zerolinecolor\":\"white\",\"automargin\":true,\"zerolinewidth\":2},\"scene\":{\"xaxis\":{\"backgroundcolor\":\"#E5ECF6\",\"gridcolor\":\"white\",\"linecolor\":\"white\",\"showbackground\":true,\"ticks\":\"\",\"zerolinecolor\":\"white\",\"gridwidth\":2},\"yaxis\":{\"backgroundcolor\":\"#E5ECF6\",\"gridcolor\":\"white\",\"linecolor\":\"white\",\"showbackground\":true,\"ticks\":\"\",\"zerolinecolor\":\"white\",\"gridwidth\":2},\"zaxis\":{\"backgroundcolor\":\"#E5ECF6\",\"gridcolor\":\"white\",\"linecolor\":\"white\",\"showbackground\":true,\"ticks\":\"\",\"zerolinecolor\":\"white\",\"gridwidth\":2}},\"shapedefaults\":{\"line\":{\"color\":\"#2a3f5f\"}},\"annotationdefaults\":{\"arrowcolor\":\"#2a3f5f\",\"arrowhead\":0,\"arrowwidth\":1},\"geo\":{\"bgcolor\":\"white\",\"landcolor\":\"#E5ECF6\",\"subunitcolor\":\"white\",\"showland\":true,\"showlakes\":true,\"lakecolor\":\"white\"},\"title\":{\"x\":0.05},\"mapbox\":{\"style\":\"light\"}}},\"scene\":{\"domain\":{\"x\":[0.0,1.0],\"y\":[0.0,1.0]},\"xaxis\":{\"title\":{\"text\":\"x\"}},\"yaxis\":{\"title\":{\"text\":\"y\"}},\"zaxis\":{\"title\":{\"text\":\"z\"}}},\"legend\":{\"tracegroupgap\":0},\"margin\":{\"t\":60}},                        {\"responsive\": true}                    ).then(function(){\n",
       "                            \n",
       "var gd = document.getElementById('18762443-110a-49fe-a590-569268b014e0');\n",
       "var x = new MutationObserver(function (mutations, observer) {{\n",
       "        var display = window.getComputedStyle(gd).display;\n",
       "        if (!display || display === 'none') {{\n",
       "            console.log([gd, 'removed!']);\n",
       "            Plotly.purge(gd);\n",
       "            observer.disconnect();\n",
       "        }}\n",
       "}});\n",
       "\n",
       "// Listen for the removal of the full notebook cells\n",
       "var notebookContainer = gd.closest('#notebook-container');\n",
       "if (notebookContainer) {{\n",
       "    x.observe(notebookContainer, {childList: true});\n",
       "}}\n",
       "\n",
       "// Listen for the clearing of the current output cell\n",
       "var outputEl = gd.closest('.output');\n",
       "if (outputEl) {{\n",
       "    x.observe(outputEl, {childList: true});\n",
       "}}\n",
       "\n",
       "                        })                };                });            </script>        </div>"
      ]
     },
     "metadata": {},
     "output_type": "display_data"
    }
   ],
   "source": [
    "import plotly.graph_objects as go\n",
    "\n",
    "fig = px.scatter_3d(df, x=x.ravel(), y=y.ravel(), z=z.ravel())\n",
    "\n",
    "fig.add_trace(go.Surface(x = x_input, y = y_input, z =z_final ))\n",
    "\n",
    "fig.show()"
   ]
  },
  {
   "cell_type": "code",
   "execution_count": 45,
   "id": "b5924d55",
   "metadata": {},
   "outputs": [
    {
     "data": {
      "text/plain": [
       "(100, 2)"
      ]
     },
     "execution_count": 45,
     "metadata": {},
     "output_type": "execute_result"
    }
   ],
   "source": [
    "X_multi = np.array([x,y]).reshape(100,2)\n",
    "X_multi.shape"
   ]
  },
  {
   "cell_type": "code",
   "execution_count": 58,
   "id": "bfc1398d",
   "metadata": {},
   "outputs": [],
   "source": [
    "poly = PolynomialFeatures(degree=2)\n",
    "X_multi_trans = poly.fit_transform(X_multi)"
   ]
  },
  {
   "cell_type": "code",
   "execution_count": 59,
   "id": "aaabeefd",
   "metadata": {},
   "outputs": [
    {
     "name": "stdout",
     "output_type": "stream",
     "text": [
      "Input 2\n",
      "Ouput 6\n",
      "Powers\n",
      " [[0 0]\n",
      " [1 0]\n",
      " [0 1]\n",
      " [2 0]\n",
      " [1 1]\n",
      " [0 2]]\n"
     ]
    },
    {
     "name": "stderr",
     "output_type": "stream",
     "text": [
      "C:\\Users\\Abhishek\\miniconda3\\lib\\site-packages\\sklearn\\utils\\deprecation.py:103: FutureWarning:\n",
      "\n",
      "The attribute `n_input_features_` was deprecated in version 1.0 and will be removed in 1.2.\n",
      "\n"
     ]
    }
   ],
   "source": [
    "print(\"Input\",poly.n_input_features_)\n",
    "print(\"Ouput\",poly.n_output_features_)\n",
    "print(\"Powers\\n\",poly.powers_)"
   ]
  },
  {
   "cell_type": "code",
   "execution_count": 54,
   "id": "34355028",
   "metadata": {},
   "outputs": [
    {
     "data": {
      "text/plain": [
       "LinearRegression()"
      ]
     },
     "execution_count": 54,
     "metadata": {},
     "output_type": "execute_result"
    }
   ],
   "source": [
    "lr = LinearRegression()\n",
    "lr.fit(X_multi_trans,z)"
   ]
  },
  {
   "cell_type": "code",
   "execution_count": 55,
   "id": "4f4693a9",
   "metadata": {},
   "outputs": [],
   "source": [
    "X_test_multi = poly.transform(final)"
   ]
  },
  {
   "cell_type": "code",
   "execution_count": 56,
   "id": "1a094d62",
   "metadata": {},
   "outputs": [],
   "source": [
    "z_final = lr.predict(X_multi_trans).reshape(10,10)"
   ]
  },
  {
   "cell_type": "code",
   "execution_count": 57,
   "id": "69b593bc",
   "metadata": {},
   "outputs": [
    {
     "data": {
      "application/vnd.plotly.v1+json": {
       "config": {
        "plotlyServerURL": "https://plot.ly"
       },
       "data": [
        {
         "hovertemplate": "x=%{x}<br>y=%{y}<br>z=%{z}<extra></extra>",
         "legendgroup": "",
         "marker": {
          "color": "#636efa",
          "symbol": "circle"
         },
         "mode": "markers",
         "name": "",
         "scene": "scene",
         "showlegend": false,
         "type": "scatter3d",
         "x": [
          -2.4053608376327364,
          0.35570769273859915,
          1.771037087369197,
          -0.27262200857320984,
          -1.4383853658236787,
          -1.9948255691988674,
          -0.2551078636036954,
          -0.23441893034059946,
          3.442605755854858,
          -0.4226582798371372,
          -1.600405377089258,
          -2.5435101754658898,
          2.809220199831687,
          3.221738824540764,
          3.649494915155855,
          -1.8643493667199094,
          -0.7794804716848396,
          2.3471875210642317,
          2.9775009385167497,
          -0.44468744541747274,
          0.10080395885664206,
          3.353644307377265,
          4.0355031535690316,
          0.2080863982146477,
          -2.7796731212916885,
          -0.77361252793099,
          0.7884967620266661,
          2.3861678535668807,
          -2.617897077449754,
          2.1056726942378408,
          1.7137729086225546,
          0.8059484434170008,
          2.0771964597655357,
          1.205628981049645,
          2.9234862125735424,
          2.355103883117713,
          3.946018149779447,
          3.5816338605242395,
          -1.1147477002783455,
          -1.2374476756861994,
          -2.369857798491674,
          -2.046775528133515,
          1.0138539392285697,
          1.7861533654436546,
          -0.6178869912450802,
          3.587154835470301,
          -0.6013000831868114,
          0.00834841273027509,
          2.8580998570294334,
          0.674637416417426,
          -0.4832681267176113,
          0.9715565156736803,
          2.8317936535766446,
          0.8082241250104425,
          2.2854833850353105,
          1.7746126611971391,
          0.9404004992675183,
          3.557039185971462,
          1.3835237389612907,
          2.8408564314798808,
          -2.684327931630194,
          2.6033084839776732,
          1.6553473497974434,
          -2.7862921753118304,
          0.5320505614718232,
          3.192938577942937,
          -1.7373281685206123,
          0.04748145278972338,
          1.9070343577349735,
          -1.9407485797217001,
          -1.772517576148641,
          0.6336397558497104,
          -0.3308721470418816,
          3.3574360872268345,
          2.467308869541589,
          -0.19845507247059668,
          -1.2327389147490737,
          -2.566146540083623,
          0.5586107170491221,
          1.9956728136130177,
          -1.8204922638877672,
          1.3747175247911327,
          -2.499408456640417,
          1.0411890728849764,
          -2.4943049792846965,
          3.24610803029375,
          -2.523270032876205,
          0.06619653577101126,
          1.0044958964348134,
          0.5506047955607176,
          0.00885768798036235,
          2.946150622541306,
          3.563026915389824,
          3.0140295802852846,
          -0.5797095451978436,
          0.6293743329130255,
          1.4815693486295034,
          0.3651798967808708,
          -2.4787334407053847,
          -0.6448312714453985
         ],
         "y": [
          -1.522382421999041,
          0.45374402446081064,
          -1.4676241530937526,
          1.059859769748082,
          1.5774444911783423,
          2.66182684808314,
          -2.1260209669899064,
          0.056868545326681286,
          1.393877153081764,
          0.8969642204483952,
          1.7099796139968948,
          0.8797829341349273,
          -0.9930358753979966,
          -2.799101210056959,
          1.7423569912293342,
          3.026698703062018,
          3.1485208002453975,
          0.12290866917914967,
          0.47225072588908823,
          0.24560632314993747,
          -0.33791464636421154,
          -0.5706341117267657,
          3.9394726142652745,
          -0.9061017948860997,
          -1.206783240263507,
          -1.7924770212236303,
          1.6316423813038385,
          2.366204533210264,
          1.4470140325837528,
          -1.0072298034105802,
          2.692551559979794,
          -2.6601309966192552,
          -0.8061745761443622,
          4.132099251040443,
          1.1745921419817789,
          0.6834468776238278,
          1.356942034986976,
          3.9068072045330675,
          2.0053901267868,
          -0.7166424933130875,
          -0.32374710991247735,
          0.9776221428987886,
          -0.7050646685406505,
          1.2216897653809928,
          3.910008424189294,
          1.2499797714131242,
          -1.5854889167359516,
          3.9059535871197975,
          -1.082225953437225,
          3.8675888895689967,
          0.9022665617065551,
          -2.147705790880354,
          -2.2998291317034223,
          0.9088823605399536,
          1.9675248843615982,
          2.0855167358412787,
          -0.39067938661405366,
          -2.123924643805622,
          0.12171737410563832,
          -0.29712383103204587,
          3.404866183168056,
          0.7258306246600164,
          -1.1380881403601466,
          -1.551287779652816,
          3.5577166021738185,
          3.812841651849479,
          3.7939503383564626,
          -0.30351887773655584,
          3.0751893156576875,
          1.4880073511228513,
          2.271160574267168,
          -0.10156841067212241,
          2.9477259009941665,
          -0.8141676216095814,
          -0.5152941879435269,
          0.05983181791548109,
          1.6846584820538384,
          1.38003741992594,
          1.733621129130948,
          -1.9511273291364728,
          -2.7493773257497507,
          0.7702809705673097,
          2.0764012794126785,
          -0.44924343826718793,
          1.2152745709354162,
          1.692163229848993,
          -1.0322079145867464,
          0.5708245332174693,
          1.522909519586249,
          2.5968799459424643,
          -0.17789706109852865,
          -1.641656092259412,
          -0.226221483633684,
          -2.2275462232427854,
          1.311772592379823,
          0.06987241283693502,
          2.110647366547018,
          -0.28993146986914775,
          0.39832243981906146,
          1.496455414885352
         ],
         "z": [
          11.599142732089277,
          2.9159979782531664,
          6.133466355307469,
          3.874108313297492,
          6.257583684990187,
          12.991354549136965,
          5.208166323517682,
          3.8345188899919957,
          16.90126249870179,
          4.245125985621281,
          6.206096530315248,
          8.752457236618246,
          10.271896367652387,
          19.61687547784378,
          18.394435525437295,
          15.274256033092499,
          10.83495434234949,
          6.45915259411862,
          11.921656606174787,
          1.4690844015568307,
          3.947561830176737,
          14.214507696307841,
          36.57109758292118,
          3.8158531328284537,
          12.503002588387286,
          6.506980312075961,
          4.792233538787846,
          14.579112947459372,
          9.358999142051417,
          7.533945684049049,
          13.223563120335081,
          9.540551516064243,
          8.20295760581524,
          21.916367407267785,
          13.923697325280388,
          10.200211516744645,
          20.07263929416775,
          34.548612315439314,
          7.3818369028971835,
          4.71753050603835,
          6.339181752964698,
          7.537367423759406,
          1.6432949489654647,
          7.547194724295302,
          17.033201979807618,
          15.698883293092157,
          2.560203183163164,
          18.357803867376536,
          12.508255467910129,
          18.458542742326923,
          2.3175728592094074,
          6.663807511061313,
          14.403541720291804,
          4.303547437077338,
          13.563818460055536,
          11.825408111787786,
          2.951164693279903,
          17.672824621222475,
          6.306748486029786,
          11.24077558272862,
          20.046054543755574,
          10.029932542807497,
          7.564929957770417,
          11.09576096297063,
          16.569142094011788,
          29.128657418553388,
          20.134831288279347,
          2.465911864527075,
          17.923926026852634,
          9.252421857043426,
          11.920794663732458,
          4.017739299161346,
          11.31316106776564,
          13.506206921161464,
          10.02677929679303,
          3.286024952051533,
          6.62248152762765,
          11.762764396421513,
          5.385330283212823,
          8.861717717258346,
          13.531377204584516,
          5.364389038245294,
          11.924990297294645,
          4.873375408118887,
          9.607822782271354,
          18.24237514034274,
          10.34305922245447,
          2.5157947393459437,
          5.290855584864985,
          10.655670439575745,
          1.761367576586988,
          12.488095269420405,
          15.389483990370973,
          16.102562534375327,
          4.712664834488074,
          2.011327495726987,
          8.246167443063232,
          1.985375824416235,
          5.9899292327087235,
          5.577246942124796
         ]
        },
        {
         "type": "surface",
         "x": [
          -2.7862921753118304,
          -2.02831491654729,
          -1.2703376577827499,
          -0.5123603990182097,
          0.24561685974633063,
          1.003594118510871,
          1.761571377275411,
          2.5195486360399517,
          3.2775258948044916,
          4.0355031535690316
         ],
         "y": [
          -2.799101210056959,
          -2.0289678254905814,
          -1.2588344409242032,
          -0.48870105635782535,
          0.2814323282085529,
          1.0515657127749312,
          1.8216990973413085,
          2.591832481907687,
          3.361965866474065,
          4.132099251040443
         ],
         "z": [
          [
           11.594008722159579,
           2.891425546868568,
           6.131842542496834,
           8.834574778092424,
           6.255846797072827,
           12.985205352821886,
           5.206400691115796,
           3.834757624709546,
           16.900660169127896,
           4.242849646651685
          ],
          [
           6.2061317549585695,
           8.755900202834546,
           10.269897787415921,
           19.617514994016183,
           18.393293170773923,
           15.080158769512146,
           10.834048000214189,
           6.455942927443921,
           11.959635554397046,
           8.734912970861286
          ],
          [
           3.945682680749833,
           14.212396639030807,
           36.570502101027905,
           8.834561863295216,
           12.504409788691937,
           8.832890645438637,
           4.790002583110272,
           14.576949138709843,
           9.357981501662671,
           7.534365175807416
          ],
          [
           13.223244486892163,
           9.53914657100433,
           8.202070890510022,
           21.91528196257247,
           13.922740314787752,
           10.201562306912884,
           20.070652781569898,
           34.54675401612514,
           7.39235826074475,
           4.7156693296545384
          ],
          [
           6.338341349133607,
           7.538012767027631,
           1.6425808058618898,
           7.545548837216138,
           8.84492209743006,
           15.705252467238843,
           2.555338679397046,
           8.834550426031628,
           12.869734052211856,
           18.456750931733787
          ],
          [
           2.231611148019919,
           6.666508513954945,
           14.394846244299352,
           4.301117063258808,
           10.96647530459909,
           12.045762851571972,
           2.9499917836427088,
           17.672627268874585,
           6.305144606673657,
           8.834594198411013
          ],
          [
           8.834573243114075,
           10.028483210647046,
           7.570584658198818,
           11.092855407440602,
           16.58650819250532,
           29.12852698429817,
           20.174967585647046,
           8.967199053911672,
           17.930094538772046,
           9.250612240616483
          ],
          [
           8.832676457754923,
           8.716962221694258,
           11.314127741897046,
           13.523722468459546,
           10.029276667678296,
           3.28545938015197,
           6.618348175302181,
           11.761442620822727,
           5.385184366054837,
           8.834578759982591
          ],
          [
           13.529635249221265,
           5.150400094920142,
           11.928385554397046,
           4.872172175490796,
           9.606097994887769,
           18.240857750169035,
           10.341207383716046,
           8.83456812429901,
           5.290784439825366,
           10.656178079879119
          ],
          [
           1.7593038236289615,
           12.488519250181362,
           15.387604728727702,
           8.821408741067307,
           4.708440026783883,
           2.0209047233877726,
           8.247209813539321,
           9.233351433809386,
           5.98833681012804,
           5.419051299329656
          ]
         ]
        }
       ],
       "layout": {
        "legend": {
         "tracegroupgap": 0
        },
        "margin": {
         "t": 60
        },
        "scene": {
         "domain": {
          "x": [
           0,
           1
          ],
          "y": [
           0,
           1
          ]
         },
         "xaxis": {
          "title": {
           "text": "x"
          }
         },
         "yaxis": {
          "title": {
           "text": "y"
          }
         },
         "zaxis": {
          "range": [
           0,
           35
          ],
          "title": {
           "text": "z"
          }
         }
        },
        "template": {
         "data": {
          "bar": [
           {
            "error_x": {
             "color": "#2a3f5f"
            },
            "error_y": {
             "color": "#2a3f5f"
            },
            "marker": {
             "line": {
              "color": "#E5ECF6",
              "width": 0.5
             },
             "pattern": {
              "fillmode": "overlay",
              "size": 10,
              "solidity": 0.2
             }
            },
            "type": "bar"
           }
          ],
          "barpolar": [
           {
            "marker": {
             "line": {
              "color": "#E5ECF6",
              "width": 0.5
             },
             "pattern": {
              "fillmode": "overlay",
              "size": 10,
              "solidity": 0.2
             }
            },
            "type": "barpolar"
           }
          ],
          "carpet": [
           {
            "aaxis": {
             "endlinecolor": "#2a3f5f",
             "gridcolor": "white",
             "linecolor": "white",
             "minorgridcolor": "white",
             "startlinecolor": "#2a3f5f"
            },
            "baxis": {
             "endlinecolor": "#2a3f5f",
             "gridcolor": "white",
             "linecolor": "white",
             "minorgridcolor": "white",
             "startlinecolor": "#2a3f5f"
            },
            "type": "carpet"
           }
          ],
          "choropleth": [
           {
            "colorbar": {
             "outlinewidth": 0,
             "ticks": ""
            },
            "type": "choropleth"
           }
          ],
          "contour": [
           {
            "colorbar": {
             "outlinewidth": 0,
             "ticks": ""
            },
            "colorscale": [
             [
              0,
              "#0d0887"
             ],
             [
              0.1111111111111111,
              "#46039f"
             ],
             [
              0.2222222222222222,
              "#7201a8"
             ],
             [
              0.3333333333333333,
              "#9c179e"
             ],
             [
              0.4444444444444444,
              "#bd3786"
             ],
             [
              0.5555555555555556,
              "#d8576b"
             ],
             [
              0.6666666666666666,
              "#ed7953"
             ],
             [
              0.7777777777777778,
              "#fb9f3a"
             ],
             [
              0.8888888888888888,
              "#fdca26"
             ],
             [
              1,
              "#f0f921"
             ]
            ],
            "type": "contour"
           }
          ],
          "contourcarpet": [
           {
            "colorbar": {
             "outlinewidth": 0,
             "ticks": ""
            },
            "type": "contourcarpet"
           }
          ],
          "heatmap": [
           {
            "colorbar": {
             "outlinewidth": 0,
             "ticks": ""
            },
            "colorscale": [
             [
              0,
              "#0d0887"
             ],
             [
              0.1111111111111111,
              "#46039f"
             ],
             [
              0.2222222222222222,
              "#7201a8"
             ],
             [
              0.3333333333333333,
              "#9c179e"
             ],
             [
              0.4444444444444444,
              "#bd3786"
             ],
             [
              0.5555555555555556,
              "#d8576b"
             ],
             [
              0.6666666666666666,
              "#ed7953"
             ],
             [
              0.7777777777777778,
              "#fb9f3a"
             ],
             [
              0.8888888888888888,
              "#fdca26"
             ],
             [
              1,
              "#f0f921"
             ]
            ],
            "type": "heatmap"
           }
          ],
          "heatmapgl": [
           {
            "colorbar": {
             "outlinewidth": 0,
             "ticks": ""
            },
            "colorscale": [
             [
              0,
              "#0d0887"
             ],
             [
              0.1111111111111111,
              "#46039f"
             ],
             [
              0.2222222222222222,
              "#7201a8"
             ],
             [
              0.3333333333333333,
              "#9c179e"
             ],
             [
              0.4444444444444444,
              "#bd3786"
             ],
             [
              0.5555555555555556,
              "#d8576b"
             ],
             [
              0.6666666666666666,
              "#ed7953"
             ],
             [
              0.7777777777777778,
              "#fb9f3a"
             ],
             [
              0.8888888888888888,
              "#fdca26"
             ],
             [
              1,
              "#f0f921"
             ]
            ],
            "type": "heatmapgl"
           }
          ],
          "histogram": [
           {
            "marker": {
             "pattern": {
              "fillmode": "overlay",
              "size": 10,
              "solidity": 0.2
             }
            },
            "type": "histogram"
           }
          ],
          "histogram2d": [
           {
            "colorbar": {
             "outlinewidth": 0,
             "ticks": ""
            },
            "colorscale": [
             [
              0,
              "#0d0887"
             ],
             [
              0.1111111111111111,
              "#46039f"
             ],
             [
              0.2222222222222222,
              "#7201a8"
             ],
             [
              0.3333333333333333,
              "#9c179e"
             ],
             [
              0.4444444444444444,
              "#bd3786"
             ],
             [
              0.5555555555555556,
              "#d8576b"
             ],
             [
              0.6666666666666666,
              "#ed7953"
             ],
             [
              0.7777777777777778,
              "#fb9f3a"
             ],
             [
              0.8888888888888888,
              "#fdca26"
             ],
             [
              1,
              "#f0f921"
             ]
            ],
            "type": "histogram2d"
           }
          ],
          "histogram2dcontour": [
           {
            "colorbar": {
             "outlinewidth": 0,
             "ticks": ""
            },
            "colorscale": [
             [
              0,
              "#0d0887"
             ],
             [
              0.1111111111111111,
              "#46039f"
             ],
             [
              0.2222222222222222,
              "#7201a8"
             ],
             [
              0.3333333333333333,
              "#9c179e"
             ],
             [
              0.4444444444444444,
              "#bd3786"
             ],
             [
              0.5555555555555556,
              "#d8576b"
             ],
             [
              0.6666666666666666,
              "#ed7953"
             ],
             [
              0.7777777777777778,
              "#fb9f3a"
             ],
             [
              0.8888888888888888,
              "#fdca26"
             ],
             [
              1,
              "#f0f921"
             ]
            ],
            "type": "histogram2dcontour"
           }
          ],
          "mesh3d": [
           {
            "colorbar": {
             "outlinewidth": 0,
             "ticks": ""
            },
            "type": "mesh3d"
           }
          ],
          "parcoords": [
           {
            "line": {
             "colorbar": {
              "outlinewidth": 0,
              "ticks": ""
             }
            },
            "type": "parcoords"
           }
          ],
          "pie": [
           {
            "automargin": true,
            "type": "pie"
           }
          ],
          "scatter": [
           {
            "fillpattern": {
             "fillmode": "overlay",
             "size": 10,
             "solidity": 0.2
            },
            "type": "scatter"
           }
          ],
          "scatter3d": [
           {
            "line": {
             "colorbar": {
              "outlinewidth": 0,
              "ticks": ""
             }
            },
            "marker": {
             "colorbar": {
              "outlinewidth": 0,
              "ticks": ""
             }
            },
            "type": "scatter3d"
           }
          ],
          "scattercarpet": [
           {
            "marker": {
             "colorbar": {
              "outlinewidth": 0,
              "ticks": ""
             }
            },
            "type": "scattercarpet"
           }
          ],
          "scattergeo": [
           {
            "marker": {
             "colorbar": {
              "outlinewidth": 0,
              "ticks": ""
             }
            },
            "type": "scattergeo"
           }
          ],
          "scattergl": [
           {
            "marker": {
             "colorbar": {
              "outlinewidth": 0,
              "ticks": ""
             }
            },
            "type": "scattergl"
           }
          ],
          "scattermapbox": [
           {
            "marker": {
             "colorbar": {
              "outlinewidth": 0,
              "ticks": ""
             }
            },
            "type": "scattermapbox"
           }
          ],
          "scatterpolar": [
           {
            "marker": {
             "colorbar": {
              "outlinewidth": 0,
              "ticks": ""
             }
            },
            "type": "scatterpolar"
           }
          ],
          "scatterpolargl": [
           {
            "marker": {
             "colorbar": {
              "outlinewidth": 0,
              "ticks": ""
             }
            },
            "type": "scatterpolargl"
           }
          ],
          "scatterternary": [
           {
            "marker": {
             "colorbar": {
              "outlinewidth": 0,
              "ticks": ""
             }
            },
            "type": "scatterternary"
           }
          ],
          "surface": [
           {
            "colorbar": {
             "outlinewidth": 0,
             "ticks": ""
            },
            "colorscale": [
             [
              0,
              "#0d0887"
             ],
             [
              0.1111111111111111,
              "#46039f"
             ],
             [
              0.2222222222222222,
              "#7201a8"
             ],
             [
              0.3333333333333333,
              "#9c179e"
             ],
             [
              0.4444444444444444,
              "#bd3786"
             ],
             [
              0.5555555555555556,
              "#d8576b"
             ],
             [
              0.6666666666666666,
              "#ed7953"
             ],
             [
              0.7777777777777778,
              "#fb9f3a"
             ],
             [
              0.8888888888888888,
              "#fdca26"
             ],
             [
              1,
              "#f0f921"
             ]
            ],
            "type": "surface"
           }
          ],
          "table": [
           {
            "cells": {
             "fill": {
              "color": "#EBF0F8"
             },
             "line": {
              "color": "white"
             }
            },
            "header": {
             "fill": {
              "color": "#C8D4E3"
             },
             "line": {
              "color": "white"
             }
            },
            "type": "table"
           }
          ]
         },
         "layout": {
          "annotationdefaults": {
           "arrowcolor": "#2a3f5f",
           "arrowhead": 0,
           "arrowwidth": 1
          },
          "autotypenumbers": "strict",
          "coloraxis": {
           "colorbar": {
            "outlinewidth": 0,
            "ticks": ""
           }
          },
          "colorscale": {
           "diverging": [
            [
             0,
             "#8e0152"
            ],
            [
             0.1,
             "#c51b7d"
            ],
            [
             0.2,
             "#de77ae"
            ],
            [
             0.3,
             "#f1b6da"
            ],
            [
             0.4,
             "#fde0ef"
            ],
            [
             0.5,
             "#f7f7f7"
            ],
            [
             0.6,
             "#e6f5d0"
            ],
            [
             0.7,
             "#b8e186"
            ],
            [
             0.8,
             "#7fbc41"
            ],
            [
             0.9,
             "#4d9221"
            ],
            [
             1,
             "#276419"
            ]
           ],
           "sequential": [
            [
             0,
             "#0d0887"
            ],
            [
             0.1111111111111111,
             "#46039f"
            ],
            [
             0.2222222222222222,
             "#7201a8"
            ],
            [
             0.3333333333333333,
             "#9c179e"
            ],
            [
             0.4444444444444444,
             "#bd3786"
            ],
            [
             0.5555555555555556,
             "#d8576b"
            ],
            [
             0.6666666666666666,
             "#ed7953"
            ],
            [
             0.7777777777777778,
             "#fb9f3a"
            ],
            [
             0.8888888888888888,
             "#fdca26"
            ],
            [
             1,
             "#f0f921"
            ]
           ],
           "sequentialminus": [
            [
             0,
             "#0d0887"
            ],
            [
             0.1111111111111111,
             "#46039f"
            ],
            [
             0.2222222222222222,
             "#7201a8"
            ],
            [
             0.3333333333333333,
             "#9c179e"
            ],
            [
             0.4444444444444444,
             "#bd3786"
            ],
            [
             0.5555555555555556,
             "#d8576b"
            ],
            [
             0.6666666666666666,
             "#ed7953"
            ],
            [
             0.7777777777777778,
             "#fb9f3a"
            ],
            [
             0.8888888888888888,
             "#fdca26"
            ],
            [
             1,
             "#f0f921"
            ]
           ]
          },
          "colorway": [
           "#636efa",
           "#EF553B",
           "#00cc96",
           "#ab63fa",
           "#FFA15A",
           "#19d3f3",
           "#FF6692",
           "#B6E880",
           "#FF97FF",
           "#FECB52"
          ],
          "font": {
           "color": "#2a3f5f"
          },
          "geo": {
           "bgcolor": "white",
           "lakecolor": "white",
           "landcolor": "#E5ECF6",
           "showlakes": true,
           "showland": true,
           "subunitcolor": "white"
          },
          "hoverlabel": {
           "align": "left"
          },
          "hovermode": "closest",
          "mapbox": {
           "style": "light"
          },
          "paper_bgcolor": "white",
          "plot_bgcolor": "#E5ECF6",
          "polar": {
           "angularaxis": {
            "gridcolor": "white",
            "linecolor": "white",
            "ticks": ""
           },
           "bgcolor": "#E5ECF6",
           "radialaxis": {
            "gridcolor": "white",
            "linecolor": "white",
            "ticks": ""
           }
          },
          "scene": {
           "xaxis": {
            "backgroundcolor": "#E5ECF6",
            "gridcolor": "white",
            "gridwidth": 2,
            "linecolor": "white",
            "showbackground": true,
            "ticks": "",
            "zerolinecolor": "white"
           },
           "yaxis": {
            "backgroundcolor": "#E5ECF6",
            "gridcolor": "white",
            "gridwidth": 2,
            "linecolor": "white",
            "showbackground": true,
            "ticks": "",
            "zerolinecolor": "white"
           },
           "zaxis": {
            "backgroundcolor": "#E5ECF6",
            "gridcolor": "white",
            "gridwidth": 2,
            "linecolor": "white",
            "showbackground": true,
            "ticks": "",
            "zerolinecolor": "white"
           }
          },
          "shapedefaults": {
           "line": {
            "color": "#2a3f5f"
           }
          },
          "ternary": {
           "aaxis": {
            "gridcolor": "white",
            "linecolor": "white",
            "ticks": ""
           },
           "baxis": {
            "gridcolor": "white",
            "linecolor": "white",
            "ticks": ""
           },
           "bgcolor": "#E5ECF6",
           "caxis": {
            "gridcolor": "white",
            "linecolor": "white",
            "ticks": ""
           }
          },
          "title": {
           "x": 0.05
          },
          "xaxis": {
           "automargin": true,
           "gridcolor": "white",
           "linecolor": "white",
           "ticks": "",
           "title": {
            "standoff": 15
           },
           "zerolinecolor": "white",
           "zerolinewidth": 2
          },
          "yaxis": {
           "automargin": true,
           "gridcolor": "white",
           "linecolor": "white",
           "ticks": "",
           "title": {
            "standoff": 15
           },
           "zerolinecolor": "white",
           "zerolinewidth": 2
          }
         }
        }
       }
      },
      "text/html": [
       "<div>                            <div id=\"83ce9fb8-b9c5-4e66-91c0-ed9b80cc4d1e\" class=\"plotly-graph-div\" style=\"height:525px; width:100%;\"></div>            <script type=\"text/javascript\">                require([\"plotly\"], function(Plotly) {                    window.PLOTLYENV=window.PLOTLYENV || {};                                    if (document.getElementById(\"83ce9fb8-b9c5-4e66-91c0-ed9b80cc4d1e\")) {                    Plotly.newPlot(                        \"83ce9fb8-b9c5-4e66-91c0-ed9b80cc4d1e\",                        [{\"hovertemplate\":\"x=%{x}<br>y=%{y}<br>z=%{z}<extra></extra>\",\"legendgroup\":\"\",\"marker\":{\"color\":\"#636efa\",\"symbol\":\"circle\"},\"mode\":\"markers\",\"name\":\"\",\"scene\":\"scene\",\"showlegend\":false,\"x\":[-2.4053608376327364,0.35570769273859915,1.771037087369197,-0.27262200857320984,-1.4383853658236787,-1.9948255691988674,-0.2551078636036954,-0.23441893034059946,3.442605755854858,-0.4226582798371372,-1.600405377089258,-2.5435101754658898,2.809220199831687,3.221738824540764,3.649494915155855,-1.8643493667199094,-0.7794804716848396,2.3471875210642317,2.9775009385167497,-0.44468744541747274,0.10080395885664206,3.353644307377265,4.0355031535690316,0.2080863982146477,-2.7796731212916885,-0.77361252793099,0.7884967620266661,2.3861678535668807,-2.617897077449754,2.1056726942378408,1.7137729086225546,0.8059484434170008,2.0771964597655357,1.205628981049645,2.9234862125735424,2.355103883117713,3.946018149779447,3.5816338605242395,-1.1147477002783455,-1.2374476756861994,-2.369857798491674,-2.046775528133515,1.0138539392285697,1.7861533654436546,-0.6178869912450802,3.587154835470301,-0.6013000831868114,0.00834841273027509,2.8580998570294334,0.674637416417426,-0.4832681267176113,0.9715565156736803,2.8317936535766446,0.8082241250104425,2.2854833850353105,1.7746126611971391,0.9404004992675183,3.557039185971462,1.3835237389612907,2.8408564314798808,-2.684327931630194,2.6033084839776732,1.6553473497974434,-2.7862921753118304,0.5320505614718232,3.192938577942937,-1.7373281685206123,0.04748145278972338,1.9070343577349735,-1.9407485797217001,-1.772517576148641,0.6336397558497104,-0.3308721470418816,3.3574360872268345,2.467308869541589,-0.19845507247059668,-1.2327389147490737,-2.566146540083623,0.5586107170491221,1.9956728136130177,-1.8204922638877672,1.3747175247911327,-2.499408456640417,1.0411890728849764,-2.4943049792846965,3.24610803029375,-2.523270032876205,0.06619653577101126,1.0044958964348134,0.5506047955607176,0.00885768798036235,2.946150622541306,3.563026915389824,3.0140295802852846,-0.5797095451978436,0.6293743329130255,1.4815693486295034,0.3651798967808708,-2.4787334407053847,-0.6448312714453985],\"y\":[-1.522382421999041,0.45374402446081064,-1.4676241530937526,1.059859769748082,1.5774444911783423,2.66182684808314,-2.1260209669899064,0.056868545326681286,1.393877153081764,0.8969642204483952,1.7099796139968948,0.8797829341349273,-0.9930358753979966,-2.799101210056959,1.7423569912293342,3.026698703062018,3.1485208002453975,0.12290866917914967,0.47225072588908823,0.24560632314993747,-0.33791464636421154,-0.5706341117267657,3.9394726142652745,-0.9061017948860997,-1.206783240263507,-1.7924770212236303,1.6316423813038385,2.366204533210264,1.4470140325837528,-1.0072298034105802,2.692551559979794,-2.6601309966192552,-0.8061745761443622,4.132099251040443,1.1745921419817789,0.6834468776238278,1.356942034986976,3.9068072045330675,2.0053901267868,-0.7166424933130875,-0.32374710991247735,0.9776221428987886,-0.7050646685406505,1.2216897653809928,3.910008424189294,1.2499797714131242,-1.5854889167359516,3.9059535871197975,-1.082225953437225,3.8675888895689967,0.9022665617065551,-2.147705790880354,-2.2998291317034223,0.9088823605399536,1.9675248843615982,2.0855167358412787,-0.39067938661405366,-2.123924643805622,0.12171737410563832,-0.29712383103204587,3.404866183168056,0.7258306246600164,-1.1380881403601466,-1.551287779652816,3.5577166021738185,3.812841651849479,3.7939503383564626,-0.30351887773655584,3.0751893156576875,1.4880073511228513,2.271160574267168,-0.10156841067212241,2.9477259009941665,-0.8141676216095814,-0.5152941879435269,0.05983181791548109,1.6846584820538384,1.38003741992594,1.733621129130948,-1.9511273291364728,-2.7493773257497507,0.7702809705673097,2.0764012794126785,-0.44924343826718793,1.2152745709354162,1.692163229848993,-1.0322079145867464,0.5708245332174693,1.522909519586249,2.5968799459424643,-0.17789706109852865,-1.641656092259412,-0.226221483633684,-2.2275462232427854,1.311772592379823,0.06987241283693502,2.110647366547018,-0.28993146986914775,0.39832243981906146,1.496455414885352],\"z\":[11.599142732089277,2.9159979782531664,6.133466355307469,3.874108313297492,6.257583684990187,12.991354549136965,5.208166323517682,3.8345188899919957,16.90126249870179,4.245125985621281,6.206096530315248,8.752457236618246,10.271896367652387,19.61687547784378,18.394435525437295,15.274256033092499,10.83495434234949,6.45915259411862,11.921656606174787,1.4690844015568307,3.947561830176737,14.214507696307841,36.57109758292118,3.8158531328284537,12.503002588387286,6.506980312075961,4.792233538787846,14.579112947459372,9.358999142051417,7.533945684049049,13.223563120335081,9.540551516064243,8.20295760581524,21.916367407267785,13.923697325280388,10.200211516744645,20.07263929416775,34.548612315439314,7.3818369028971835,4.71753050603835,6.339181752964698,7.537367423759406,1.6432949489654647,7.547194724295302,17.033201979807618,15.698883293092157,2.560203183163164,18.357803867376536,12.508255467910129,18.458542742326923,2.3175728592094074,6.663807511061313,14.403541720291804,4.303547437077338,13.563818460055536,11.825408111787786,2.951164693279903,17.672824621222475,6.306748486029786,11.24077558272862,20.046054543755574,10.029932542807497,7.564929957770417,11.09576096297063,16.569142094011788,29.128657418553388,20.134831288279347,2.465911864527075,17.923926026852634,9.252421857043426,11.920794663732458,4.017739299161346,11.31316106776564,13.506206921161464,10.02677929679303,3.286024952051533,6.62248152762765,11.762764396421513,5.385330283212823,8.861717717258346,13.531377204584516,5.364389038245294,11.924990297294645,4.873375408118887,9.607822782271354,18.24237514034274,10.34305922245447,2.5157947393459437,5.290855584864985,10.655670439575745,1.761367576586988,12.488095269420405,15.389483990370973,16.102562534375327,4.712664834488074,2.011327495726987,8.246167443063232,1.985375824416235,5.9899292327087235,5.577246942124796],\"type\":\"scatter3d\"},{\"x\":[-2.7862921753118304,-2.02831491654729,-1.2703376577827499,-0.5123603990182097,0.24561685974633063,1.003594118510871,1.761571377275411,2.5195486360399517,3.2775258948044916,4.0355031535690316],\"y\":[-2.799101210056959,-2.0289678254905814,-1.2588344409242032,-0.48870105635782535,0.2814323282085529,1.0515657127749312,1.8216990973413085,2.591832481907687,3.361965866474065,4.132099251040443],\"z\":[[11.594008722159579,2.891425546868568,6.131842542496834,8.834574778092424,6.255846797072827,12.985205352821886,5.206400691115796,3.834757624709546,16.900660169127896,4.242849646651685],[6.2061317549585695,8.755900202834546,10.269897787415921,19.617514994016183,18.393293170773923,15.080158769512146,10.834048000214189,6.455942927443921,11.959635554397046,8.734912970861286],[3.945682680749833,14.212396639030807,36.570502101027905,8.834561863295216,12.504409788691937,8.832890645438637,4.790002583110272,14.576949138709843,9.357981501662671,7.534365175807416],[13.223244486892163,9.53914657100433,8.202070890510022,21.91528196257247,13.922740314787752,10.201562306912884,20.070652781569898,34.54675401612514,7.39235826074475,4.7156693296545384],[6.338341349133607,7.538012767027631,1.6425808058618898,7.545548837216138,8.84492209743006,15.705252467238843,2.555338679397046,8.834550426031628,12.869734052211856,18.456750931733787],[2.231611148019919,6.666508513954945,14.394846244299352,4.301117063258808,10.96647530459909,12.045762851571972,2.9499917836427088,17.672627268874585,6.305144606673657,8.834594198411013],[8.834573243114075,10.028483210647046,7.570584658198818,11.092855407440602,16.58650819250532,29.12852698429817,20.174967585647046,8.967199053911672,17.930094538772046,9.250612240616483],[8.832676457754923,8.716962221694258,11.314127741897046,13.523722468459546,10.029276667678296,3.28545938015197,6.618348175302181,11.761442620822727,5.385184366054837,8.834578759982591],[13.529635249221265,5.150400094920142,11.928385554397046,4.872172175490796,9.606097994887769,18.240857750169035,10.341207383716046,8.83456812429901,5.290784439825366,10.656178079879119],[1.7593038236289615,12.488519250181362,15.387604728727702,8.821408741067307,4.708440026783883,2.0209047233877726,8.247209813539321,9.233351433809386,5.98833681012804,5.419051299329656]],\"type\":\"surface\"}],                        {\"template\":{\"data\":{\"histogram2dcontour\":[{\"type\":\"histogram2dcontour\",\"colorbar\":{\"outlinewidth\":0,\"ticks\":\"\"},\"colorscale\":[[0.0,\"#0d0887\"],[0.1111111111111111,\"#46039f\"],[0.2222222222222222,\"#7201a8\"],[0.3333333333333333,\"#9c179e\"],[0.4444444444444444,\"#bd3786\"],[0.5555555555555556,\"#d8576b\"],[0.6666666666666666,\"#ed7953\"],[0.7777777777777778,\"#fb9f3a\"],[0.8888888888888888,\"#fdca26\"],[1.0,\"#f0f921\"]]}],\"choropleth\":[{\"type\":\"choropleth\",\"colorbar\":{\"outlinewidth\":0,\"ticks\":\"\"}}],\"histogram2d\":[{\"type\":\"histogram2d\",\"colorbar\":{\"outlinewidth\":0,\"ticks\":\"\"},\"colorscale\":[[0.0,\"#0d0887\"],[0.1111111111111111,\"#46039f\"],[0.2222222222222222,\"#7201a8\"],[0.3333333333333333,\"#9c179e\"],[0.4444444444444444,\"#bd3786\"],[0.5555555555555556,\"#d8576b\"],[0.6666666666666666,\"#ed7953\"],[0.7777777777777778,\"#fb9f3a\"],[0.8888888888888888,\"#fdca26\"],[1.0,\"#f0f921\"]]}],\"heatmap\":[{\"type\":\"heatmap\",\"colorbar\":{\"outlinewidth\":0,\"ticks\":\"\"},\"colorscale\":[[0.0,\"#0d0887\"],[0.1111111111111111,\"#46039f\"],[0.2222222222222222,\"#7201a8\"],[0.3333333333333333,\"#9c179e\"],[0.4444444444444444,\"#bd3786\"],[0.5555555555555556,\"#d8576b\"],[0.6666666666666666,\"#ed7953\"],[0.7777777777777778,\"#fb9f3a\"],[0.8888888888888888,\"#fdca26\"],[1.0,\"#f0f921\"]]}],\"heatmapgl\":[{\"type\":\"heatmapgl\",\"colorbar\":{\"outlinewidth\":0,\"ticks\":\"\"},\"colorscale\":[[0.0,\"#0d0887\"],[0.1111111111111111,\"#46039f\"],[0.2222222222222222,\"#7201a8\"],[0.3333333333333333,\"#9c179e\"],[0.4444444444444444,\"#bd3786\"],[0.5555555555555556,\"#d8576b\"],[0.6666666666666666,\"#ed7953\"],[0.7777777777777778,\"#fb9f3a\"],[0.8888888888888888,\"#fdca26\"],[1.0,\"#f0f921\"]]}],\"contourcarpet\":[{\"type\":\"contourcarpet\",\"colorbar\":{\"outlinewidth\":0,\"ticks\":\"\"}}],\"contour\":[{\"type\":\"contour\",\"colorbar\":{\"outlinewidth\":0,\"ticks\":\"\"},\"colorscale\":[[0.0,\"#0d0887\"],[0.1111111111111111,\"#46039f\"],[0.2222222222222222,\"#7201a8\"],[0.3333333333333333,\"#9c179e\"],[0.4444444444444444,\"#bd3786\"],[0.5555555555555556,\"#d8576b\"],[0.6666666666666666,\"#ed7953\"],[0.7777777777777778,\"#fb9f3a\"],[0.8888888888888888,\"#fdca26\"],[1.0,\"#f0f921\"]]}],\"surface\":[{\"type\":\"surface\",\"colorbar\":{\"outlinewidth\":0,\"ticks\":\"\"},\"colorscale\":[[0.0,\"#0d0887\"],[0.1111111111111111,\"#46039f\"],[0.2222222222222222,\"#7201a8\"],[0.3333333333333333,\"#9c179e\"],[0.4444444444444444,\"#bd3786\"],[0.5555555555555556,\"#d8576b\"],[0.6666666666666666,\"#ed7953\"],[0.7777777777777778,\"#fb9f3a\"],[0.8888888888888888,\"#fdca26\"],[1.0,\"#f0f921\"]]}],\"mesh3d\":[{\"type\":\"mesh3d\",\"colorbar\":{\"outlinewidth\":0,\"ticks\":\"\"}}],\"scatter\":[{\"fillpattern\":{\"fillmode\":\"overlay\",\"size\":10,\"solidity\":0.2},\"type\":\"scatter\"}],\"parcoords\":[{\"type\":\"parcoords\",\"line\":{\"colorbar\":{\"outlinewidth\":0,\"ticks\":\"\"}}}],\"scatterpolargl\":[{\"type\":\"scatterpolargl\",\"marker\":{\"colorbar\":{\"outlinewidth\":0,\"ticks\":\"\"}}}],\"bar\":[{\"error_x\":{\"color\":\"#2a3f5f\"},\"error_y\":{\"color\":\"#2a3f5f\"},\"marker\":{\"line\":{\"color\":\"#E5ECF6\",\"width\":0.5},\"pattern\":{\"fillmode\":\"overlay\",\"size\":10,\"solidity\":0.2}},\"type\":\"bar\"}],\"scattergeo\":[{\"type\":\"scattergeo\",\"marker\":{\"colorbar\":{\"outlinewidth\":0,\"ticks\":\"\"}}}],\"scatterpolar\":[{\"type\":\"scatterpolar\",\"marker\":{\"colorbar\":{\"outlinewidth\":0,\"ticks\":\"\"}}}],\"histogram\":[{\"marker\":{\"pattern\":{\"fillmode\":\"overlay\",\"size\":10,\"solidity\":0.2}},\"type\":\"histogram\"}],\"scattergl\":[{\"type\":\"scattergl\",\"marker\":{\"colorbar\":{\"outlinewidth\":0,\"ticks\":\"\"}}}],\"scatter3d\":[{\"type\":\"scatter3d\",\"line\":{\"colorbar\":{\"outlinewidth\":0,\"ticks\":\"\"}},\"marker\":{\"colorbar\":{\"outlinewidth\":0,\"ticks\":\"\"}}}],\"scattermapbox\":[{\"type\":\"scattermapbox\",\"marker\":{\"colorbar\":{\"outlinewidth\":0,\"ticks\":\"\"}}}],\"scatterternary\":[{\"type\":\"scatterternary\",\"marker\":{\"colorbar\":{\"outlinewidth\":0,\"ticks\":\"\"}}}],\"scattercarpet\":[{\"type\":\"scattercarpet\",\"marker\":{\"colorbar\":{\"outlinewidth\":0,\"ticks\":\"\"}}}],\"carpet\":[{\"aaxis\":{\"endlinecolor\":\"#2a3f5f\",\"gridcolor\":\"white\",\"linecolor\":\"white\",\"minorgridcolor\":\"white\",\"startlinecolor\":\"#2a3f5f\"},\"baxis\":{\"endlinecolor\":\"#2a3f5f\",\"gridcolor\":\"white\",\"linecolor\":\"white\",\"minorgridcolor\":\"white\",\"startlinecolor\":\"#2a3f5f\"},\"type\":\"carpet\"}],\"table\":[{\"cells\":{\"fill\":{\"color\":\"#EBF0F8\"},\"line\":{\"color\":\"white\"}},\"header\":{\"fill\":{\"color\":\"#C8D4E3\"},\"line\":{\"color\":\"white\"}},\"type\":\"table\"}],\"barpolar\":[{\"marker\":{\"line\":{\"color\":\"#E5ECF6\",\"width\":0.5},\"pattern\":{\"fillmode\":\"overlay\",\"size\":10,\"solidity\":0.2}},\"type\":\"barpolar\"}],\"pie\":[{\"automargin\":true,\"type\":\"pie\"}]},\"layout\":{\"autotypenumbers\":\"strict\",\"colorway\":[\"#636efa\",\"#EF553B\",\"#00cc96\",\"#ab63fa\",\"#FFA15A\",\"#19d3f3\",\"#FF6692\",\"#B6E880\",\"#FF97FF\",\"#FECB52\"],\"font\":{\"color\":\"#2a3f5f\"},\"hovermode\":\"closest\",\"hoverlabel\":{\"align\":\"left\"},\"paper_bgcolor\":\"white\",\"plot_bgcolor\":\"#E5ECF6\",\"polar\":{\"bgcolor\":\"#E5ECF6\",\"angularaxis\":{\"gridcolor\":\"white\",\"linecolor\":\"white\",\"ticks\":\"\"},\"radialaxis\":{\"gridcolor\":\"white\",\"linecolor\":\"white\",\"ticks\":\"\"}},\"ternary\":{\"bgcolor\":\"#E5ECF6\",\"aaxis\":{\"gridcolor\":\"white\",\"linecolor\":\"white\",\"ticks\":\"\"},\"baxis\":{\"gridcolor\":\"white\",\"linecolor\":\"white\",\"ticks\":\"\"},\"caxis\":{\"gridcolor\":\"white\",\"linecolor\":\"white\",\"ticks\":\"\"}},\"coloraxis\":{\"colorbar\":{\"outlinewidth\":0,\"ticks\":\"\"}},\"colorscale\":{\"sequential\":[[0.0,\"#0d0887\"],[0.1111111111111111,\"#46039f\"],[0.2222222222222222,\"#7201a8\"],[0.3333333333333333,\"#9c179e\"],[0.4444444444444444,\"#bd3786\"],[0.5555555555555556,\"#d8576b\"],[0.6666666666666666,\"#ed7953\"],[0.7777777777777778,\"#fb9f3a\"],[0.8888888888888888,\"#fdca26\"],[1.0,\"#f0f921\"]],\"sequentialminus\":[[0.0,\"#0d0887\"],[0.1111111111111111,\"#46039f\"],[0.2222222222222222,\"#7201a8\"],[0.3333333333333333,\"#9c179e\"],[0.4444444444444444,\"#bd3786\"],[0.5555555555555556,\"#d8576b\"],[0.6666666666666666,\"#ed7953\"],[0.7777777777777778,\"#fb9f3a\"],[0.8888888888888888,\"#fdca26\"],[1.0,\"#f0f921\"]],\"diverging\":[[0,\"#8e0152\"],[0.1,\"#c51b7d\"],[0.2,\"#de77ae\"],[0.3,\"#f1b6da\"],[0.4,\"#fde0ef\"],[0.5,\"#f7f7f7\"],[0.6,\"#e6f5d0\"],[0.7,\"#b8e186\"],[0.8,\"#7fbc41\"],[0.9,\"#4d9221\"],[1,\"#276419\"]]},\"xaxis\":{\"gridcolor\":\"white\",\"linecolor\":\"white\",\"ticks\":\"\",\"title\":{\"standoff\":15},\"zerolinecolor\":\"white\",\"automargin\":true,\"zerolinewidth\":2},\"yaxis\":{\"gridcolor\":\"white\",\"linecolor\":\"white\",\"ticks\":\"\",\"title\":{\"standoff\":15},\"zerolinecolor\":\"white\",\"automargin\":true,\"zerolinewidth\":2},\"scene\":{\"xaxis\":{\"backgroundcolor\":\"#E5ECF6\",\"gridcolor\":\"white\",\"linecolor\":\"white\",\"showbackground\":true,\"ticks\":\"\",\"zerolinecolor\":\"white\",\"gridwidth\":2},\"yaxis\":{\"backgroundcolor\":\"#E5ECF6\",\"gridcolor\":\"white\",\"linecolor\":\"white\",\"showbackground\":true,\"ticks\":\"\",\"zerolinecolor\":\"white\",\"gridwidth\":2},\"zaxis\":{\"backgroundcolor\":\"#E5ECF6\",\"gridcolor\":\"white\",\"linecolor\":\"white\",\"showbackground\":true,\"ticks\":\"\",\"zerolinecolor\":\"white\",\"gridwidth\":2}},\"shapedefaults\":{\"line\":{\"color\":\"#2a3f5f\"}},\"annotationdefaults\":{\"arrowcolor\":\"#2a3f5f\",\"arrowhead\":0,\"arrowwidth\":1},\"geo\":{\"bgcolor\":\"white\",\"landcolor\":\"#E5ECF6\",\"subunitcolor\":\"white\",\"showland\":true,\"showlakes\":true,\"lakecolor\":\"white\"},\"title\":{\"x\":0.05},\"mapbox\":{\"style\":\"light\"}}},\"scene\":{\"domain\":{\"x\":[0.0,1.0],\"y\":[0.0,1.0]},\"xaxis\":{\"title\":{\"text\":\"x\"}},\"yaxis\":{\"title\":{\"text\":\"y\"}},\"zaxis\":{\"title\":{\"text\":\"z\"},\"range\":[0,35]}},\"legend\":{\"tracegroupgap\":0},\"margin\":{\"t\":60}},                        {\"responsive\": true}                    ).then(function(){\n",
       "                            \n",
       "var gd = document.getElementById('83ce9fb8-b9c5-4e66-91c0-ed9b80cc4d1e');\n",
       "var x = new MutationObserver(function (mutations, observer) {{\n",
       "        var display = window.getComputedStyle(gd).display;\n",
       "        if (!display || display === 'none') {{\n",
       "            console.log([gd, 'removed!']);\n",
       "            Plotly.purge(gd);\n",
       "            observer.disconnect();\n",
       "        }}\n",
       "}});\n",
       "\n",
       "// Listen for the removal of the full notebook cells\n",
       "var notebookContainer = gd.closest('#notebook-container');\n",
       "if (notebookContainer) {{\n",
       "    x.observe(notebookContainer, {childList: true});\n",
       "}}\n",
       "\n",
       "// Listen for the clearing of the current output cell\n",
       "var outputEl = gd.closest('.output');\n",
       "if (outputEl) {{\n",
       "    x.observe(outputEl, {childList: true});\n",
       "}}\n",
       "\n",
       "                        })                };                });            </script>        </div>"
      ]
     },
     "metadata": {},
     "output_type": "display_data"
    }
   ],
   "source": [
    "fig = px.scatter_3d(x=x.ravel(), y=y.ravel(), z=z.ravel())\n",
    "\n",
    "fig.add_trace(go.Surface(x = x_input, y = y_input, z =z_final))\n",
    "\n",
    "fig.update_layout(scene = dict(zaxis = dict(range=[0,35])))\n",
    "\n",
    "fig.show()"
   ]
  },
  {
   "cell_type": "code",
   "execution_count": null,
   "id": "5b046dcc",
   "metadata": {},
   "outputs": [],
   "source": []
  }
 ],
 "metadata": {
  "kernelspec": {
   "display_name": "Python 3 (ipykernel)",
   "language": "python",
   "name": "python3"
  },
  "language_info": {
   "codemirror_mode": {
    "name": "ipython",
    "version": 3
   },
   "file_extension": ".py",
   "mimetype": "text/x-python",
   "name": "python",
   "nbconvert_exporter": "python",
   "pygments_lexer": "ipython3",
   "version": "3.7.7"
  }
 },
 "nbformat": 4,
 "nbformat_minor": 5
}
