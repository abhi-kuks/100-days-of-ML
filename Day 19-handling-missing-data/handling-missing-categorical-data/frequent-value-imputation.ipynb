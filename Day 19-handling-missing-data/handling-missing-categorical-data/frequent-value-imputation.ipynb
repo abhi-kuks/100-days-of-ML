{
 "cells": [
  {
   "cell_type": "code",
   "execution_count": 9,
   "id": "11795b94",
   "metadata": {},
   "outputs": [],
   "source": [
    "import pandas as pd\n",
    "import numpy as np\n",
    "import matplotlib.pyplot as plt\n",
    "import seaborn as sns"
   ]
  },
  {
   "cell_type": "code",
   "execution_count": 2,
   "id": "b2383e3b",
   "metadata": {},
   "outputs": [],
   "source": [
    "df = pd.read_csv('train.csv',usecols=['GarageQual','FireplaceQu','SalePrice'])"
   ]
  },
  {
   "cell_type": "code",
   "execution_count": 3,
   "id": "0709bdec",
   "metadata": {},
   "outputs": [
    {
     "data": {
      "text/html": [
       "<div>\n",
       "<style scoped>\n",
       "    .dataframe tbody tr th:only-of-type {\n",
       "        vertical-align: middle;\n",
       "    }\n",
       "\n",
       "    .dataframe tbody tr th {\n",
       "        vertical-align: top;\n",
       "    }\n",
       "\n",
       "    .dataframe thead th {\n",
       "        text-align: right;\n",
       "    }\n",
       "</style>\n",
       "<table border=\"1\" class=\"dataframe\">\n",
       "  <thead>\n",
       "    <tr style=\"text-align: right;\">\n",
       "      <th></th>\n",
       "      <th>FireplaceQu</th>\n",
       "      <th>GarageQual</th>\n",
       "      <th>SalePrice</th>\n",
       "    </tr>\n",
       "  </thead>\n",
       "  <tbody>\n",
       "    <tr>\n",
       "      <th>0</th>\n",
       "      <td>NaN</td>\n",
       "      <td>TA</td>\n",
       "      <td>208500</td>\n",
       "    </tr>\n",
       "    <tr>\n",
       "      <th>1</th>\n",
       "      <td>TA</td>\n",
       "      <td>TA</td>\n",
       "      <td>181500</td>\n",
       "    </tr>\n",
       "    <tr>\n",
       "      <th>2</th>\n",
       "      <td>TA</td>\n",
       "      <td>TA</td>\n",
       "      <td>223500</td>\n",
       "    </tr>\n",
       "    <tr>\n",
       "      <th>3</th>\n",
       "      <td>Gd</td>\n",
       "      <td>TA</td>\n",
       "      <td>140000</td>\n",
       "    </tr>\n",
       "    <tr>\n",
       "      <th>4</th>\n",
       "      <td>TA</td>\n",
       "      <td>TA</td>\n",
       "      <td>250000</td>\n",
       "    </tr>\n",
       "    <tr>\n",
       "      <th>...</th>\n",
       "      <td>...</td>\n",
       "      <td>...</td>\n",
       "      <td>...</td>\n",
       "    </tr>\n",
       "    <tr>\n",
       "      <th>1455</th>\n",
       "      <td>TA</td>\n",
       "      <td>TA</td>\n",
       "      <td>175000</td>\n",
       "    </tr>\n",
       "    <tr>\n",
       "      <th>1456</th>\n",
       "      <td>TA</td>\n",
       "      <td>TA</td>\n",
       "      <td>210000</td>\n",
       "    </tr>\n",
       "    <tr>\n",
       "      <th>1457</th>\n",
       "      <td>Gd</td>\n",
       "      <td>TA</td>\n",
       "      <td>266500</td>\n",
       "    </tr>\n",
       "    <tr>\n",
       "      <th>1458</th>\n",
       "      <td>NaN</td>\n",
       "      <td>TA</td>\n",
       "      <td>142125</td>\n",
       "    </tr>\n",
       "    <tr>\n",
       "      <th>1459</th>\n",
       "      <td>NaN</td>\n",
       "      <td>TA</td>\n",
       "      <td>147500</td>\n",
       "    </tr>\n",
       "  </tbody>\n",
       "</table>\n",
       "<p>1460 rows × 3 columns</p>\n",
       "</div>"
      ],
      "text/plain": [
       "     FireplaceQu GarageQual  SalePrice\n",
       "0            NaN         TA     208500\n",
       "1             TA         TA     181500\n",
       "2             TA         TA     223500\n",
       "3             Gd         TA     140000\n",
       "4             TA         TA     250000\n",
       "...          ...        ...        ...\n",
       "1455          TA         TA     175000\n",
       "1456          TA         TA     210000\n",
       "1457          Gd         TA     266500\n",
       "1458         NaN         TA     142125\n",
       "1459         NaN         TA     147500\n",
       "\n",
       "[1460 rows x 3 columns]"
      ]
     },
     "execution_count": 3,
     "metadata": {},
     "output_type": "execute_result"
    }
   ],
   "source": [
    "df"
   ]
  },
  {
   "cell_type": "code",
   "execution_count": 5,
   "id": "4f3a0e1b",
   "metadata": {},
   "outputs": [
    {
     "data": {
      "text/plain": [
       "FireplaceQu    47.260274\n",
       "GarageQual      5.547945\n",
       "SalePrice       0.000000\n",
       "dtype: float64"
      ]
     },
     "execution_count": 5,
     "metadata": {},
     "output_type": "execute_result"
    }
   ],
   "source": [
    "df.isnull().mean()*100"
   ]
  },
  {
   "cell_type": "code",
   "execution_count": 6,
   "id": "3ca6527c",
   "metadata": {},
   "outputs": [
    {
     "data": {
      "text/plain": [
       "Text(0, 0.5, 'Number of houses')"
      ]
     },
     "execution_count": 6,
     "metadata": {},
     "output_type": "execute_result"
    },
    {
     "data": {
      "image/png": "[encoded data removed]",
      "text/plain": [
       "<Figure size 432x288 with 1 Axes>"
      ]
     },
     "metadata": {
      "needs_background": "light"
     },
     "output_type": "display_data"
    }
   ],
   "source": [
    "df['GarageQual'].value_counts().sort_values(ascending =False).plot.bar()\n",
    "plt.xlabel('GarageQual')\n",
    "plt.ylabel('Number of houses')"
   ]
  },
  {
   "cell_type": "code",
   "execution_count": 7,
   "id": "47a59dba",
   "metadata": {},
   "outputs": [
    {
     "data": {
      "text/plain": [
       "0    TA\n",
       "dtype: object"
      ]
     },
     "execution_count": 7,
     "metadata": {},
     "output_type": "execute_result"
    }
   ],
   "source": [
    "df['GarageQual'].mode()"
   ]
  },
  {
   "cell_type": "code",
   "execution_count": 16,
   "id": "62f760e6",
   "metadata": {},
   "outputs": [
    {
     "data": {
      "text/plain": [
       "Text(0.5, 1.0, 'GarageQual')"
      ]
     },
     "execution_count": 16,
     "metadata": {},
     "output_type": "execute_result"
    },
    {
     "data": {
      "image/png": "[encoded data removed]",
      "text/plain": [
       "<Figure size 432x288 with 1 Axes>"
      ]
     },
     "metadata": {
      "needs_background": "light"
     },
     "output_type": "display_data"
    }
   ],
   "source": [
    "fig , ax = plt.subplots()\n",
    "df[df['GarageQual']== \"TA\"]['SalePrice'].plot(kind ='kde',ax=ax)\n",
    "\n",
    "df[df['GarageQual'].isnull()]['SalePrice'].plot(kind ='kde',ax=ax)\n",
    "\n",
    "lines, labels =ax.get_legend_handles_labels()\n",
    "labels = ['Houses with TA','Houses with NA']\n",
    "ax.legend(lines,labels , loc ='best')\n",
    "\n",
    "plt.title('GarageQual')"
   ]
  },
  {
   "cell_type": "code",
   "execution_count": 18,
   "id": "5cc5155a",
   "metadata": {},
   "outputs": [],
   "source": [
    "temp= df[df['GarageQual']=='TA']['SalePrice']"
   ]
  },
  {
   "cell_type": "code",
   "execution_count": 20,
   "id": "241b9353",
   "metadata": {},
   "outputs": [],
   "source": [
    "df['GarageQual'].fillna('TA',inplace = True)"
   ]
  },
  {
   "cell_type": "code",
   "execution_count": 21,
   "id": "a0eb83a1",
   "metadata": {},
   "outputs": [
    {
     "data": {
      "text/plain": [
       "<AxesSubplot:>"
      ]
     },
     "execution_count": 21,
     "metadata": {},
     "output_type": "execute_result"
    },
    {
     "data": {
      "image/png": "[encoded data removed]",
      "text/plain": [
       "<Figure size 432x288 with 1 Axes>"
      ]
     },
     "metadata": {
      "needs_background": "light"
     },
     "output_type": "display_data"
    }
   ],
   "source": [
    "df['GarageQual'].value_counts().plot(kind='bar')"
   ]
  },
  {
   "cell_type": "code",
   "execution_count": 24,
   "id": "26796950",
   "metadata": {},
   "outputs": [
    {
     "data": {
      "text/plain": [
       "Text(0.5, 1.0, 'GarageQual')"
      ]
     },
     "execution_count": 24,
     "metadata": {},
     "output_type": "execute_result"
    },
    {
     "data": {
      "image/png": "[encoded data removed]",
      "text/plain": [
       "<Figure size 432x288 with 1 Axes>"
      ]
     },
     "metadata": {
      "needs_background": "light"
     },
     "output_type": "display_data"
    }
   ],
   "source": [
    "fig , ax = plt.subplots()\n",
    "df[df['GarageQual']== \"TA\"]['SalePrice'].plot(kind ='kde',ax=ax)\n",
    "\n",
    "temp.plot(kind ='kde',ax=ax)\n",
    "\n",
    "lines, labels =ax.get_legend_handles_labels()\n",
    "labels = ['Imputed Variable','Original Variable']\n",
    "ax.legend(lines,labels , loc ='best')\n",
    "\n",
    "plt.title('GarageQual')"
   ]
  },
  {
   "cell_type": "code",
   "execution_count": 25,
   "id": "d9d2ecba",
   "metadata": {},
   "outputs": [
    {
     "data": {
      "text/plain": [
       "<AxesSubplot:>"
      ]
     },
     "execution_count": 25,
     "metadata": {},
     "output_type": "execute_result"
    },
    {
     "data": {
      "image/png": "[encoded data removed]",
      "text/plain": [
       "<Figure size 432x288 with 1 Axes>"
      ]
     },
     "metadata": {
      "needs_background": "light"
     },
     "output_type": "display_data"
    }
   ],
   "source": [
    "df['FireplaceQu'].value_counts().plot(kind= 'bar')"
   ]
  },
  {
   "cell_type": "code",
   "execution_count": 27,
   "id": "0fcba78a",
   "metadata": {},
   "outputs": [
    {
     "data": {
      "text/plain": [
       "0    Gd\n",
       "dtype: object"
      ]
     },
     "execution_count": 27,
     "metadata": {},
     "output_type": "execute_result"
    }
   ],
   "source": [
    "df['FireplaceQu'].mode()"
   ]
  },
  {
   "cell_type": "code",
   "execution_count": 32,
   "id": "17999f03",
   "metadata": {},
   "outputs": [
    {
     "data": {
      "text/plain": [
       "0       NaN\n",
       "1        TA\n",
       "2        TA\n",
       "3        Gd\n",
       "4        TA\n",
       "       ... \n",
       "1455     TA\n",
       "1456     TA\n",
       "1457     Gd\n",
       "1458    NaN\n",
       "1459    NaN\n",
       "Name: FireplaceQu, Length: 1460, dtype: object"
      ]
     },
     "execution_count": 32,
     "metadata": {},
     "output_type": "execute_result"
    }
   ],
   "source": [
    "df['FireplaceQu']"
   ]
  },
  {
   "cell_type": "code",
   "execution_count": 36,
   "id": "4faaaf50",
   "metadata": {},
   "outputs": [
    {
     "data": {
      "text/html": [
       "<div>\n",
       "<style scoped>\n",
       "    .dataframe tbody tr th:only-of-type {\n",
       "        vertical-align: middle;\n",
       "    }\n",
       "\n",
       "    .dataframe tbody tr th {\n",
       "        vertical-align: top;\n",
       "    }\n",
       "\n",
       "    .dataframe thead th {\n",
       "        text-align: right;\n",
       "    }\n",
       "</style>\n",
       "<table border=\"1\" class=\"dataframe\">\n",
       "  <thead>\n",
       "    <tr style=\"text-align: right;\">\n",
       "      <th></th>\n",
       "      <th>FireplaceQu</th>\n",
       "      <th>GarageQual</th>\n",
       "      <th>SalePrice</th>\n",
       "    </tr>\n",
       "  </thead>\n",
       "  <tbody>\n",
       "    <tr>\n",
       "      <th>0</th>\n",
       "      <td>NaN</td>\n",
       "      <td>TA</td>\n",
       "      <td>208500</td>\n",
       "    </tr>\n",
       "    <tr>\n",
       "      <th>1</th>\n",
       "      <td>TA</td>\n",
       "      <td>TA</td>\n",
       "      <td>181500</td>\n",
       "    </tr>\n",
       "    <tr>\n",
       "      <th>2</th>\n",
       "      <td>TA</td>\n",
       "      <td>TA</td>\n",
       "      <td>223500</td>\n",
       "    </tr>\n",
       "    <tr>\n",
       "      <th>3</th>\n",
       "      <td>Gd</td>\n",
       "      <td>TA</td>\n",
       "      <td>140000</td>\n",
       "    </tr>\n",
       "    <tr>\n",
       "      <th>4</th>\n",
       "      <td>TA</td>\n",
       "      <td>TA</td>\n",
       "      <td>250000</td>\n",
       "    </tr>\n",
       "    <tr>\n",
       "      <th>...</th>\n",
       "      <td>...</td>\n",
       "      <td>...</td>\n",
       "      <td>...</td>\n",
       "    </tr>\n",
       "    <tr>\n",
       "      <th>1455</th>\n",
       "      <td>TA</td>\n",
       "      <td>TA</td>\n",
       "      <td>175000</td>\n",
       "    </tr>\n",
       "    <tr>\n",
       "      <th>1456</th>\n",
       "      <td>TA</td>\n",
       "      <td>TA</td>\n",
       "      <td>210000</td>\n",
       "    </tr>\n",
       "    <tr>\n",
       "      <th>1457</th>\n",
       "      <td>Gd</td>\n",
       "      <td>TA</td>\n",
       "      <td>266500</td>\n",
       "    </tr>\n",
       "    <tr>\n",
       "      <th>1458</th>\n",
       "      <td>NaN</td>\n",
       "      <td>TA</td>\n",
       "      <td>142125</td>\n",
       "    </tr>\n",
       "    <tr>\n",
       "      <th>1459</th>\n",
       "      <td>NaN</td>\n",
       "      <td>TA</td>\n",
       "      <td>147500</td>\n",
       "    </tr>\n",
       "  </tbody>\n",
       "</table>\n",
       "<p>1460 rows × 3 columns</p>\n",
       "</div>"
      ],
      "text/plain": [
       "     FireplaceQu GarageQual  SalePrice\n",
       "0            NaN         TA     208500\n",
       "1             TA         TA     181500\n",
       "2             TA         TA     223500\n",
       "3             Gd         TA     140000\n",
       "4             TA         TA     250000\n",
       "...          ...        ...        ...\n",
       "1455          TA         TA     175000\n",
       "1456          TA         TA     210000\n",
       "1457          Gd         TA     266500\n",
       "1458         NaN         TA     142125\n",
       "1459         NaN         TA     147500\n",
       "\n",
       "[1460 rows x 3 columns]"
      ]
     },
     "execution_count": 36,
     "metadata": {},
     "output_type": "execute_result"
    }
   ],
   "source": [
    "df"
   ]
  },
  {
   "cell_type": "code",
   "execution_count": 37,
   "id": "7a08f489",
   "metadata": {},
   "outputs": [
    {
     "data": {
      "text/plain": [
       "Text(0.5, 1.0, 'FireplaceQu')"
      ]
     },
     "execution_count": 37,
     "metadata": {},
     "output_type": "execute_result"
    },
    {
     "data": {
      "image/png": "[encoded data removed]",
      "text/plain": [
       "<Figure size 432x288 with 1 Axes>"
      ]
     },
     "metadata": {
      "needs_background": "light"
     },
     "output_type": "display_data"
    }
   ],
   "source": [
    "# df[df['FireplaceQu']=='GD']['SalePrice'].plot(kind= 'kde' )\n",
    "\n",
    "\n",
    "fig = plt.figure()\n",
    "\n",
    "ax = plt.subplot(111)\n",
    "\n",
    "df[df['FireplaceQu']== \"Gd\"]['SalePrice'].plot(kind ='kde',ax=ax)\n",
    "\n",
    "df[df['FireplaceQu'].isnull()]['SalePrice'].plot(kind= 'kde',ax=ax )\n",
    "\n",
    "\n",
    "lines, labels =ax.get_legend_handles_labels()\n",
    "labels = ['with GD',' with Na']\n",
    "ax.legend(lines,labels , loc ='best')\n",
    "\n",
    "plt.title('FireplaceQu')"
   ]
  },
  {
   "cell_type": "code",
   "execution_count": 38,
   "id": "d2290a89",
   "metadata": {},
   "outputs": [],
   "source": [
    "temp = df[df['FireplaceQu']=='Gd']['SalePrice']"
   ]
  },
  {
   "cell_type": "code",
   "execution_count": 39,
   "id": "05165c51",
   "metadata": {},
   "outputs": [],
   "source": [
    "df['FireplaceQu'].fillna('Gd',inplace = True)"
   ]
  },
  {
   "cell_type": "code",
   "execution_count": 40,
   "id": "0d205bc8",
   "metadata": {},
   "outputs": [
    {
     "data": {
      "text/plain": [
       "Text(0.5, 1.0, 'FireplaceQu')"
      ]
     },
     "execution_count": 40,
     "metadata": {},
     "output_type": "execute_result"
    },
    {
     "data": {
      "image/png": "[encoded data removed]",
      "text/plain": [
       "<Figure size 432x288 with 1 Axes>"
      ]
     },
     "metadata": {
      "needs_background": "light"
     },
     "output_type": "display_data"
    }
   ],
   "source": [
    "\n",
    "fig = plt.figure()\n",
    "\n",
    "ax = plt.subplot(111)\n",
    "\n",
    "df[df['FireplaceQu']=='Gd']['SalePrice'].plot(kind ='kde',ax=ax)\n",
    "\n",
    "temp.plot(kind= 'kde',ax=ax )\n",
    "\n",
    "\n",
    "lines, labels =ax.get_legend_handles_labels()\n",
    "labels = ['IMputed',' Orginal']\n",
    "ax.legend(lines,labels , loc ='best')\n",
    "\n",
    "plt.title('FireplaceQu')"
   ]
  },
  {
   "cell_type": "code",
   "execution_count": 41,
   "id": "9ffaa497",
   "metadata": {},
   "outputs": [
    {
     "data": {
      "text/plain": [
       "<AxesSubplot:>"
      ]
     },
     "execution_count": 41,
     "metadata": {},
     "output_type": "execute_result"
    },
    {
     "data": {
      "image/png": "[encoded data removed]",
      "text/plain": [
       "<Figure size 432x288 with 1 Axes>"
      ]
     },
     "metadata": {
      "needs_background": "light"
     },
     "output_type": "display_data"
    }
   ],
   "source": [
    "df['FireplaceQu'].value_counts().plot(kind ='bar')"
   ]
  },
  {
   "cell_type": "code",
   "execution_count": 42,
   "id": "4e6b3ea4",
   "metadata": {},
   "outputs": [],
   "source": [
    "from sklearn.model_selection import train_test_split"
   ]
  },
  {
   "cell_type": "code",
   "execution_count": 43,
   "id": "f9f7f056",
   "metadata": {},
   "outputs": [
    {
     "data": {
      "text/html": [
       "<div>\n",
       "<style scoped>\n",
       "    .dataframe tbody tr th:only-of-type {\n",
       "        vertical-align: middle;\n",
       "    }\n",
       "\n",
       "    .dataframe tbody tr th {\n",
       "        vertical-align: top;\n",
       "    }\n",
       "\n",
       "    .dataframe thead th {\n",
       "        text-align: right;\n",
       "    }\n",
       "</style>\n",
       "<table border=\"1\" class=\"dataframe\">\n",
       "  <thead>\n",
       "    <tr style=\"text-align: right;\">\n",
       "      <th></th>\n",
       "      <th>FireplaceQu</th>\n",
       "      <th>GarageQual</th>\n",
       "      <th>SalePrice</th>\n",
       "    </tr>\n",
       "  </thead>\n",
       "  <tbody>\n",
       "    <tr>\n",
       "      <th>1378</th>\n",
       "      <td>Gd</td>\n",
       "      <td>TA</td>\n",
       "      <td>83000</td>\n",
       "    </tr>\n",
       "    <tr>\n",
       "      <th>1218</th>\n",
       "      <td>Gd</td>\n",
       "      <td>TA</td>\n",
       "      <td>80500</td>\n",
       "    </tr>\n",
       "    <tr>\n",
       "      <th>362</th>\n",
       "      <td>Ex</td>\n",
       "      <td>TA</td>\n",
       "      <td>198500</td>\n",
       "    </tr>\n",
       "    <tr>\n",
       "      <th>322</th>\n",
       "      <td>TA</td>\n",
       "      <td>TA</td>\n",
       "      <td>301000</td>\n",
       "    </tr>\n",
       "    <tr>\n",
       "      <th>593</th>\n",
       "      <td>Gd</td>\n",
       "      <td>TA</td>\n",
       "      <td>140000</td>\n",
       "    </tr>\n",
       "  </tbody>\n",
       "</table>\n",
       "</div>"
      ],
      "text/plain": [
       "     FireplaceQu GarageQual  SalePrice\n",
       "1378          Gd         TA      83000\n",
       "1218          Gd         TA      80500\n",
       "362           Ex         TA     198500\n",
       "322           TA         TA     301000\n",
       "593           Gd         TA     140000"
      ]
     },
     "execution_count": 43,
     "metadata": {},
     "output_type": "execute_result"
    }
   ],
   "source": [
    "df.sample(5)"
   ]
  },
  {
   "cell_type": "code",
   "execution_count": 44,
   "id": "1c8514e2",
   "metadata": {},
   "outputs": [],
   "source": [
    "X_train,X_test,y_train,y_test = train_test_split(df.drop(columns = ['SalePrice']),df['SalePrice'],test_size=0.2)"
   ]
  },
  {
   "cell_type": "code",
   "execution_count": 45,
   "id": "3bc9b978",
   "metadata": {},
   "outputs": [],
   "source": [
    "from sklearn.impute import SimpleImputer"
   ]
  },
  {
   "cell_type": "code",
   "execution_count": 46,
   "id": "ffe44f88",
   "metadata": {},
   "outputs": [],
   "source": [
    "si = SimpleImputer(strategy='most_frequent')"
   ]
  },
  {
   "cell_type": "code",
   "execution_count": 47,
   "id": "a312e70f",
   "metadata": {},
   "outputs": [],
   "source": [
    "X_train = si.fit_transform(X_train)\n",
    "X_test = si.transform(X_test)"
   ]
  },
  {
   "cell_type": "code",
   "execution_count": 49,
   "id": "42bac836",
   "metadata": {},
   "outputs": [
    {
     "data": {
      "text/plain": [
       "array(['Gd', 'TA'], dtype=object)"
      ]
     },
     "execution_count": 49,
     "metadata": {},
     "output_type": "execute_result"
    }
   ],
   "source": [
    "si.statistics_"
   ]
  }
 ],
 "metadata": {
  "kernelspec": {
   "display_name": "Python 3 (ipykernel)",
   "language": "python",
   "name": "python3"
  },
  "language_info": {
   "codemirror_mode": {
    "name": "ipython",
    "version": 3
   },
   "file_extension": ".py",
   "mimetype": "text/x-python",
   "name": "python",
   "nbconvert_exporter": "python",
   "pygments_lexer": "ipython3",
   "version": "3.7.7"
  }
 },
 "nbformat": 4,
 "nbformat_minor": 5
}
