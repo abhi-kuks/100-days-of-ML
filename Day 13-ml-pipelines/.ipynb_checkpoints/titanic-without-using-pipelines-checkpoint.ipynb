{
 "cells": [
  {
   "cell_type": "markdown",
   "id": "5a5f0ec5",
   "metadata": {},
   "source": [
    "# Scikit Learn Pipelines\n",
    "- Pipelines chains together multiple steps so that the output of each step is input to the next step.\n",
    "\n",
    "- Pipeline makes our work easy to apply the same preprocessing to train and test."
   ]
  },
  {
   "cell_type": "markdown",
   "id": "66e6e541",
   "metadata": {},
   "source": [
    "## Let's begine but first I'll take you all through a process of what would happen if we don't use pipelines"
   ]
  },
  {
   "cell_type": "code",
   "execution_count": 139,
   "id": "ff1c7d92",
   "metadata": {},
   "outputs": [],
   "source": [
    "# Lets gear up \n",
    "import numpy as np\n",
    "import pandas as pd\n",
    "\n",
    "from sklearn.model_selection import train_test_split\n",
    "from sklearn.preprocessing import OneHotEncoder, MinMaxScaler\n",
    "from sklearn.impute import SimpleImputer\n",
    "from sklearn.tree import DecisionTreeClassifier"
   ]
  },
  {
   "cell_type": "markdown",
   "id": "199b3d4b",
   "metadata": {},
   "source": [
    "***I'll not focus more on exploring data here ; The main goal is to see the importance of pipelines, so you have to bear with that but if you want there's a step by step basic analysis as well. We're doing this work on very famous titanic dataset***"
   ]
  },
  {
   "cell_type": "code",
   "execution_count": 10,
   "id": "f901aa99",
   "metadata": {},
   "outputs": [],
   "source": [
    "df = pd.read_csv('train.csv')"
   ]
  },
  {
   "cell_type": "code",
   "execution_count": 11,
   "id": "c639fbba",
   "metadata": {},
   "outputs": [
    {
     "data": {
      "text/html": [
       "<div>\n",
       "<style scoped>\n",
       "    .dataframe tbody tr th:only-of-type {\n",
       "        vertical-align: middle;\n",
       "    }\n",
       "\n",
       "    .dataframe tbody tr th {\n",
       "        vertical-align: top;\n",
       "    }\n",
       "\n",
       "    .dataframe thead th {\n",
       "        text-align: right;\n",
       "    }\n",
       "</style>\n",
       "<table border=\"1\" class=\"dataframe\">\n",
       "  <thead>\n",
       "    <tr style=\"text-align: right;\">\n",
       "      <th></th>\n",
       "      <th>PassengerId</th>\n",
       "      <th>Survived</th>\n",
       "      <th>Pclass</th>\n",
       "      <th>Name</th>\n",
       "      <th>Sex</th>\n",
       "      <th>Age</th>\n",
       "      <th>SibSp</th>\n",
       "      <th>Parch</th>\n",
       "      <th>Ticket</th>\n",
       "      <th>Fare</th>\n",
       "      <th>Cabin</th>\n",
       "      <th>Embarked</th>\n",
       "    </tr>\n",
       "  </thead>\n",
       "  <tbody>\n",
       "    <tr>\n",
       "      <th>373</th>\n",
       "      <td>374</td>\n",
       "      <td>0</td>\n",
       "      <td>1</td>\n",
       "      <td>Ringhini, Mr. Sante</td>\n",
       "      <td>male</td>\n",
       "      <td>22.0</td>\n",
       "      <td>0</td>\n",
       "      <td>0</td>\n",
       "      <td>PC 17760</td>\n",
       "      <td>135.6333</td>\n",
       "      <td>NaN</td>\n",
       "      <td>C</td>\n",
       "    </tr>\n",
       "    <tr>\n",
       "      <th>447</th>\n",
       "      <td>448</td>\n",
       "      <td>1</td>\n",
       "      <td>1</td>\n",
       "      <td>Seward, Mr. Frederic Kimber</td>\n",
       "      <td>male</td>\n",
       "      <td>34.0</td>\n",
       "      <td>0</td>\n",
       "      <td>0</td>\n",
       "      <td>113794</td>\n",
       "      <td>26.5500</td>\n",
       "      <td>NaN</td>\n",
       "      <td>S</td>\n",
       "    </tr>\n",
       "  </tbody>\n",
       "</table>\n",
       "</div>"
      ],
      "text/plain": [
       "     PassengerId  Survived  Pclass                         Name   Sex   Age  \\\n",
       "373          374         0       1          Ringhini, Mr. Sante  male  22.0   \n",
       "447          448         1       1  Seward, Mr. Frederic Kimber  male  34.0   \n",
       "\n",
       "     SibSp  Parch    Ticket      Fare Cabin Embarked  \n",
       "373      0      0  PC 17760  135.6333   NaN        C  \n",
       "447      0      0    113794   26.5500   NaN        S  "
      ]
     },
     "execution_count": 11,
     "metadata": {},
     "output_type": "execute_result"
    }
   ],
   "source": [
    "df.sample(2)"
   ]
  },
  {
   "cell_type": "code",
   "execution_count": 12,
   "id": "827d6984",
   "metadata": {},
   "outputs": [],
   "source": [
    "df.drop(columns = ['PassengerId' , 'Name' ,'Ticket' , 'Cabin'],inplace = True)"
   ]
  },
  {
   "cell_type": "code",
   "execution_count": 13,
   "id": "816ece9a",
   "metadata": {},
   "outputs": [
    {
     "data": {
      "text/html": [
       "<div>\n",
       "<style scoped>\n",
       "    .dataframe tbody tr th:only-of-type {\n",
       "        vertical-align: middle;\n",
       "    }\n",
       "\n",
       "    .dataframe tbody tr th {\n",
       "        vertical-align: top;\n",
       "    }\n",
       "\n",
       "    .dataframe thead th {\n",
       "        text-align: right;\n",
       "    }\n",
       "</style>\n",
       "<table border=\"1\" class=\"dataframe\">\n",
       "  <thead>\n",
       "    <tr style=\"text-align: right;\">\n",
       "      <th></th>\n",
       "      <th>Survived</th>\n",
       "      <th>Pclass</th>\n",
       "      <th>Sex</th>\n",
       "      <th>Age</th>\n",
       "      <th>SibSp</th>\n",
       "      <th>Parch</th>\n",
       "      <th>Fare</th>\n",
       "      <th>Embarked</th>\n",
       "    </tr>\n",
       "  </thead>\n",
       "  <tbody>\n",
       "    <tr>\n",
       "      <th>0</th>\n",
       "      <td>0</td>\n",
       "      <td>3</td>\n",
       "      <td>male</td>\n",
       "      <td>22.0</td>\n",
       "      <td>1</td>\n",
       "      <td>0</td>\n",
       "      <td>7.2500</td>\n",
       "      <td>S</td>\n",
       "    </tr>\n",
       "    <tr>\n",
       "      <th>1</th>\n",
       "      <td>1</td>\n",
       "      <td>1</td>\n",
       "      <td>female</td>\n",
       "      <td>38.0</td>\n",
       "      <td>1</td>\n",
       "      <td>0</td>\n",
       "      <td>71.2833</td>\n",
       "      <td>C</td>\n",
       "    </tr>\n",
       "    <tr>\n",
       "      <th>2</th>\n",
       "      <td>1</td>\n",
       "      <td>3</td>\n",
       "      <td>female</td>\n",
       "      <td>26.0</td>\n",
       "      <td>0</td>\n",
       "      <td>0</td>\n",
       "      <td>7.9250</td>\n",
       "      <td>S</td>\n",
       "    </tr>\n",
       "    <tr>\n",
       "      <th>3</th>\n",
       "      <td>1</td>\n",
       "      <td>1</td>\n",
       "      <td>female</td>\n",
       "      <td>35.0</td>\n",
       "      <td>1</td>\n",
       "      <td>0</td>\n",
       "      <td>53.1000</td>\n",
       "      <td>S</td>\n",
       "    </tr>\n",
       "    <tr>\n",
       "      <th>4</th>\n",
       "      <td>0</td>\n",
       "      <td>3</td>\n",
       "      <td>male</td>\n",
       "      <td>35.0</td>\n",
       "      <td>0</td>\n",
       "      <td>0</td>\n",
       "      <td>8.0500</td>\n",
       "      <td>S</td>\n",
       "    </tr>\n",
       "  </tbody>\n",
       "</table>\n",
       "</div>"
      ],
      "text/plain": [
       "   Survived  Pclass     Sex   Age  SibSp  Parch     Fare Embarked\n",
       "0         0       3    male  22.0      1      0   7.2500        S\n",
       "1         1       1  female  38.0      1      0  71.2833        C\n",
       "2         1       3  female  26.0      0      0   7.9250        S\n",
       "3         1       1  female  35.0      1      0  53.1000        S\n",
       "4         0       3    male  35.0      0      0   8.0500        S"
      ]
     },
     "execution_count": 13,
     "metadata": {},
     "output_type": "execute_result"
    }
   ],
   "source": [
    "df.head()"
   ]
  },
  {
   "cell_type": "code",
   "execution_count": 14,
   "id": "85bf225d",
   "metadata": {},
   "outputs": [
    {
     "data": {
      "text/plain": [
       "Survived      0\n",
       "Pclass        0\n",
       "Sex           0\n",
       "Age         177\n",
       "SibSp         0\n",
       "Parch         0\n",
       "Fare          0\n",
       "Embarked      2\n",
       "dtype: int64"
      ]
     },
     "execution_count": 14,
     "metadata": {},
     "output_type": "execute_result"
    }
   ],
   "source": [
    "df.isnull().sum()"
   ]
  },
  {
   "cell_type": "markdown",
   "id": "58ae0220",
   "metadata": {},
   "source": [
    "# Plan of action\n",
    "\n",
    "### Train test split data before all these steps\n",
    "\n",
    "\n",
    ">Now the worst part is we have to do this whole process again when we need to use this model , Sounds confusing  so let's demistify.  "
   ]
  },
  {
   "cell_type": "code",
   "execution_count": 15,
   "id": "f9dcff24",
   "metadata": {},
   "outputs": [],
   "source": [
    "from sklearn.model_selection import train_test_split\n",
    "X_train,X_test,y_train,y_test = train_test_split(df.drop(columns=['Survived']),\n",
    "                                                df['Survived'],\n",
    "                                                test_size=0.2,\n",
    "                                                random_state =42)\n",
    "                                                "
   ]
  },
  {
   "cell_type": "code",
   "execution_count": 29,
   "id": "38f0be25",
   "metadata": {},
   "outputs": [
    {
     "data": {
      "text/plain": [
       "331    S\n",
       "733    S\n",
       "382    S\n",
       "704    S\n",
       "813    S\n",
       "      ..\n",
       "106    S\n",
       "270    S\n",
       "860    S\n",
       "435    S\n",
       "102    S\n",
       "Name: Embarked, Length: 712, dtype: object"
      ]
     },
     "execution_count": 29,
     "metadata": {},
     "output_type": "execute_result"
    }
   ],
   "source": [
    "X_train['Embarked']"
   ]
  },
  {
   "cell_type": "code",
   "execution_count": 33,
   "id": "224efbce",
   "metadata": {},
   "outputs": [],
   "source": [
    "#Applyting Imputation\n",
    "\n",
    "si_age = SimpleImputer()  # mean value default is going to replace\n",
    "si_embarked = SimpleImputer(strategy='most_frequent') # most frequent value i.e \"S\"\n",
    "\n",
    "X_train_age = si_age.fit_transform(X_train[['Age']])\n",
    "X_train_embarked = si_embarked.fit_transform(X_train[['Embarked']])\n",
    "\n",
    "X_test_age = si_age.transform(X_test[['Age']])\n",
    "X_test_embarked = si_embarked.transform(X_test[['Embarked']])"
   ]
  },
  {
   "cell_type": "code",
   "execution_count": 34,
   "id": "a2cfb961",
   "metadata": {},
   "outputs": [
    {
     "data": {
      "text/plain": [
       "array([['C'],\n",
       "       ['S'],\n",
       "       ['S'],\n",
       "       ['S'],\n",
       "       ['C'],\n",
       "       ['S'],\n",
       "       ['Q'],\n",
       "       ['S'],\n",
       "       ['Q'],\n",
       "       ['S'],\n",
       "       ['S'],\n",
       "       ['S'],\n",
       "       ['S'],\n",
       "       ['C'],\n",
       "       ['S'],\n",
       "       ['S'],\n",
       "       ['S'],\n",
       "       ['Q'],\n",
       "       ['S'],\n",
       "       ['S'],\n",
       "       ['S'],\n",
       "       ['S'],\n",
       "       ['S'],\n",
       "       ['S'],\n",
       "       ['S'],\n",
       "       ['S'],\n",
       "       ['C'],\n",
       "       ['S'],\n",
       "       ['S'],\n",
       "       ['S'],\n",
       "       ['S'],\n",
       "       ['S'],\n",
       "       ['C'],\n",
       "       ['S'],\n",
       "       ['S'],\n",
       "       ['C'],\n",
       "       ['S'],\n",
       "       ['Q'],\n",
       "       ['C'],\n",
       "       ['S'],\n",
       "       ['S'],\n",
       "       ['S'],\n",
       "       ['S'],\n",
       "       ['Q'],\n",
       "       ['C'],\n",
       "       ['S'],\n",
       "       ['S'],\n",
       "       ['S'],\n",
       "       ['S'],\n",
       "       ['C'],\n",
       "       ['C'],\n",
       "       ['S'],\n",
       "       ['S'],\n",
       "       ['S'],\n",
       "       ['Q'],\n",
       "       ['S'],\n",
       "       ['S'],\n",
       "       ['C'],\n",
       "       ['S'],\n",
       "       ['Q'],\n",
       "       ['S'],\n",
       "       ['S'],\n",
       "       ['S'],\n",
       "       ['S'],\n",
       "       ['Q'],\n",
       "       ['S'],\n",
       "       ['S'],\n",
       "       ['S'],\n",
       "       ['C'],\n",
       "       ['C'],\n",
       "       ['S'],\n",
       "       ['C'],\n",
       "       ['C'],\n",
       "       ['C'],\n",
       "       ['S'],\n",
       "       ['S'],\n",
       "       ['Q'],\n",
       "       ['C'],\n",
       "       ['S'],\n",
       "       ['S'],\n",
       "       ['S'],\n",
       "       ['S'],\n",
       "       ['C'],\n",
       "       ['Q'],\n",
       "       ['C'],\n",
       "       ['C'],\n",
       "       ['C'],\n",
       "       ['C'],\n",
       "       ['S'],\n",
       "       ['S'],\n",
       "       ['S'],\n",
       "       ['S'],\n",
       "       ['S'],\n",
       "       ['Q'],\n",
       "       ['S'],\n",
       "       ['S'],\n",
       "       ['S'],\n",
       "       ['S'],\n",
       "       ['S'],\n",
       "       ['S'],\n",
       "       ['S'],\n",
       "       ['S'],\n",
       "       ['C'],\n",
       "       ['S'],\n",
       "       ['S'],\n",
       "       ['S'],\n",
       "       ['S'],\n",
       "       ['S'],\n",
       "       ['S'],\n",
       "       ['C'],\n",
       "       ['S'],\n",
       "       ['S'],\n",
       "       ['C'],\n",
       "       ['S'],\n",
       "       ['S'],\n",
       "       ['S'],\n",
       "       ['C'],\n",
       "       ['C'],\n",
       "       ['S'],\n",
       "       ['S'],\n",
       "       ['S'],\n",
       "       ['C'],\n",
       "       ['S'],\n",
       "       ['S'],\n",
       "       ['S'],\n",
       "       ['C'],\n",
       "       ['S'],\n",
       "       ['C'],\n",
       "       ['C'],\n",
       "       ['S'],\n",
       "       ['Q'],\n",
       "       ['C'],\n",
       "       ['S'],\n",
       "       ['S'],\n",
       "       ['C'],\n",
       "       ['C'],\n",
       "       ['C'],\n",
       "       ['S'],\n",
       "       ['S'],\n",
       "       ['S'],\n",
       "       ['S'],\n",
       "       ['S'],\n",
       "       ['S'],\n",
       "       ['S'],\n",
       "       ['Q'],\n",
       "       ['S'],\n",
       "       ['S'],\n",
       "       ['S'],\n",
       "       ['C'],\n",
       "       ['S'],\n",
       "       ['C'],\n",
       "       ['S'],\n",
       "       ['S'],\n",
       "       ['Q'],\n",
       "       ['S'],\n",
       "       ['S'],\n",
       "       ['S'],\n",
       "       ['Q'],\n",
       "       ['S'],\n",
       "       ['Q'],\n",
       "       ['C'],\n",
       "       ['S'],\n",
       "       ['S'],\n",
       "       ['C'],\n",
       "       ['Q'],\n",
       "       ['C'],\n",
       "       ['S'],\n",
       "       ['S'],\n",
       "       ['S'],\n",
       "       ['S'],\n",
       "       ['C'],\n",
       "       ['S'],\n",
       "       ['S'],\n",
       "       ['C'],\n",
       "       ['S'],\n",
       "       ['C'],\n",
       "       ['S'],\n",
       "       ['S'],\n",
       "       ['S']], dtype=object)"
      ]
     },
     "execution_count": 34,
     "metadata": {},
     "output_type": "execute_result"
    }
   ],
   "source": [
    "X_test_embarked"
   ]
  },
  {
   "cell_type": "code",
   "execution_count": 35,
   "id": "0aa976e7",
   "metadata": {},
   "outputs": [],
   "source": [
    "# one hot encoding Sex and Embarked\n",
    "#  Now here I am not going to use drop ='First' \n",
    "# as there will no dummy variable trap because we're using Decision trees;\n",
    "# which is not a linear model so no issue.\n",
    "# Here I am creating two different OHE objects because there are still missing\n",
    "# values present .\n",
    "# Yes we did filled up missing values but we got that in new numpy array in return \n",
    "# handle_unknown is for future like if we get any values which we don't know about\n",
    "# then we're going to ignore them eg(getting 'M' which is not a station)\n",
    "# phew\n",
    "\n",
    "\n",
    "ohe_sex = OneHotEncoder(sparse = False , handle_unknown='ignore')\n",
    "ohe_embarked = OneHotEncoder(sparse=False ,handle_unknown= 'ignore')\n",
    "\n",
    "X_train_sex = ohe_sex.fit_transform(X_train[['Sex']])\n",
    "X_train_embarked = ohe_embarked.fit_transform(X_train_embarked)\n",
    "\n",
    "X_test_sex = ohe_sex.transform(X_test[['Sex']])\n",
    "X_test_embarked = ohe_embarked.transform(X_test_embarked)\n"
   ]
  },
  {
   "cell_type": "code",
   "execution_count": 38,
   "id": "b93401e8",
   "metadata": {},
   "outputs": [
    {
     "data": {
      "text/plain": [
       "array([[0., 0., 1.],\n",
       "       [0., 0., 1.],\n",
       "       [0., 0., 1.],\n",
       "       ...,\n",
       "       [0., 0., 1.],\n",
       "       [0., 0., 1.],\n",
       "       [0., 0., 1.]])"
      ]
     },
     "execution_count": 38,
     "metadata": {},
     "output_type": "execute_result"
    }
   ],
   "source": [
    "X_train_embarked"
   ]
  },
  {
   "cell_type": "code",
   "execution_count": 39,
   "id": "1359d1cd",
   "metadata": {},
   "outputs": [],
   "source": [
    "# Remaining columns looks fine so well use them as it is\n",
    "\n",
    "X_train_rem = X_train.drop(columns = ['Sex','Age','Embarked'])\n",
    "\n",
    "X_test_rem = X_test.drop(columns = ['Sex','Age','Embarked'])"
   ]
  },
  {
   "cell_type": "code",
   "execution_count": 40,
   "id": "5928a6d4",
   "metadata": {},
   "outputs": [],
   "source": [
    "# COncatinating everything \n",
    "# Remeber the order \n",
    "\n",
    "X_train_transformed = np.concatenate((X_train_rem ,X_train_age,X_train_sex,X_train_embarked), axis =1)\n",
    "X_test_transformed = np.concatenate((X_test_rem ,X_test_age,X_test_sex,X_test_embarked), axis =1)\n"
   ]
  },
  {
   "cell_type": "code",
   "execution_count": 44,
   "id": "9dd7b2c2",
   "metadata": {},
   "outputs": [
    {
     "data": {
      "text/plain": [
       "((712, 10), (179, 10))"
      ]
     },
     "execution_count": 44,
     "metadata": {},
     "output_type": "execute_result"
    }
   ],
   "source": [
    "# 1 col of Age, 2 Col of Sex , 3 COl of Embarked , 4 different features[Pclass , Sibsp, Parch, fare]\n",
    "X_train_transformed.shape ,X_test_transformed.shape"
   ]
  },
  {
   "cell_type": "code",
   "execution_count": 45,
   "id": "97ef8866",
   "metadata": {},
   "outputs": [
    {
     "data": {
      "text/plain": [
       "DecisionTreeClassifier()"
      ]
     },
     "execution_count": 45,
     "metadata": {},
     "output_type": "execute_result"
    }
   ],
   "source": [
    "# Building the classifier\n",
    "clf =DecisionTreeClassifier()\n",
    "clf.fit(X_train_transformed,y_train)"
   ]
  },
  {
   "cell_type": "code",
   "execution_count": 48,
   "id": "5b9e7d39",
   "metadata": {},
   "outputs": [
    {
     "data": {
      "text/plain": [
       "array([0, 0, 1, 1, 1, 1, 1, 0, 1, 1, 0, 0, 0, 0, 0, 1, 0, 1, 0, 0, 0, 0,\n",
       "       0, 0, 0, 0, 0, 0, 0, 0, 0, 1, 1, 1, 0, 0, 1, 1, 1, 0, 0, 0, 0, 0,\n",
       "       0, 0, 0, 0, 1, 0, 1, 1, 0, 1, 1, 1, 1, 0, 1, 0, 1, 1, 1, 0, 0, 1,\n",
       "       0, 0, 0, 1, 1, 1, 1, 1, 0, 0, 1, 1, 1, 1, 0, 1, 1, 0, 1, 0, 1, 1,\n",
       "       0, 0, 1, 0, 0, 0, 0, 0, 1, 0, 1, 0, 0, 0, 1, 0, 0, 1, 1, 0, 0, 0,\n",
       "       1, 0, 1, 1, 0, 0, 0, 0, 1, 0, 0, 1, 1, 1, 0, 0, 1, 1, 0, 0, 1, 0,\n",
       "       0, 1, 1, 0, 1, 0, 0, 0, 0, 1, 0, 0, 0, 1, 0, 1, 1, 0, 0, 1, 0, 0,\n",
       "       0, 0, 0, 1, 1, 1, 0, 0, 0, 1, 0, 0, 0, 1, 0, 0, 0, 0, 1, 1, 0, 0,\n",
       "       0, 1, 1], dtype=int64)"
      ]
     },
     "execution_count": 48,
     "metadata": {},
     "output_type": "execute_result"
    }
   ],
   "source": [
    "y_pred = clf.predict(X_test_transformed)\n",
    "y_pred"
   ]
  },
  {
   "cell_type": "code",
   "execution_count": 49,
   "id": "cb2cc10b",
   "metadata": {},
   "outputs": [
    {
     "data": {
      "text/plain": [
       "0.776536312849162"
      ]
     },
     "execution_count": 49,
     "metadata": {},
     "output_type": "execute_result"
    }
   ],
   "source": [
    "from sklearn.metrics import accuracy_score\n",
    "accuracy_score(y_test,y_pred)"
   ]
  },
  {
   "cell_type": "code",
   "execution_count": 50,
   "id": "9bed05c4",
   "metadata": {},
   "outputs": [],
   "source": [
    "# Let's say if we want to deploy this model to a website and predict\n",
    "# if someone gives us the same data and we predict whether he/she lives or not \n",
    "# then what??\n",
    "import pickle"
   ]
  },
  {
   "cell_type": "code",
   "execution_count": 51,
   "id": "28e341e8",
   "metadata": {},
   "outputs": [],
   "source": [
    "# wb -> write binary , rb-> read binary \n",
    "# I have not taken the imputer one because I know I am going to get the age\n",
    "# because I am going to give the age hahaha , so this is just to understand\n",
    "# the gist of pipelines remember \n",
    "\n",
    "pickle.dump(ohe_sex ,open('models/ohe_sex.pkl' , 'wb'))\n",
    "pickle.dump(ohe_embarked ,open('models/ohe_embarked.pkl' , 'wb'))\n",
    "pickle.dump(clf ,open('models/clf.pkl' , 'wb'))"
   ]
  },
  {
   "cell_type": "markdown",
   "id": "60fe85b6",
   "metadata": {},
   "source": [
    "# Let's think of this part as web page now"
   ]
  },
  {
   "cell_type": "code",
   "execution_count": 52,
   "id": "bebe3f89",
   "metadata": {},
   "outputs": [],
   "source": [
    "ohe_sex_web = pickle.load(open('models/ohe_sex.pkl' , 'rb'))\n",
    "ohe_embarked_web = pickle.load(open('models/ohe_embarked.pkl' , 'rb'))\n",
    "clf_web = pickle.load(open('models/clf.pkl' , 'rb'))"
   ]
  },
  {
   "cell_type": "code",
   "execution_count": 53,
   "id": "85c4c180",
   "metadata": {},
   "outputs": [],
   "source": [
    "#  A user input \n",
    "# Pclass / gender / age / SibSp / Parch/Fare /Embarked\n",
    "test_input = np.array([2,'male' ,31.0 , 0 ,0 ,10.5 ,'S'] ,dtype =object).reshape(1,7)"
   ]
  },
  {
   "cell_type": "code",
   "execution_count": 54,
   "id": "37305365",
   "metadata": {},
   "outputs": [
    {
     "data": {
      "text/plain": [
       "array([[2, 'male', 31.0, 0, 0, 10.5, 'S']], dtype=object)"
      ]
     },
     "execution_count": 54,
     "metadata": {},
     "output_type": "execute_result"
    }
   ],
   "source": [
    "test_input"
   ]
  },
  {
   "cell_type": "code",
   "execution_count": 58,
   "id": "618a5913",
   "metadata": {},
   "outputs": [
    {
     "name": "stderr",
     "output_type": "stream",
     "text": [
      "C:\\Users\\Abhishek\\miniconda3\\lib\\site-packages\\sklearn\\base.py:451: UserWarning: X does not have valid feature names, but OneHotEncoder was fitted with feature names\n",
      "  \"X does not have valid feature names, but\"\n"
     ]
    }
   ],
   "source": [
    "test_input_sex = ohe_sex_web.transform(test_input[:,1].reshape(1,1))"
   ]
  },
  {
   "cell_type": "code",
   "execution_count": 61,
   "id": "9720dc47",
   "metadata": {},
   "outputs": [
    {
     "data": {
      "text/plain": [
       "array([[0., 1.]])"
      ]
     },
     "execution_count": 61,
     "metadata": {},
     "output_type": "execute_result"
    }
   ],
   "source": [
    "test_input_sex"
   ]
  },
  {
   "cell_type": "code",
   "execution_count": 59,
   "id": "990cf5ac",
   "metadata": {},
   "outputs": [],
   "source": [
    "test_input_embardked = ohe_embarked_web.transform(test_input[:,-1].reshape(1,1))"
   ]
  },
  {
   "cell_type": "code",
   "execution_count": 62,
   "id": "b62eef9f",
   "metadata": {},
   "outputs": [
    {
     "data": {
      "text/plain": [
       "array([[0., 0., 1.]])"
      ]
     },
     "execution_count": 62,
     "metadata": {},
     "output_type": "execute_result"
    }
   ],
   "source": [
    "test_input_embardked"
   ]
  },
  {
   "cell_type": "code",
   "execution_count": 63,
   "id": "8f4e754b",
   "metadata": {},
   "outputs": [],
   "source": [
    "test_input_age = test_input[:,2].reshape(1,1)"
   ]
  },
  {
   "cell_type": "code",
   "execution_count": 64,
   "id": "65eb856d",
   "metadata": {},
   "outputs": [
    {
     "data": {
      "text/plain": [
       "array([[31.0]], dtype=object)"
      ]
     },
     "execution_count": 64,
     "metadata": {},
     "output_type": "execute_result"
    }
   ],
   "source": [
    "test_input_age"
   ]
  },
  {
   "cell_type": "code",
   "execution_count": 65,
   "id": "867d48fd",
   "metadata": {},
   "outputs": [],
   "source": [
    "# Mantain the order\n",
    "test_input_transformed =np.concatenate((test_input[:,[0,3,4,5]] ,test_input_age,\n",
    "                                       test_input_sex,test_input_embardked) ,axis =1)"
   ]
  },
  {
   "cell_type": "code",
   "execution_count": 67,
   "id": "a38e83b0",
   "metadata": {},
   "outputs": [
    {
     "data": {
      "text/plain": [
       "(1, 10)"
      ]
     },
     "execution_count": 67,
     "metadata": {},
     "output_type": "execute_result"
    }
   ],
   "source": [
    "test_input_transformed.shape"
   ]
  },
  {
   "cell_type": "code",
   "execution_count": 69,
   "id": "eab67598",
   "metadata": {},
   "outputs": [
    {
     "data": {
      "text/plain": [
       "array([0], dtype=int64)"
      ]
     },
     "execution_count": 69,
     "metadata": {},
     "output_type": "execute_result"
    }
   ],
   "source": [
    "clf_web.predict(test_input_transformed)"
   ]
  },
  {
   "cell_type": "markdown",
   "id": "93e96a37",
   "metadata": {},
   "source": [
    "- Now think how much of hardwork we went through for this plus\n",
    "-  How much much changes are required in production code which is considered very bad practice\n",
    "- Now , if we make some changes or updates we have to remember the order of our X_transformed , do similar process over @prodcution as well.\n",
    "- This makes difficult and at the same time confusing \n",
    "\n",
    "> IN basic words , we need to follow same process / worklow in both uat and production when we don't make pipelines.So what we can do ??\n",
    "Scikit learn comes to rescue here \n",
    "\n",
    "***That is why we should use pipelines and let's understand***"
   ]
  },
  {
   "cell_type": "markdown",
   "id": "5d1e6f7d",
   "metadata": {},
   "source": [
    "# PIPELINE Workflow"
   ]
  },
  {
   "cell_type": "code",
   "execution_count": 70,
   "id": "0e9baf98",
   "metadata": {},
   "outputs": [],
   "source": [
    "# Let's have a clean start, I am importing again just as to refer this as a \n",
    "# new notebook\n",
    "\n",
    "from sklearn.compose import ColumnTransformer\n",
    "from sklearn.pipeline import Pipeline , make_pipeline\n",
    "from sklearn.feature_selection import SelectKBest ,chi2\n",
    "from sklearn.impute import SimpleImputer\n",
    "from sklearn.model_selection import train_test_split\n",
    "from sklearn.preprocessing import OneHotEncoder , MinMaxScaler\n",
    "from sklearn.tree import DecisionTreeClassifier"
   ]
  },
  {
   "cell_type": "code",
   "execution_count": 71,
   "id": "195f6244",
   "metadata": {},
   "outputs": [],
   "source": [
    "data = pd.read_csv('train.csv')"
   ]
  },
  {
   "cell_type": "code",
   "execution_count": 73,
   "id": "634e4186",
   "metadata": {},
   "outputs": [
    {
     "data": {
      "text/html": [
       "<div>\n",
       "<style scoped>\n",
       "    .dataframe tbody tr th:only-of-type {\n",
       "        vertical-align: middle;\n",
       "    }\n",
       "\n",
       "    .dataframe tbody tr th {\n",
       "        vertical-align: top;\n",
       "    }\n",
       "\n",
       "    .dataframe thead th {\n",
       "        text-align: right;\n",
       "    }\n",
       "</style>\n",
       "<table border=\"1\" class=\"dataframe\">\n",
       "  <thead>\n",
       "    <tr style=\"text-align: right;\">\n",
       "      <th></th>\n",
       "      <th>Survived</th>\n",
       "      <th>Pclass</th>\n",
       "      <th>Sex</th>\n",
       "      <th>Age</th>\n",
       "      <th>SibSp</th>\n",
       "      <th>Parch</th>\n",
       "      <th>Fare</th>\n",
       "      <th>Embarked</th>\n",
       "    </tr>\n",
       "  </thead>\n",
       "  <tbody>\n",
       "    <tr>\n",
       "      <th>0</th>\n",
       "      <td>0</td>\n",
       "      <td>3</td>\n",
       "      <td>male</td>\n",
       "      <td>22.0</td>\n",
       "      <td>1</td>\n",
       "      <td>0</td>\n",
       "      <td>7.2500</td>\n",
       "      <td>S</td>\n",
       "    </tr>\n",
       "    <tr>\n",
       "      <th>1</th>\n",
       "      <td>1</td>\n",
       "      <td>1</td>\n",
       "      <td>female</td>\n",
       "      <td>38.0</td>\n",
       "      <td>1</td>\n",
       "      <td>0</td>\n",
       "      <td>71.2833</td>\n",
       "      <td>C</td>\n",
       "    </tr>\n",
       "    <tr>\n",
       "      <th>2</th>\n",
       "      <td>1</td>\n",
       "      <td>3</td>\n",
       "      <td>female</td>\n",
       "      <td>26.0</td>\n",
       "      <td>0</td>\n",
       "      <td>0</td>\n",
       "      <td>7.9250</td>\n",
       "      <td>S</td>\n",
       "    </tr>\n",
       "    <tr>\n",
       "      <th>3</th>\n",
       "      <td>1</td>\n",
       "      <td>1</td>\n",
       "      <td>female</td>\n",
       "      <td>35.0</td>\n",
       "      <td>1</td>\n",
       "      <td>0</td>\n",
       "      <td>53.1000</td>\n",
       "      <td>S</td>\n",
       "    </tr>\n",
       "    <tr>\n",
       "      <th>4</th>\n",
       "      <td>0</td>\n",
       "      <td>3</td>\n",
       "      <td>male</td>\n",
       "      <td>35.0</td>\n",
       "      <td>0</td>\n",
       "      <td>0</td>\n",
       "      <td>8.0500</td>\n",
       "      <td>S</td>\n",
       "    </tr>\n",
       "  </tbody>\n",
       "</table>\n",
       "</div>"
      ],
      "text/plain": [
       "   Survived  Pclass     Sex   Age  SibSp  Parch     Fare Embarked\n",
       "0         0       3    male  22.0      1      0   7.2500        S\n",
       "1         1       1  female  38.0      1      0  71.2833        C\n",
       "2         1       3  female  26.0      0      0   7.9250        S\n",
       "3         1       1  female  35.0      1      0  53.1000        S\n",
       "4         0       3    male  35.0      0      0   8.0500        S"
      ]
     },
     "execution_count": 73,
     "metadata": {},
     "output_type": "execute_result"
    }
   ],
   "source": [
    "df.head()"
   ]
  },
  {
   "cell_type": "markdown",
   "id": "5587c581",
   "metadata": {},
   "source": [
    " # Let's Plan Again \n",
    "\n",
    "***Lets create a chain /pipeline***\n",
    "***For Each step we'll be using column transformer***\n",
    "\n",
    "1. So now we can see that Age and Embarked got missing values -- Imputer needs to be used here because scikit learn gets angry when it sees missing values. \n",
    "\n",
    "2. Sex and Embarked are Nominal categorical Values --- OneHotEncoding needs to be done because scikit learn only loves to work with numbers.\n",
    "\n",
    "3. We'll be scaling data so as to get everything in same scale because it helps the scikit learn attributes to understand the features with same scale\n",
    "\n",
    "4. I'll be using feature selection as well just to see how it works , however this will affect the model performance , but here I want to make this as a reference to look out on how to make ML Pipeline.\n",
    "\n",
    "5. Now at last, we'll be using our Decision Tree Algorithm and then save the model\n"
   ]
  },
  {
   "cell_type": "code",
   "execution_count": 74,
   "id": "07e72750",
   "metadata": {},
   "outputs": [],
   "source": [
    "# dropping some columns\n",
    "data.drop(columns = ['PassengerId' , 'Name' ,'Ticket' , 'Cabin'],inplace = True)"
   ]
  },
  {
   "cell_type": "code",
   "execution_count": 75,
   "id": "3e6a35c5",
   "metadata": {},
   "outputs": [],
   "source": [
    "from sklearn.model_selection import train_test_split\n",
    "X_train,X_test,y_train,y_test = train_test_split(data.drop(columns=['Survived']),\n",
    "                                                data['Survived'],\n",
    "                                                test_size=0.2,\n",
    "                                                random_state =42)"
   ]
  },
  {
   "cell_type": "code",
   "execution_count": 76,
   "id": "9dfaee7f",
   "metadata": {},
   "outputs": [
    {
     "data": {
      "text/html": [
       "<div>\n",
       "<style scoped>\n",
       "    .dataframe tbody tr th:only-of-type {\n",
       "        vertical-align: middle;\n",
       "    }\n",
       "\n",
       "    .dataframe tbody tr th {\n",
       "        vertical-align: top;\n",
       "    }\n",
       "\n",
       "    .dataframe thead th {\n",
       "        text-align: right;\n",
       "    }\n",
       "</style>\n",
       "<table border=\"1\" class=\"dataframe\">\n",
       "  <thead>\n",
       "    <tr style=\"text-align: right;\">\n",
       "      <th></th>\n",
       "      <th>Pclass</th>\n",
       "      <th>Sex</th>\n",
       "      <th>Age</th>\n",
       "      <th>SibSp</th>\n",
       "      <th>Parch</th>\n",
       "      <th>Fare</th>\n",
       "      <th>Embarked</th>\n",
       "    </tr>\n",
       "  </thead>\n",
       "  <tbody>\n",
       "    <tr>\n",
       "      <th>387</th>\n",
       "      <td>2</td>\n",
       "      <td>female</td>\n",
       "      <td>36.0</td>\n",
       "      <td>0</td>\n",
       "      <td>0</td>\n",
       "      <td>13.0000</td>\n",
       "      <td>S</td>\n",
       "    </tr>\n",
       "    <tr>\n",
       "      <th>859</th>\n",
       "      <td>3</td>\n",
       "      <td>male</td>\n",
       "      <td>NaN</td>\n",
       "      <td>0</td>\n",
       "      <td>0</td>\n",
       "      <td>7.2292</td>\n",
       "      <td>C</td>\n",
       "    </tr>\n",
       "    <tr>\n",
       "      <th>166</th>\n",
       "      <td>1</td>\n",
       "      <td>female</td>\n",
       "      <td>NaN</td>\n",
       "      <td>0</td>\n",
       "      <td>1</td>\n",
       "      <td>55.0000</td>\n",
       "      <td>S</td>\n",
       "    </tr>\n",
       "    <tr>\n",
       "      <th>180</th>\n",
       "      <td>3</td>\n",
       "      <td>female</td>\n",
       "      <td>NaN</td>\n",
       "      <td>8</td>\n",
       "      <td>2</td>\n",
       "      <td>69.5500</td>\n",
       "      <td>S</td>\n",
       "    </tr>\n",
       "    <tr>\n",
       "      <th>856</th>\n",
       "      <td>1</td>\n",
       "      <td>female</td>\n",
       "      <td>45.0</td>\n",
       "      <td>1</td>\n",
       "      <td>1</td>\n",
       "      <td>164.8667</td>\n",
       "      <td>S</td>\n",
       "    </tr>\n",
       "  </tbody>\n",
       "</table>\n",
       "</div>"
      ],
      "text/plain": [
       "     Pclass     Sex   Age  SibSp  Parch      Fare Embarked\n",
       "387       2  female  36.0      0      0   13.0000        S\n",
       "859       3    male   NaN      0      0    7.2292        C\n",
       "166       1  female   NaN      0      1   55.0000        S\n",
       "180       3  female   NaN      8      2   69.5500        S\n",
       "856       1  female  45.0      1      1  164.8667        S"
      ]
     },
     "execution_count": 76,
     "metadata": {},
     "output_type": "execute_result"
    }
   ],
   "source": [
    "X_train.sample(5)"
   ]
  },
  {
   "cell_type": "code",
   "execution_count": 77,
   "id": "537b69d4",
   "metadata": {},
   "outputs": [],
   "source": [
    "# Imputation Transformer\n",
    "# Using Index value helps in numpy array as we get numpy array in return \n",
    "# rather than dataframe \n",
    "# So creating column transformer in a way that it takes indexes rather names of columns\n",
    "\n",
    "trf1 = ColumnTransformer([\n",
    "    ('impute_age',SimpleImputer() , [2]),\n",
    "    ('impute_embarked',SimpleImputer(strategy='most_frequent'),[6])\n",
    "] , remainder = 'passthrough')"
   ]
  },
  {
   "cell_type": "code",
   "execution_count": 78,
   "id": "0e2786f5",
   "metadata": {},
   "outputs": [],
   "source": [
    "# One Hot Encoding Transformer\n",
    "trf2 = ColumnTransformer([\n",
    "    ('ohe_sex_embarked' , OneHotEncoder(sparse = False , handle_unknown = 'ignore'),[1,6])\n",
    "],remainder = 'passthrough')"
   ]
  },
  {
   "cell_type": "code",
   "execution_count": 79,
   "id": "b224f9b7",
   "metadata": {},
   "outputs": [],
   "source": [
    "# Scaling \n",
    "\n",
    "trf3 = ColumnTransformer([\n",
    "    ('scale', MinMaxScaler() , slice(0,10))\n",
    "])"
   ]
  },
  {
   "cell_type": "code",
   "execution_count": 80,
   "id": "f13dde7f",
   "metadata": {},
   "outputs": [],
   "source": [
    "# let's not think about this much \n",
    "trf4 = SelectKBest(score_func= chi2 , k= 8)"
   ]
  },
  {
   "cell_type": "code",
   "execution_count": 81,
   "id": "d43b3346",
   "metadata": {},
   "outputs": [],
   "source": [
    "trf5 = DecisionTreeClassifier()"
   ]
  },
  {
   "cell_type": "code",
   "execution_count": 123,
   "id": "8122a4b2",
   "metadata": {},
   "outputs": [],
   "source": [
    "pipe = Pipeline([\n",
    "    ('trf1',trf1),\n",
    "    ('trf2',trf2),\n",
    "    ('trf3',trf3),\n",
    "    ('trf4',trf4),\n",
    "    ('trf5',trf5),\n",
    "])"
   ]
  },
  {
   "cell_type": "code",
   "execution_count": 124,
   "id": "8e92bf30",
   "metadata": {},
   "outputs": [],
   "source": [
    "from sklearn import set_config\n",
    "set_config(display = 'diagram')"
   ]
  },
  {
   "cell_type": "code",
   "execution_count": 125,
   "id": "900e28bb",
   "metadata": {},
   "outputs": [
    {
     "data": {
      "text/html": [
       "<style>#sk-73cca70f-e89c-4768-8132-f5067eeae5a9 {color: black;background-color: white;}#sk-73cca70f-e89c-4768-8132-f5067eeae5a9 pre{padding: 0;}#sk-73cca70f-e89c-4768-8132-f5067eeae5a9 div.sk-toggleable {background-color: white;}#sk-73cca70f-e89c-4768-8132-f5067eeae5a9 label.sk-toggleable__label {cursor: pointer;display: block;width: 100%;margin-bottom: 0;padding: 0.3em;box-sizing: border-box;text-align: center;}#sk-73cca70f-e89c-4768-8132-f5067eeae5a9 label.sk-toggleable__label-arrow:before {content: \"▸\";float: left;margin-right: 0.25em;color: #696969;}#sk-73cca70f-e89c-4768-8132-f5067eeae5a9 label.sk-toggleable__label-arrow:hover:before {color: black;}#sk-73cca70f-e89c-4768-8132-f5067eeae5a9 div.sk-estimator:hover label.sk-toggleable__label-arrow:before {color: black;}#sk-73cca70f-e89c-4768-8132-f5067eeae5a9 div.sk-toggleable__content {max-height: 0;max-width: 0;overflow: hidden;text-align: left;background-color: #f0f8ff;}#sk-73cca70f-e89c-4768-8132-f5067eeae5a9 div.sk-toggleable__content pre {margin: 0.2em;color: black;border-radius: 0.25em;background-color: #f0f8ff;}#sk-73cca70f-e89c-4768-8132-f5067eeae5a9 input.sk-toggleable__control:checked~div.sk-toggleable__content {max-height: 200px;max-width: 100%;overflow: auto;}#sk-73cca70f-e89c-4768-8132-f5067eeae5a9 input.sk-toggleable__control:checked~label.sk-toggleable__label-arrow:before {content: \"▾\";}#sk-73cca70f-e89c-4768-8132-f5067eeae5a9 div.sk-estimator input.sk-toggleable__control:checked~label.sk-toggleable__label {background-color: #d4ebff;}#sk-73cca70f-e89c-4768-8132-f5067eeae5a9 div.sk-label input.sk-toggleable__control:checked~label.sk-toggleable__label {background-color: #d4ebff;}#sk-73cca70f-e89c-4768-8132-f5067eeae5a9 input.sk-hidden--visually {border: 0;clip: rect(1px 1px 1px 1px);clip: rect(1px, 1px, 1px, 1px);height: 1px;margin: -1px;overflow: hidden;padding: 0;position: absolute;width: 1px;}#sk-73cca70f-e89c-4768-8132-f5067eeae5a9 div.sk-estimator {font-family: monospace;background-color: #f0f8ff;border: 1px dotted black;border-radius: 0.25em;box-sizing: border-box;margin-bottom: 0.5em;}#sk-73cca70f-e89c-4768-8132-f5067eeae5a9 div.sk-estimator:hover {background-color: #d4ebff;}#sk-73cca70f-e89c-4768-8132-f5067eeae5a9 div.sk-parallel-item::after {content: \"\";width: 100%;border-bottom: 1px solid gray;flex-grow: 1;}#sk-73cca70f-e89c-4768-8132-f5067eeae5a9 div.sk-label:hover label.sk-toggleable__label {background-color: #d4ebff;}#sk-73cca70f-e89c-4768-8132-f5067eeae5a9 div.sk-serial::before {content: \"\";position: absolute;border-left: 1px solid gray;box-sizing: border-box;top: 2em;bottom: 0;left: 50%;}#sk-73cca70f-e89c-4768-8132-f5067eeae5a9 div.sk-serial {display: flex;flex-direction: column;align-items: center;background-color: white;padding-right: 0.2em;padding-left: 0.2em;}#sk-73cca70f-e89c-4768-8132-f5067eeae5a9 div.sk-item {z-index: 1;}#sk-73cca70f-e89c-4768-8132-f5067eeae5a9 div.sk-parallel {display: flex;align-items: stretch;justify-content: center;background-color: white;}#sk-73cca70f-e89c-4768-8132-f5067eeae5a9 div.sk-parallel::before {content: \"\";position: absolute;border-left: 1px solid gray;box-sizing: border-box;top: 2em;bottom: 0;left: 50%;}#sk-73cca70f-e89c-4768-8132-f5067eeae5a9 div.sk-parallel-item {display: flex;flex-direction: column;position: relative;background-color: white;}#sk-73cca70f-e89c-4768-8132-f5067eeae5a9 div.sk-parallel-item:first-child::after {align-self: flex-end;width: 50%;}#sk-73cca70f-e89c-4768-8132-f5067eeae5a9 div.sk-parallel-item:last-child::after {align-self: flex-start;width: 50%;}#sk-73cca70f-e89c-4768-8132-f5067eeae5a9 div.sk-parallel-item:only-child::after {width: 0;}#sk-73cca70f-e89c-4768-8132-f5067eeae5a9 div.sk-dashed-wrapped {border: 1px dashed gray;margin: 0 0.4em 0.5em 0.4em;box-sizing: border-box;padding-bottom: 0.4em;background-color: white;position: relative;}#sk-73cca70f-e89c-4768-8132-f5067eeae5a9 div.sk-label label {font-family: monospace;font-weight: bold;background-color: white;display: inline-block;line-height: 1.2em;}#sk-73cca70f-e89c-4768-8132-f5067eeae5a9 div.sk-label-container {position: relative;z-index: 2;text-align: center;}#sk-73cca70f-e89c-4768-8132-f5067eeae5a9 div.sk-container {/* jupyter's `normalize.less` sets `[hidden] { display: none; }` but bootstrap.min.css set `[hidden] { display: none !important; }` so we also need the `!important` here to be able to override the default hidden behavior on the sphinx rendered scikit-learn.org. See: https://github.com/scikit-learn/scikit-learn/issues/21755 */display: inline-block !important;position: relative;}#sk-73cca70f-e89c-4768-8132-f5067eeae5a9 div.sk-text-repr-fallback {display: none;}</style><div id=\"sk-73cca70f-e89c-4768-8132-f5067eeae5a9\" class=\"sk-top-container\"><div class=\"sk-text-repr-fallback\"><pre>Pipeline(steps=[(&#x27;trf1&#x27;,\n",
       "                 ColumnTransformer(remainder=&#x27;passthrough&#x27;,\n",
       "                                   transformers=[(&#x27;impute_age&#x27;, SimpleImputer(),\n",
       "                                                  [2]),\n",
       "                                                 (&#x27;impute_embarked&#x27;,\n",
       "                                                  SimpleImputer(strategy=&#x27;most_frequent&#x27;),\n",
       "                                                  [6])])),\n",
       "                (&#x27;trf2&#x27;,\n",
       "                 ColumnTransformer(remainder=&#x27;passthrough&#x27;,\n",
       "                                   transformers=[(&#x27;ohe_sex_embarked&#x27;,\n",
       "                                                  OneHotEncoder(handle_unknown=&#x27;ignore&#x27;,\n",
       "                                                                sparse=False),\n",
       "                                                  [1, 6])])),\n",
       "                (&#x27;trf3&#x27;,\n",
       "                 ColumnTransformer(transformers=[(&#x27;scale&#x27;, MinMaxScaler(),\n",
       "                                                  slice(0, 10, None))])),\n",
       "                (&#x27;trf4&#x27;,\n",
       "                 SelectKBest(k=8,\n",
       "                             score_func=&lt;function chi2 at 0x0000029C33FBEAF8&gt;)),\n",
       "                (&#x27;trf5&#x27;, DecisionTreeClassifier())])</pre><b>Please rerun this cell to show the HTML repr or trust the notebook.</b></div><div class=\"sk-container\" hidden><div class=\"sk-item sk-dashed-wrapped\"><div class=\"sk-label-container\"><div class=\"sk-label sk-toggleable\"><input class=\"sk-toggleable__control sk-hidden--visually\" id=\"6a088ff3-c41d-4b0f-8732-aaba7d8bd73e\" type=\"checkbox\" ><label for=\"6a088ff3-c41d-4b0f-8732-aaba7d8bd73e\" class=\"sk-toggleable__label sk-toggleable__label-arrow\">Pipeline</label><div class=\"sk-toggleable__content\"><pre>Pipeline(steps=[(&#x27;trf1&#x27;,\n",
       "                 ColumnTransformer(remainder=&#x27;passthrough&#x27;,\n",
       "                                   transformers=[(&#x27;impute_age&#x27;, SimpleImputer(),\n",
       "                                                  [2]),\n",
       "                                                 (&#x27;impute_embarked&#x27;,\n",
       "                                                  SimpleImputer(strategy=&#x27;most_frequent&#x27;),\n",
       "                                                  [6])])),\n",
       "                (&#x27;trf2&#x27;,\n",
       "                 ColumnTransformer(remainder=&#x27;passthrough&#x27;,\n",
       "                                   transformers=[(&#x27;ohe_sex_embarked&#x27;,\n",
       "                                                  OneHotEncoder(handle_unknown=&#x27;ignore&#x27;,\n",
       "                                                                sparse=False),\n",
       "                                                  [1, 6])])),\n",
       "                (&#x27;trf3&#x27;,\n",
       "                 ColumnTransformer(transformers=[(&#x27;scale&#x27;, MinMaxScaler(),\n",
       "                                                  slice(0, 10, None))])),\n",
       "                (&#x27;trf4&#x27;,\n",
       "                 SelectKBest(k=8,\n",
       "                             score_func=&lt;function chi2 at 0x0000029C33FBEAF8&gt;)),\n",
       "                (&#x27;trf5&#x27;, DecisionTreeClassifier())])</pre></div></div></div><div class=\"sk-serial\"><div class=\"sk-item sk-dashed-wrapped\"><div class=\"sk-label-container\"><div class=\"sk-label sk-toggleable\"><input class=\"sk-toggleable__control sk-hidden--visually\" id=\"927f28be-2a01-41c4-a101-90e7c5d0db94\" type=\"checkbox\" ><label for=\"927f28be-2a01-41c4-a101-90e7c5d0db94\" class=\"sk-toggleable__label sk-toggleable__label-arrow\">trf1: ColumnTransformer</label><div class=\"sk-toggleable__content\"><pre>ColumnTransformer(remainder=&#x27;passthrough&#x27;,\n",
       "                  transformers=[(&#x27;impute_age&#x27;, SimpleImputer(), [2]),\n",
       "                                (&#x27;impute_embarked&#x27;,\n",
       "                                 SimpleImputer(strategy=&#x27;most_frequent&#x27;),\n",
       "                                 [6])])</pre></div></div></div><div class=\"sk-parallel\"><div class=\"sk-parallel-item\"><div class=\"sk-item\"><div class=\"sk-label-container\"><div class=\"sk-label sk-toggleable\"><input class=\"sk-toggleable__control sk-hidden--visually\" id=\"7a222f37-2287-4010-9997-4ec7250638df\" type=\"checkbox\" ><label for=\"7a222f37-2287-4010-9997-4ec7250638df\" class=\"sk-toggleable__label sk-toggleable__label-arrow\">impute_age</label><div class=\"sk-toggleable__content\"><pre>[2]</pre></div></div></div><div class=\"sk-serial\"><div class=\"sk-item\"><div class=\"sk-estimator sk-toggleable\"><input class=\"sk-toggleable__control sk-hidden--visually\" id=\"ff92c8b8-58cc-4566-9c56-b7cdda00ae08\" type=\"checkbox\" ><label for=\"ff92c8b8-58cc-4566-9c56-b7cdda00ae08\" class=\"sk-toggleable__label sk-toggleable__label-arrow\">SimpleImputer</label><div class=\"sk-toggleable__content\"><pre>SimpleImputer()</pre></div></div></div></div></div></div><div class=\"sk-parallel-item\"><div class=\"sk-item\"><div class=\"sk-label-container\"><div class=\"sk-label sk-toggleable\"><input class=\"sk-toggleable__control sk-hidden--visually\" id=\"6cc04d47-2399-4666-9de8-526cf900058c\" type=\"checkbox\" ><label for=\"6cc04d47-2399-4666-9de8-526cf900058c\" class=\"sk-toggleable__label sk-toggleable__label-arrow\">impute_embarked</label><div class=\"sk-toggleable__content\"><pre>[6]</pre></div></div></div><div class=\"sk-serial\"><div class=\"sk-item\"><div class=\"sk-estimator sk-toggleable\"><input class=\"sk-toggleable__control sk-hidden--visually\" id=\"5e3bb3af-d6af-4510-b989-8a30cc50ca55\" type=\"checkbox\" ><label for=\"5e3bb3af-d6af-4510-b989-8a30cc50ca55\" class=\"sk-toggleable__label sk-toggleable__label-arrow\">SimpleImputer</label><div class=\"sk-toggleable__content\"><pre>SimpleImputer(strategy=&#x27;most_frequent&#x27;)</pre></div></div></div></div></div></div><div class=\"sk-parallel-item\"><div class=\"sk-item\"><div class=\"sk-label-container\"><div class=\"sk-label sk-toggleable\"><input class=\"sk-toggleable__control sk-hidden--visually\" id=\"9003d592-a1e1-46db-99eb-e597d2638b25\" type=\"checkbox\" ><label for=\"9003d592-a1e1-46db-99eb-e597d2638b25\" class=\"sk-toggleable__label sk-toggleable__label-arrow\">remainder</label><div class=\"sk-toggleable__content\"><pre>[&#x27;Pclass&#x27;, &#x27;Sex&#x27;, &#x27;SibSp&#x27;, &#x27;Parch&#x27;, &#x27;Fare&#x27;]</pre></div></div></div><div class=\"sk-serial\"><div class=\"sk-item\"><div class=\"sk-estimator sk-toggleable\"><input class=\"sk-toggleable__control sk-hidden--visually\" id=\"583d6859-cf0a-4961-b214-0c90c4ddc4da\" type=\"checkbox\" ><label for=\"583d6859-cf0a-4961-b214-0c90c4ddc4da\" class=\"sk-toggleable__label sk-toggleable__label-arrow\">passthrough</label><div class=\"sk-toggleable__content\"><pre>passthrough</pre></div></div></div></div></div></div></div></div><div class=\"sk-item sk-dashed-wrapped\"><div class=\"sk-label-container\"><div class=\"sk-label sk-toggleable\"><input class=\"sk-toggleable__control sk-hidden--visually\" id=\"6890b58f-fa49-4457-be63-635a379d7305\" type=\"checkbox\" ><label for=\"6890b58f-fa49-4457-be63-635a379d7305\" class=\"sk-toggleable__label sk-toggleable__label-arrow\">trf2: ColumnTransformer</label><div class=\"sk-toggleable__content\"><pre>ColumnTransformer(remainder=&#x27;passthrough&#x27;,\n",
       "                  transformers=[(&#x27;ohe_sex_embarked&#x27;,\n",
       "                                 OneHotEncoder(handle_unknown=&#x27;ignore&#x27;,\n",
       "                                               sparse=False),\n",
       "                                 [1, 6])])</pre></div></div></div><div class=\"sk-parallel\"><div class=\"sk-parallel-item\"><div class=\"sk-item\"><div class=\"sk-label-container\"><div class=\"sk-label sk-toggleable\"><input class=\"sk-toggleable__control sk-hidden--visually\" id=\"83a52b07-86b3-4152-b360-8fa1b26e2054\" type=\"checkbox\" ><label for=\"83a52b07-86b3-4152-b360-8fa1b26e2054\" class=\"sk-toggleable__label sk-toggleable__label-arrow\">ohe_sex_embarked</label><div class=\"sk-toggleable__content\"><pre>[1, 6]</pre></div></div></div><div class=\"sk-serial\"><div class=\"sk-item\"><div class=\"sk-estimator sk-toggleable\"><input class=\"sk-toggleable__control sk-hidden--visually\" id=\"a65cec3a-94c2-45c4-acc3-3306f44e7e0a\" type=\"checkbox\" ><label for=\"a65cec3a-94c2-45c4-acc3-3306f44e7e0a\" class=\"sk-toggleable__label sk-toggleable__label-arrow\">OneHotEncoder</label><div class=\"sk-toggleable__content\"><pre>OneHotEncoder(handle_unknown=&#x27;ignore&#x27;, sparse=False)</pre></div></div></div></div></div></div><div class=\"sk-parallel-item\"><div class=\"sk-item\"><div class=\"sk-label-container\"><div class=\"sk-label sk-toggleable\"><input class=\"sk-toggleable__control sk-hidden--visually\" id=\"3e5d7a11-04eb-4062-bee6-a39166b30c4c\" type=\"checkbox\" ><label for=\"3e5d7a11-04eb-4062-bee6-a39166b30c4c\" class=\"sk-toggleable__label sk-toggleable__label-arrow\">remainder</label><div class=\"sk-toggleable__content\"><pre>[0, 2, 3, 4, 5]</pre></div></div></div><div class=\"sk-serial\"><div class=\"sk-item\"><div class=\"sk-estimator sk-toggleable\"><input class=\"sk-toggleable__control sk-hidden--visually\" id=\"76b911b8-2863-4a7d-98da-277a50a24fab\" type=\"checkbox\" ><label for=\"76b911b8-2863-4a7d-98da-277a50a24fab\" class=\"sk-toggleable__label sk-toggleable__label-arrow\">passthrough</label><div class=\"sk-toggleable__content\"><pre>passthrough</pre></div></div></div></div></div></div></div></div><div class=\"sk-item sk-dashed-wrapped\"><div class=\"sk-label-container\"><div class=\"sk-label sk-toggleable\"><input class=\"sk-toggleable__control sk-hidden--visually\" id=\"204bd7f4-b634-49a5-a62d-36d24e71d7e1\" type=\"checkbox\" ><label for=\"204bd7f4-b634-49a5-a62d-36d24e71d7e1\" class=\"sk-toggleable__label sk-toggleable__label-arrow\">trf3: ColumnTransformer</label><div class=\"sk-toggleable__content\"><pre>ColumnTransformer(transformers=[(&#x27;scale&#x27;, MinMaxScaler(), slice(0, 10, None))])</pre></div></div></div><div class=\"sk-parallel\"><div class=\"sk-parallel-item\"><div class=\"sk-item\"><div class=\"sk-label-container\"><div class=\"sk-label sk-toggleable\"><input class=\"sk-toggleable__control sk-hidden--visually\" id=\"1ebc7d76-8845-4df3-bf70-5081d6cee1fb\" type=\"checkbox\" ><label for=\"1ebc7d76-8845-4df3-bf70-5081d6cee1fb\" class=\"sk-toggleable__label sk-toggleable__label-arrow\">scale</label><div class=\"sk-toggleable__content\"><pre>slice(0, 10, None)</pre></div></div></div><div class=\"sk-serial\"><div class=\"sk-item\"><div class=\"sk-estimator sk-toggleable\"><input class=\"sk-toggleable__control sk-hidden--visually\" id=\"701368dd-b296-4186-9c00-8f52eb302269\" type=\"checkbox\" ><label for=\"701368dd-b296-4186-9c00-8f52eb302269\" class=\"sk-toggleable__label sk-toggleable__label-arrow\">MinMaxScaler</label><div class=\"sk-toggleable__content\"><pre>MinMaxScaler()</pre></div></div></div></div></div></div></div></div><div class=\"sk-item\"><div class=\"sk-estimator sk-toggleable\"><input class=\"sk-toggleable__control sk-hidden--visually\" id=\"dcc26cbe-e084-4cad-a169-59b99f46db0d\" type=\"checkbox\" ><label for=\"dcc26cbe-e084-4cad-a169-59b99f46db0d\" class=\"sk-toggleable__label sk-toggleable__label-arrow\">SelectKBest</label><div class=\"sk-toggleable__content\"><pre>SelectKBest(k=8, score_func=&lt;function chi2 at 0x0000029C33FBEAF8&gt;)</pre></div></div></div><div class=\"sk-item\"><div class=\"sk-estimator sk-toggleable\"><input class=\"sk-toggleable__control sk-hidden--visually\" id=\"18737a09-9809-4554-89f5-b06ae9f94be8\" type=\"checkbox\" ><label for=\"18737a09-9809-4554-89f5-b06ae9f94be8\" class=\"sk-toggleable__label sk-toggleable__label-arrow\">DecisionTreeClassifier</label><div class=\"sk-toggleable__content\"><pre>DecisionTreeClassifier()</pre></div></div></div></div></div></div></div>"
      ],
      "text/plain": [
       "Pipeline(steps=[('trf1',\n",
       "                 ColumnTransformer(remainder='passthrough',\n",
       "                                   transformers=[('impute_age', SimpleImputer(),\n",
       "                                                  [2]),\n",
       "                                                 ('impute_embarked',\n",
       "                                                  SimpleImputer(strategy='most_frequent'),\n",
       "                                                  [6])])),\n",
       "                ('trf2',\n",
       "                 ColumnTransformer(remainder='passthrough',\n",
       "                                   transformers=[('ohe_sex_embarked',\n",
       "                                                  OneHotEncoder(handle_unknown='ignore',\n",
       "                                                                sparse=False),\n",
       "                                                  [1, 6])])),\n",
       "                ('trf3',\n",
       "                 ColumnTransformer(transformers=[('scale', MinMaxScaler(),\n",
       "                                                  slice(0, 10, None))])),\n",
       "                ('trf4',\n",
       "                 SelectKBest(k=8,\n",
       "                             score_func=<function chi2 at 0x0000029C33FBEAF8>)),\n",
       "                ('trf5', DecisionTreeClassifier())])"
      ]
     },
     "execution_count": 125,
     "metadata": {},
     "output_type": "execute_result"
    }
   ],
   "source": [
    "# Train \n",
    "pipe.fit(X_train,y_train )"
   ]
  },
  {
   "cell_type": "markdown",
   "id": "2245fcd2",
   "metadata": {},
   "source": [
    ">Isn't it beautiful"
   ]
  },
  {
   "cell_type": "markdown",
   "id": "5ceef2c9",
   "metadata": {},
   "source": [
    "# Exploring the pipeline"
   ]
  },
  {
   "cell_type": "code",
   "execution_count": 126,
   "id": "f8277572",
   "metadata": {},
   "outputs": [
    {
     "data": {
      "text/plain": [
       "{'trf1': ColumnTransformer(remainder='passthrough',\n",
       "                   transformers=[('impute_age', SimpleImputer(), [2]),\n",
       "                                 ('impute_embarked',\n",
       "                                  SimpleImputer(strategy='most_frequent'),\n",
       "                                  [6])]),\n",
       " 'trf2': ColumnTransformer(remainder='passthrough',\n",
       "                   transformers=[('ohe_sex_embarked',\n",
       "                                  OneHotEncoder(handle_unknown='ignore',\n",
       "                                                sparse=False),\n",
       "                                  [1, 6])]),\n",
       " 'trf3': ColumnTransformer(transformers=[('scale', MinMaxScaler(), slice(0, 10, None))]),\n",
       " 'trf4': SelectKBest(k=8, score_func=<function chi2 at 0x0000029C33FBEAF8>),\n",
       " 'trf5': DecisionTreeClassifier()}"
      ]
     },
     "execution_count": 126,
     "metadata": {},
     "output_type": "execute_result"
    }
   ],
   "source": [
    "pipe.named_steps"
   ]
  },
  {
   "cell_type": "code",
   "execution_count": 127,
   "id": "45b93f89",
   "metadata": {},
   "outputs": [
    {
     "data": {
      "text/plain": [
       "array([29.49884615])"
      ]
     },
     "execution_count": 127,
     "metadata": {},
     "output_type": "execute_result"
    }
   ],
   "source": [
    "# getting the mean value\n",
    "pipe.named_steps['trf1'].transformers_[0][1].statistics_"
   ]
  },
  {
   "cell_type": "code",
   "execution_count": 128,
   "id": "a7f3959b",
   "metadata": {},
   "outputs": [
    {
     "data": {
      "text/plain": [
       "array(['S'], dtype=object)"
      ]
     },
     "execution_count": 128,
     "metadata": {},
     "output_type": "execute_result"
    }
   ],
   "source": [
    "pipe.named_steps['trf1'].transformers_[1][1].statistics_"
   ]
  },
  {
   "cell_type": "code",
   "execution_count": 130,
   "id": "4a485a09",
   "metadata": {},
   "outputs": [
    {
     "data": {
      "text/plain": [
       "(179, 7)"
      ]
     },
     "execution_count": 130,
     "metadata": {},
     "output_type": "execute_result"
    }
   ],
   "source": [
    "X_test.shape"
   ]
  },
  {
   "cell_type": "code",
   "execution_count": 131,
   "id": "beb345b7",
   "metadata": {},
   "outputs": [],
   "source": [
    "y_pred = pipe.predict(X_test)"
   ]
  },
  {
   "cell_type": "code",
   "execution_count": 132,
   "id": "e28f3b95",
   "metadata": {},
   "outputs": [
    {
     "data": {
      "text/plain": [
       "0.6256983240223464"
      ]
     },
     "execution_count": 132,
     "metadata": {},
     "output_type": "execute_result"
    }
   ],
   "source": [
    "from sklearn.metrics import accuracy_score\n",
    "accuracy_score(y_test ,y_pred)"
   ]
  },
  {
   "cell_type": "markdown",
   "id": "0cd47825",
   "metadata": {},
   "source": [
    "# Cross Validation using Pipeline"
   ]
  },
  {
   "cell_type": "code",
   "execution_count": 97,
   "id": "0c8b56e2",
   "metadata": {},
   "outputs": [
    {
     "data": {
      "text/plain": [
       "0.6391214419383433"
      ]
     },
     "execution_count": 97,
     "metadata": {},
     "output_type": "execute_result"
    }
   ],
   "source": [
    "from sklearn.model_selection import cross_val_score\n",
    "cross_val_score(pipe ,X_train ,y_train ,scoring= 'accuracy').mean()\n"
   ]
  },
  {
   "cell_type": "markdown",
   "id": "d40f59a4",
   "metadata": {},
   "source": [
    "# GridSearch using Pipeline"
   ]
  },
  {
   "cell_type": "code",
   "execution_count": 99,
   "id": "77264eae",
   "metadata": {},
   "outputs": [],
   "source": [
    "params = {\n",
    "    'trf5__max_depth' : [1,2,3,4,5,None]\n",
    "}"
   ]
  },
  {
   "cell_type": "code",
   "execution_count": 100,
   "id": "4bfc23af",
   "metadata": {},
   "outputs": [
    {
     "data": {
      "text/html": [
       "<style>#sk-113fef00-b8ae-4176-888a-2e8bf7cc2dc6 {color: black;background-color: white;}#sk-113fef00-b8ae-4176-888a-2e8bf7cc2dc6 pre{padding: 0;}#sk-113fef00-b8ae-4176-888a-2e8bf7cc2dc6 div.sk-toggleable {background-color: white;}#sk-113fef00-b8ae-4176-888a-2e8bf7cc2dc6 label.sk-toggleable__label {cursor: pointer;display: block;width: 100%;margin-bottom: 0;padding: 0.3em;box-sizing: border-box;text-align: center;}#sk-113fef00-b8ae-4176-888a-2e8bf7cc2dc6 label.sk-toggleable__label-arrow:before {content: \"▸\";float: left;margin-right: 0.25em;color: #696969;}#sk-113fef00-b8ae-4176-888a-2e8bf7cc2dc6 label.sk-toggleable__label-arrow:hover:before {color: black;}#sk-113fef00-b8ae-4176-888a-2e8bf7cc2dc6 div.sk-estimator:hover label.sk-toggleable__label-arrow:before {color: black;}#sk-113fef00-b8ae-4176-888a-2e8bf7cc2dc6 div.sk-toggleable__content {max-height: 0;max-width: 0;overflow: hidden;text-align: left;background-color: #f0f8ff;}#sk-113fef00-b8ae-4176-888a-2e8bf7cc2dc6 div.sk-toggleable__content pre {margin: 0.2em;color: black;border-radius: 0.25em;background-color: #f0f8ff;}#sk-113fef00-b8ae-4176-888a-2e8bf7cc2dc6 input.sk-toggleable__control:checked~div.sk-toggleable__content {max-height: 200px;max-width: 100%;overflow: auto;}#sk-113fef00-b8ae-4176-888a-2e8bf7cc2dc6 input.sk-toggleable__control:checked~label.sk-toggleable__label-arrow:before {content: \"▾\";}#sk-113fef00-b8ae-4176-888a-2e8bf7cc2dc6 div.sk-estimator input.sk-toggleable__control:checked~label.sk-toggleable__label {background-color: #d4ebff;}#sk-113fef00-b8ae-4176-888a-2e8bf7cc2dc6 div.sk-label input.sk-toggleable__control:checked~label.sk-toggleable__label {background-color: #d4ebff;}#sk-113fef00-b8ae-4176-888a-2e8bf7cc2dc6 input.sk-hidden--visually {border: 0;clip: rect(1px 1px 1px 1px);clip: rect(1px, 1px, 1px, 1px);height: 1px;margin: -1px;overflow: hidden;padding: 0;position: absolute;width: 1px;}#sk-113fef00-b8ae-4176-888a-2e8bf7cc2dc6 div.sk-estimator {font-family: monospace;background-color: #f0f8ff;border: 1px dotted black;border-radius: 0.25em;box-sizing: border-box;margin-bottom: 0.5em;}#sk-113fef00-b8ae-4176-888a-2e8bf7cc2dc6 div.sk-estimator:hover {background-color: #d4ebff;}#sk-113fef00-b8ae-4176-888a-2e8bf7cc2dc6 div.sk-parallel-item::after {content: \"\";width: 100%;border-bottom: 1px solid gray;flex-grow: 1;}#sk-113fef00-b8ae-4176-888a-2e8bf7cc2dc6 div.sk-label:hover label.sk-toggleable__label {background-color: #d4ebff;}#sk-113fef00-b8ae-4176-888a-2e8bf7cc2dc6 div.sk-serial::before {content: \"\";position: absolute;border-left: 1px solid gray;box-sizing: border-box;top: 2em;bottom: 0;left: 50%;}#sk-113fef00-b8ae-4176-888a-2e8bf7cc2dc6 div.sk-serial {display: flex;flex-direction: column;align-items: center;background-color: white;padding-right: 0.2em;padding-left: 0.2em;}#sk-113fef00-b8ae-4176-888a-2e8bf7cc2dc6 div.sk-item {z-index: 1;}#sk-113fef00-b8ae-4176-888a-2e8bf7cc2dc6 div.sk-parallel {display: flex;align-items: stretch;justify-content: center;background-color: white;}#sk-113fef00-b8ae-4176-888a-2e8bf7cc2dc6 div.sk-parallel::before {content: \"\";position: absolute;border-left: 1px solid gray;box-sizing: border-box;top: 2em;bottom: 0;left: 50%;}#sk-113fef00-b8ae-4176-888a-2e8bf7cc2dc6 div.sk-parallel-item {display: flex;flex-direction: column;position: relative;background-color: white;}#sk-113fef00-b8ae-4176-888a-2e8bf7cc2dc6 div.sk-parallel-item:first-child::after {align-self: flex-end;width: 50%;}#sk-113fef00-b8ae-4176-888a-2e8bf7cc2dc6 div.sk-parallel-item:last-child::after {align-self: flex-start;width: 50%;}#sk-113fef00-b8ae-4176-888a-2e8bf7cc2dc6 div.sk-parallel-item:only-child::after {width: 0;}#sk-113fef00-b8ae-4176-888a-2e8bf7cc2dc6 div.sk-dashed-wrapped {border: 1px dashed gray;margin: 0 0.4em 0.5em 0.4em;box-sizing: border-box;padding-bottom: 0.4em;background-color: white;position: relative;}#sk-113fef00-b8ae-4176-888a-2e8bf7cc2dc6 div.sk-label label {font-family: monospace;font-weight: bold;background-color: white;display: inline-block;line-height: 1.2em;}#sk-113fef00-b8ae-4176-888a-2e8bf7cc2dc6 div.sk-label-container {position: relative;z-index: 2;text-align: center;}#sk-113fef00-b8ae-4176-888a-2e8bf7cc2dc6 div.sk-container {/* jupyter's `normalize.less` sets `[hidden] { display: none; }` but bootstrap.min.css set `[hidden] { display: none !important; }` so we also need the `!important` here to be able to override the default hidden behavior on the sphinx rendered scikit-learn.org. See: https://github.com/scikit-learn/scikit-learn/issues/21755 */display: inline-block !important;position: relative;}#sk-113fef00-b8ae-4176-888a-2e8bf7cc2dc6 div.sk-text-repr-fallback {display: none;}</style><div id=\"sk-113fef00-b8ae-4176-888a-2e8bf7cc2dc6\" class=\"sk-top-container\"><div class=\"sk-text-repr-fallback\"><pre>GridSearchCV(cv=5,\n",
       "             estimator=Pipeline(steps=[(&#x27;trf1&#x27;,\n",
       "                                        ColumnTransformer(remainder=&#x27;passthrough&#x27;,\n",
       "                                                          transformers=[(&#x27;impute_age&#x27;,\n",
       "                                                                         SimpleImputer(),\n",
       "                                                                         [2]),\n",
       "                                                                        (&#x27;impute_embarked&#x27;,\n",
       "                                                                         SimpleImputer(strategy=&#x27;most_frequent&#x27;),\n",
       "                                                                         [6])])),\n",
       "                                       (&#x27;trf2&#x27;,\n",
       "                                        ColumnTransformer(remainder=&#x27;passthrough&#x27;,\n",
       "                                                          transformers=[(&#x27;ohe_sex_embarked&#x27;,\n",
       "                                                                         OneHotEncoder(handle_unknown=&#x27;ignore&#x27;,\n",
       "                                                                                       sparse=False),\n",
       "                                                                         [1,\n",
       "                                                                          6])])),\n",
       "                                       (&#x27;trf3&#x27;,\n",
       "                                        ColumnTransformer(transformers=[(&#x27;scale&#x27;,\n",
       "                                                                         MinMaxScaler(),\n",
       "                                                                         slice(0, 10, None))])),\n",
       "                                       (&#x27;trf4&#x27;,\n",
       "                                        SelectKBest(k=8,\n",
       "                                                    score_func=&lt;function chi2 at 0x0000029C33FBEAF8&gt;)),\n",
       "                                       (&#x27;trf5&#x27;, DecisionTreeClassifier())]),\n",
       "             param_grid={&#x27;trf5__max_depth&#x27;: [1, 2, 3, 4, 5, None]},\n",
       "             scoring=&#x27;accuracy&#x27;)</pre><b>Please rerun this cell to show the HTML repr or trust the notebook.</b></div><div class=\"sk-container\" hidden><div class=\"sk-item sk-dashed-wrapped\"><div class=\"sk-label-container\"><div class=\"sk-label sk-toggleable\"><input class=\"sk-toggleable__control sk-hidden--visually\" id=\"466b5fcb-7b3c-419d-ba30-85c11877df9d\" type=\"checkbox\" ><label for=\"466b5fcb-7b3c-419d-ba30-85c11877df9d\" class=\"sk-toggleable__label sk-toggleable__label-arrow\">GridSearchCV</label><div class=\"sk-toggleable__content\"><pre>GridSearchCV(cv=5,\n",
       "             estimator=Pipeline(steps=[(&#x27;trf1&#x27;,\n",
       "                                        ColumnTransformer(remainder=&#x27;passthrough&#x27;,\n",
       "                                                          transformers=[(&#x27;impute_age&#x27;,\n",
       "                                                                         SimpleImputer(),\n",
       "                                                                         [2]),\n",
       "                                                                        (&#x27;impute_embarked&#x27;,\n",
       "                                                                         SimpleImputer(strategy=&#x27;most_frequent&#x27;),\n",
       "                                                                         [6])])),\n",
       "                                       (&#x27;trf2&#x27;,\n",
       "                                        ColumnTransformer(remainder=&#x27;passthrough&#x27;,\n",
       "                                                          transformers=[(&#x27;ohe_sex_embarked&#x27;,\n",
       "                                                                         OneHotEncoder(handle_unknown=&#x27;ignore&#x27;,\n",
       "                                                                                       sparse=False),\n",
       "                                                                         [1,\n",
       "                                                                          6])])),\n",
       "                                       (&#x27;trf3&#x27;,\n",
       "                                        ColumnTransformer(transformers=[(&#x27;scale&#x27;,\n",
       "                                                                         MinMaxScaler(),\n",
       "                                                                         slice(0, 10, None))])),\n",
       "                                       (&#x27;trf4&#x27;,\n",
       "                                        SelectKBest(k=8,\n",
       "                                                    score_func=&lt;function chi2 at 0x0000029C33FBEAF8&gt;)),\n",
       "                                       (&#x27;trf5&#x27;, DecisionTreeClassifier())]),\n",
       "             param_grid={&#x27;trf5__max_depth&#x27;: [1, 2, 3, 4, 5, None]},\n",
       "             scoring=&#x27;accuracy&#x27;)</pre></div></div></div><div class=\"sk-parallel\"><div class=\"sk-parallel-item\"><div class=\"sk-item\"><div class=\"sk-serial\"><div class=\"sk-item\"><div class=\"sk-serial\"><div class=\"sk-item sk-dashed-wrapped\"><div class=\"sk-label-container\"><div class=\"sk-label sk-toggleable\"><input class=\"sk-toggleable__control sk-hidden--visually\" id=\"2dd2c026-1667-4901-8222-1d1956bc8b77\" type=\"checkbox\" ><label for=\"2dd2c026-1667-4901-8222-1d1956bc8b77\" class=\"sk-toggleable__label sk-toggleable__label-arrow\">trf1: ColumnTransformer</label><div class=\"sk-toggleable__content\"><pre>ColumnTransformer(remainder=&#x27;passthrough&#x27;,\n",
       "                  transformers=[(&#x27;impute_age&#x27;, SimpleImputer(), [2]),\n",
       "                                (&#x27;impute_embarked&#x27;,\n",
       "                                 SimpleImputer(strategy=&#x27;most_frequent&#x27;),\n",
       "                                 [6])])</pre></div></div></div><div class=\"sk-parallel\"><div class=\"sk-parallel-item\"><div class=\"sk-item\"><div class=\"sk-label-container\"><div class=\"sk-label sk-toggleable\"><input class=\"sk-toggleable__control sk-hidden--visually\" id=\"56999cf7-d30c-457f-964b-134fd247f22e\" type=\"checkbox\" ><label for=\"56999cf7-d30c-457f-964b-134fd247f22e\" class=\"sk-toggleable__label sk-toggleable__label-arrow\">impute_age</label><div class=\"sk-toggleable__content\"><pre>[2]</pre></div></div></div><div class=\"sk-serial\"><div class=\"sk-item\"><div class=\"sk-estimator sk-toggleable\"><input class=\"sk-toggleable__control sk-hidden--visually\" id=\"be3425d6-20c2-465e-852a-f44139ea459e\" type=\"checkbox\" ><label for=\"be3425d6-20c2-465e-852a-f44139ea459e\" class=\"sk-toggleable__label sk-toggleable__label-arrow\">SimpleImputer</label><div class=\"sk-toggleable__content\"><pre>SimpleImputer()</pre></div></div></div></div></div></div><div class=\"sk-parallel-item\"><div class=\"sk-item\"><div class=\"sk-label-container\"><div class=\"sk-label sk-toggleable\"><input class=\"sk-toggleable__control sk-hidden--visually\" id=\"4985159e-cf38-49ec-9167-bc54b0b52eb5\" type=\"checkbox\" ><label for=\"4985159e-cf38-49ec-9167-bc54b0b52eb5\" class=\"sk-toggleable__label sk-toggleable__label-arrow\">impute_embarked</label><div class=\"sk-toggleable__content\"><pre>[6]</pre></div></div></div><div class=\"sk-serial\"><div class=\"sk-item\"><div class=\"sk-estimator sk-toggleable\"><input class=\"sk-toggleable__control sk-hidden--visually\" id=\"ddcb679b-6e75-4995-ad83-c069a2c9a9d4\" type=\"checkbox\" ><label for=\"ddcb679b-6e75-4995-ad83-c069a2c9a9d4\" class=\"sk-toggleable__label sk-toggleable__label-arrow\">SimpleImputer</label><div class=\"sk-toggleable__content\"><pre>SimpleImputer(strategy=&#x27;most_frequent&#x27;)</pre></div></div></div></div></div></div><div class=\"sk-parallel-item\"><div class=\"sk-item\"><div class=\"sk-label-container\"><div class=\"sk-label sk-toggleable\"><input class=\"sk-toggleable__control sk-hidden--visually\" id=\"fec94a79-ed4d-4130-8621-85ccb867b6ee\" type=\"checkbox\" ><label for=\"fec94a79-ed4d-4130-8621-85ccb867b6ee\" class=\"sk-toggleable__label sk-toggleable__label-arrow\">remainder</label><div class=\"sk-toggleable__content\"><pre>[&#x27;Pclass&#x27;, &#x27;Sex&#x27;, &#x27;SibSp&#x27;, &#x27;Parch&#x27;, &#x27;Fare&#x27;]</pre></div></div></div><div class=\"sk-serial\"><div class=\"sk-item\"><div class=\"sk-estimator sk-toggleable\"><input class=\"sk-toggleable__control sk-hidden--visually\" id=\"13e34e72-6917-4f89-a5d2-92c4800002a8\" type=\"checkbox\" ><label for=\"13e34e72-6917-4f89-a5d2-92c4800002a8\" class=\"sk-toggleable__label sk-toggleable__label-arrow\">passthrough</label><div class=\"sk-toggleable__content\"><pre>passthrough</pre></div></div></div></div></div></div></div></div><div class=\"sk-item sk-dashed-wrapped\"><div class=\"sk-label-container\"><div class=\"sk-label sk-toggleable\"><input class=\"sk-toggleable__control sk-hidden--visually\" id=\"8950d925-7556-4075-9a33-2a4f68f64c03\" type=\"checkbox\" ><label for=\"8950d925-7556-4075-9a33-2a4f68f64c03\" class=\"sk-toggleable__label sk-toggleable__label-arrow\">trf2: ColumnTransformer</label><div class=\"sk-toggleable__content\"><pre>ColumnTransformer(remainder=&#x27;passthrough&#x27;,\n",
       "                  transformers=[(&#x27;ohe_sex_embarked&#x27;,\n",
       "                                 OneHotEncoder(handle_unknown=&#x27;ignore&#x27;,\n",
       "                                               sparse=False),\n",
       "                                 [1, 6])])</pre></div></div></div><div class=\"sk-parallel\"><div class=\"sk-parallel-item\"><div class=\"sk-item\"><div class=\"sk-label-container\"><div class=\"sk-label sk-toggleable\"><input class=\"sk-toggleable__control sk-hidden--visually\" id=\"f8afe75a-ad0f-4f9d-8796-1c796b300e4a\" type=\"checkbox\" ><label for=\"f8afe75a-ad0f-4f9d-8796-1c796b300e4a\" class=\"sk-toggleable__label sk-toggleable__label-arrow\">ohe_sex_embarked</label><div class=\"sk-toggleable__content\"><pre>[1, 6]</pre></div></div></div><div class=\"sk-serial\"><div class=\"sk-item\"><div class=\"sk-estimator sk-toggleable\"><input class=\"sk-toggleable__control sk-hidden--visually\" id=\"53c2e876-ba08-47a7-99c1-3603c3a1c109\" type=\"checkbox\" ><label for=\"53c2e876-ba08-47a7-99c1-3603c3a1c109\" class=\"sk-toggleable__label sk-toggleable__label-arrow\">OneHotEncoder</label><div class=\"sk-toggleable__content\"><pre>OneHotEncoder(handle_unknown=&#x27;ignore&#x27;, sparse=False)</pre></div></div></div></div></div></div><div class=\"sk-parallel-item\"><div class=\"sk-item\"><div class=\"sk-label-container\"><div class=\"sk-label sk-toggleable\"><input class=\"sk-toggleable__control sk-hidden--visually\" id=\"1d5c405d-5d2d-41ee-bc0a-750c99d375c8\" type=\"checkbox\" ><label for=\"1d5c405d-5d2d-41ee-bc0a-750c99d375c8\" class=\"sk-toggleable__label sk-toggleable__label-arrow\">remainder</label><div class=\"sk-toggleable__content\"><pre>[0, 2, 3, 4, 5]</pre></div></div></div><div class=\"sk-serial\"><div class=\"sk-item\"><div class=\"sk-estimator sk-toggleable\"><input class=\"sk-toggleable__control sk-hidden--visually\" id=\"58c1d8d3-8bf4-48e5-a63a-2879b8cd232e\" type=\"checkbox\" ><label for=\"58c1d8d3-8bf4-48e5-a63a-2879b8cd232e\" class=\"sk-toggleable__label sk-toggleable__label-arrow\">passthrough</label><div class=\"sk-toggleable__content\"><pre>passthrough</pre></div></div></div></div></div></div></div></div><div class=\"sk-item sk-dashed-wrapped\"><div class=\"sk-label-container\"><div class=\"sk-label sk-toggleable\"><input class=\"sk-toggleable__control sk-hidden--visually\" id=\"c159503d-4402-4fde-b5ae-4c6fd22b1bfe\" type=\"checkbox\" ><label for=\"c159503d-4402-4fde-b5ae-4c6fd22b1bfe\" class=\"sk-toggleable__label sk-toggleable__label-arrow\">trf3: ColumnTransformer</label><div class=\"sk-toggleable__content\"><pre>ColumnTransformer(transformers=[(&#x27;scale&#x27;, MinMaxScaler(), slice(0, 10, None))])</pre></div></div></div><div class=\"sk-parallel\"><div class=\"sk-parallel-item\"><div class=\"sk-item\"><div class=\"sk-label-container\"><div class=\"sk-label sk-toggleable\"><input class=\"sk-toggleable__control sk-hidden--visually\" id=\"e49bd728-2d3d-4daa-8e3a-472cd46e7e3b\" type=\"checkbox\" ><label for=\"e49bd728-2d3d-4daa-8e3a-472cd46e7e3b\" class=\"sk-toggleable__label sk-toggleable__label-arrow\">scale</label><div class=\"sk-toggleable__content\"><pre>slice(0, 10, None)</pre></div></div></div><div class=\"sk-serial\"><div class=\"sk-item\"><div class=\"sk-estimator sk-toggleable\"><input class=\"sk-toggleable__control sk-hidden--visually\" id=\"57927bdb-6366-4c22-9c50-283388f3e37d\" type=\"checkbox\" ><label for=\"57927bdb-6366-4c22-9c50-283388f3e37d\" class=\"sk-toggleable__label sk-toggleable__label-arrow\">MinMaxScaler</label><div class=\"sk-toggleable__content\"><pre>MinMaxScaler()</pre></div></div></div></div></div></div></div></div><div class=\"sk-item\"><div class=\"sk-estimator sk-toggleable\"><input class=\"sk-toggleable__control sk-hidden--visually\" id=\"16825877-8e78-4e7f-b246-3d16d08e8c3c\" type=\"checkbox\" ><label for=\"16825877-8e78-4e7f-b246-3d16d08e8c3c\" class=\"sk-toggleable__label sk-toggleable__label-arrow\">SelectKBest</label><div class=\"sk-toggleable__content\"><pre>SelectKBest(k=8, score_func=&lt;function chi2 at 0x0000029C33FBEAF8&gt;)</pre></div></div></div><div class=\"sk-item\"><div class=\"sk-estimator sk-toggleable\"><input class=\"sk-toggleable__control sk-hidden--visually\" id=\"5e180346-4e0f-45b4-a326-be498089dfc1\" type=\"checkbox\" ><label for=\"5e180346-4e0f-45b4-a326-be498089dfc1\" class=\"sk-toggleable__label sk-toggleable__label-arrow\">DecisionTreeClassifier</label><div class=\"sk-toggleable__content\"><pre>DecisionTreeClassifier()</pre></div></div></div></div></div></div></div></div></div></div></div></div>"
      ],
      "text/plain": [
       "GridSearchCV(cv=5,\n",
       "             estimator=Pipeline(steps=[('trf1',\n",
       "                                        ColumnTransformer(remainder='passthrough',\n",
       "                                                          transformers=[('impute_age',\n",
       "                                                                         SimpleImputer(),\n",
       "                                                                         [2]),\n",
       "                                                                        ('impute_embarked',\n",
       "                                                                         SimpleImputer(strategy='most_frequent'),\n",
       "                                                                         [6])])),\n",
       "                                       ('trf2',\n",
       "                                        ColumnTransformer(remainder='passthrough',\n",
       "                                                          transformers=[('ohe_sex_embarked',\n",
       "                                                                         OneHotEncoder(handle_unknown='ignore',\n",
       "                                                                                       sparse=False),\n",
       "                                                                         [1,\n",
       "                                                                          6])])),\n",
       "                                       ('trf3',\n",
       "                                        ColumnTransformer(transformers=[('scale',\n",
       "                                                                         MinMaxScaler(),\n",
       "                                                                         slice(0, 10, None))])),\n",
       "                                       ('trf4',\n",
       "                                        SelectKBest(k=8,\n",
       "                                                    score_func=<function chi2 at 0x0000029C33FBEAF8>)),\n",
       "                                       ('trf5', DecisionTreeClassifier())]),\n",
       "             param_grid={'trf5__max_depth': [1, 2, 3, 4, 5, None]},\n",
       "             scoring='accuracy')"
      ]
     },
     "execution_count": 100,
     "metadata": {},
     "output_type": "execute_result"
    }
   ],
   "source": [
    "from sklearn.model_selection import GridSearchCV\n",
    "grid = GridSearchCV(pipe ,params ,cv =5 ,scoring = 'accuracy')\n",
    "grid.fit(X_train,y_train)"
   ]
  },
  {
   "cell_type": "code",
   "execution_count": 101,
   "id": "cdbdcbf7",
   "metadata": {},
   "outputs": [
    {
     "data": {
      "text/plain": [
       "0.6391214419383433"
      ]
     },
     "execution_count": 101,
     "metadata": {},
     "output_type": "execute_result"
    }
   ],
   "source": [
    "grid.best_score_"
   ]
  },
  {
   "cell_type": "code",
   "execution_count": 102,
   "id": "1ac5bdc0",
   "metadata": {},
   "outputs": [
    {
     "data": {
      "text/plain": [
       "{'trf5__max_depth': 2}"
      ]
     },
     "execution_count": 102,
     "metadata": {},
     "output_type": "execute_result"
    }
   ],
   "source": [
    "grid.best_params_"
   ]
  },
  {
   "cell_type": "code",
   "execution_count": 103,
   "id": "086de038",
   "metadata": {},
   "outputs": [],
   "source": [
    "# Standard Scaling\n",
    "from sklearn.preprocessing import StandardScaler\n",
    "trf_ss = ColumnTransformer([\n",
    "    ('standardscale' ,StandardScaler(),slice(0,10) )\n",
    "])"
   ]
  },
  {
   "cell_type": "code",
   "execution_count": 114,
   "id": "495c362b",
   "metadata": {},
   "outputs": [],
   "source": [
    "pipe_without_fs = Pipeline([\n",
    "    ('trf1',trf1),\n",
    "    ('trf2',trf2),\n",
    "    ('trf_ss',trf_ss),\n",
    "    ('trf5',trf5),\n",
    "])"
   ]
  },
  {
   "cell_type": "code",
   "execution_count": 115,
   "id": "c34d44c5",
   "metadata": {},
   "outputs": [
    {
     "data": {
      "text/html": [
       "<style>#sk-5e4bc065-7972-4334-add1-8b93585f991f {color: black;background-color: white;}#sk-5e4bc065-7972-4334-add1-8b93585f991f pre{padding: 0;}#sk-5e4bc065-7972-4334-add1-8b93585f991f div.sk-toggleable {background-color: white;}#sk-5e4bc065-7972-4334-add1-8b93585f991f label.sk-toggleable__label {cursor: pointer;display: block;width: 100%;margin-bottom: 0;padding: 0.3em;box-sizing: border-box;text-align: center;}#sk-5e4bc065-7972-4334-add1-8b93585f991f label.sk-toggleable__label-arrow:before {content: \"▸\";float: left;margin-right: 0.25em;color: #696969;}#sk-5e4bc065-7972-4334-add1-8b93585f991f label.sk-toggleable__label-arrow:hover:before {color: black;}#sk-5e4bc065-7972-4334-add1-8b93585f991f div.sk-estimator:hover label.sk-toggleable__label-arrow:before {color: black;}#sk-5e4bc065-7972-4334-add1-8b93585f991f div.sk-toggleable__content {max-height: 0;max-width: 0;overflow: hidden;text-align: left;background-color: #f0f8ff;}#sk-5e4bc065-7972-4334-add1-8b93585f991f div.sk-toggleable__content pre {margin: 0.2em;color: black;border-radius: 0.25em;background-color: #f0f8ff;}#sk-5e4bc065-7972-4334-add1-8b93585f991f input.sk-toggleable__control:checked~div.sk-toggleable__content {max-height: 200px;max-width: 100%;overflow: auto;}#sk-5e4bc065-7972-4334-add1-8b93585f991f input.sk-toggleable__control:checked~label.sk-toggleable__label-arrow:before {content: \"▾\";}#sk-5e4bc065-7972-4334-add1-8b93585f991f div.sk-estimator input.sk-toggleable__control:checked~label.sk-toggleable__label {background-color: #d4ebff;}#sk-5e4bc065-7972-4334-add1-8b93585f991f div.sk-label input.sk-toggleable__control:checked~label.sk-toggleable__label {background-color: #d4ebff;}#sk-5e4bc065-7972-4334-add1-8b93585f991f input.sk-hidden--visually {border: 0;clip: rect(1px 1px 1px 1px);clip: rect(1px, 1px, 1px, 1px);height: 1px;margin: -1px;overflow: hidden;padding: 0;position: absolute;width: 1px;}#sk-5e4bc065-7972-4334-add1-8b93585f991f div.sk-estimator {font-family: monospace;background-color: #f0f8ff;border: 1px dotted black;border-radius: 0.25em;box-sizing: border-box;margin-bottom: 0.5em;}#sk-5e4bc065-7972-4334-add1-8b93585f991f div.sk-estimator:hover {background-color: #d4ebff;}#sk-5e4bc065-7972-4334-add1-8b93585f991f div.sk-parallel-item::after {content: \"\";width: 100%;border-bottom: 1px solid gray;flex-grow: 1;}#sk-5e4bc065-7972-4334-add1-8b93585f991f div.sk-label:hover label.sk-toggleable__label {background-color: #d4ebff;}#sk-5e4bc065-7972-4334-add1-8b93585f991f div.sk-serial::before {content: \"\";position: absolute;border-left: 1px solid gray;box-sizing: border-box;top: 2em;bottom: 0;left: 50%;}#sk-5e4bc065-7972-4334-add1-8b93585f991f div.sk-serial {display: flex;flex-direction: column;align-items: center;background-color: white;padding-right: 0.2em;padding-left: 0.2em;}#sk-5e4bc065-7972-4334-add1-8b93585f991f div.sk-item {z-index: 1;}#sk-5e4bc065-7972-4334-add1-8b93585f991f div.sk-parallel {display: flex;align-items: stretch;justify-content: center;background-color: white;}#sk-5e4bc065-7972-4334-add1-8b93585f991f div.sk-parallel::before {content: \"\";position: absolute;border-left: 1px solid gray;box-sizing: border-box;top: 2em;bottom: 0;left: 50%;}#sk-5e4bc065-7972-4334-add1-8b93585f991f div.sk-parallel-item {display: flex;flex-direction: column;position: relative;background-color: white;}#sk-5e4bc065-7972-4334-add1-8b93585f991f div.sk-parallel-item:first-child::after {align-self: flex-end;width: 50%;}#sk-5e4bc065-7972-4334-add1-8b93585f991f div.sk-parallel-item:last-child::after {align-self: flex-start;width: 50%;}#sk-5e4bc065-7972-4334-add1-8b93585f991f div.sk-parallel-item:only-child::after {width: 0;}#sk-5e4bc065-7972-4334-add1-8b93585f991f div.sk-dashed-wrapped {border: 1px dashed gray;margin: 0 0.4em 0.5em 0.4em;box-sizing: border-box;padding-bottom: 0.4em;background-color: white;position: relative;}#sk-5e4bc065-7972-4334-add1-8b93585f991f div.sk-label label {font-family: monospace;font-weight: bold;background-color: white;display: inline-block;line-height: 1.2em;}#sk-5e4bc065-7972-4334-add1-8b93585f991f div.sk-label-container {position: relative;z-index: 2;text-align: center;}#sk-5e4bc065-7972-4334-add1-8b93585f991f div.sk-container {/* jupyter's `normalize.less` sets `[hidden] { display: none; }` but bootstrap.min.css set `[hidden] { display: none !important; }` so we also need the `!important` here to be able to override the default hidden behavior on the sphinx rendered scikit-learn.org. See: https://github.com/scikit-learn/scikit-learn/issues/21755 */display: inline-block !important;position: relative;}#sk-5e4bc065-7972-4334-add1-8b93585f991f div.sk-text-repr-fallback {display: none;}</style><div id=\"sk-5e4bc065-7972-4334-add1-8b93585f991f\" class=\"sk-top-container\"><div class=\"sk-text-repr-fallback\"><pre>Pipeline(steps=[(&#x27;trf1&#x27;,\n",
       "                 ColumnTransformer(remainder=&#x27;passthrough&#x27;,\n",
       "                                   transformers=[(&#x27;impute_age&#x27;, SimpleImputer(),\n",
       "                                                  [2]),\n",
       "                                                 (&#x27;impute_embarked&#x27;,\n",
       "                                                  SimpleImputer(strategy=&#x27;most_frequent&#x27;),\n",
       "                                                  [6])])),\n",
       "                (&#x27;trf2&#x27;,\n",
       "                 ColumnTransformer(remainder=&#x27;passthrough&#x27;,\n",
       "                                   transformers=[(&#x27;ohe_sex_embarked&#x27;,\n",
       "                                                  OneHotEncoder(handle_unknown=&#x27;ignore&#x27;,\n",
       "                                                                sparse=False),\n",
       "                                                  [1, 6])])),\n",
       "                (&#x27;trf_ss&#x27;,\n",
       "                 ColumnTransformer(transformers=[(&#x27;standardscale&#x27;,\n",
       "                                                  StandardScaler(),\n",
       "                                                  slice(0, 10, None))])),\n",
       "                (&#x27;trf5&#x27;, DecisionTreeClassifier())])</pre><b>Please rerun this cell to show the HTML repr or trust the notebook.</b></div><div class=\"sk-container\" hidden><div class=\"sk-item sk-dashed-wrapped\"><div class=\"sk-label-container\"><div class=\"sk-label sk-toggleable\"><input class=\"sk-toggleable__control sk-hidden--visually\" id=\"f3a58912-8a5d-4ba4-8187-19146b1afde1\" type=\"checkbox\" ><label for=\"f3a58912-8a5d-4ba4-8187-19146b1afde1\" class=\"sk-toggleable__label sk-toggleable__label-arrow\">Pipeline</label><div class=\"sk-toggleable__content\"><pre>Pipeline(steps=[(&#x27;trf1&#x27;,\n",
       "                 ColumnTransformer(remainder=&#x27;passthrough&#x27;,\n",
       "                                   transformers=[(&#x27;impute_age&#x27;, SimpleImputer(),\n",
       "                                                  [2]),\n",
       "                                                 (&#x27;impute_embarked&#x27;,\n",
       "                                                  SimpleImputer(strategy=&#x27;most_frequent&#x27;),\n",
       "                                                  [6])])),\n",
       "                (&#x27;trf2&#x27;,\n",
       "                 ColumnTransformer(remainder=&#x27;passthrough&#x27;,\n",
       "                                   transformers=[(&#x27;ohe_sex_embarked&#x27;,\n",
       "                                                  OneHotEncoder(handle_unknown=&#x27;ignore&#x27;,\n",
       "                                                                sparse=False),\n",
       "                                                  [1, 6])])),\n",
       "                (&#x27;trf_ss&#x27;,\n",
       "                 ColumnTransformer(transformers=[(&#x27;standardscale&#x27;,\n",
       "                                                  StandardScaler(),\n",
       "                                                  slice(0, 10, None))])),\n",
       "                (&#x27;trf5&#x27;, DecisionTreeClassifier())])</pre></div></div></div><div class=\"sk-serial\"><div class=\"sk-item sk-dashed-wrapped\"><div class=\"sk-label-container\"><div class=\"sk-label sk-toggleable\"><input class=\"sk-toggleable__control sk-hidden--visually\" id=\"91930ab0-1872-426f-9915-0dbb4a5b31f0\" type=\"checkbox\" ><label for=\"91930ab0-1872-426f-9915-0dbb4a5b31f0\" class=\"sk-toggleable__label sk-toggleable__label-arrow\">trf1: ColumnTransformer</label><div class=\"sk-toggleable__content\"><pre>ColumnTransformer(remainder=&#x27;passthrough&#x27;,\n",
       "                  transformers=[(&#x27;impute_age&#x27;, SimpleImputer(), [2]),\n",
       "                                (&#x27;impute_embarked&#x27;,\n",
       "                                 SimpleImputer(strategy=&#x27;most_frequent&#x27;),\n",
       "                                 [6])])</pre></div></div></div><div class=\"sk-parallel\"><div class=\"sk-parallel-item\"><div class=\"sk-item\"><div class=\"sk-label-container\"><div class=\"sk-label sk-toggleable\"><input class=\"sk-toggleable__control sk-hidden--visually\" id=\"9bdba861-154e-472a-8621-00760d71755d\" type=\"checkbox\" ><label for=\"9bdba861-154e-472a-8621-00760d71755d\" class=\"sk-toggleable__label sk-toggleable__label-arrow\">impute_age</label><div class=\"sk-toggleable__content\"><pre>[2]</pre></div></div></div><div class=\"sk-serial\"><div class=\"sk-item\"><div class=\"sk-estimator sk-toggleable\"><input class=\"sk-toggleable__control sk-hidden--visually\" id=\"db0241a7-2447-42f0-a241-dc25b818961b\" type=\"checkbox\" ><label for=\"db0241a7-2447-42f0-a241-dc25b818961b\" class=\"sk-toggleable__label sk-toggleable__label-arrow\">SimpleImputer</label><div class=\"sk-toggleable__content\"><pre>SimpleImputer()</pre></div></div></div></div></div></div><div class=\"sk-parallel-item\"><div class=\"sk-item\"><div class=\"sk-label-container\"><div class=\"sk-label sk-toggleable\"><input class=\"sk-toggleable__control sk-hidden--visually\" id=\"da68e53f-dec7-4077-a84b-b8c33c2f738b\" type=\"checkbox\" ><label for=\"da68e53f-dec7-4077-a84b-b8c33c2f738b\" class=\"sk-toggleable__label sk-toggleable__label-arrow\">impute_embarked</label><div class=\"sk-toggleable__content\"><pre>[6]</pre></div></div></div><div class=\"sk-serial\"><div class=\"sk-item\"><div class=\"sk-estimator sk-toggleable\"><input class=\"sk-toggleable__control sk-hidden--visually\" id=\"05f975c0-09d7-4334-b6a0-8f383f6689db\" type=\"checkbox\" ><label for=\"05f975c0-09d7-4334-b6a0-8f383f6689db\" class=\"sk-toggleable__label sk-toggleable__label-arrow\">SimpleImputer</label><div class=\"sk-toggleable__content\"><pre>SimpleImputer(strategy=&#x27;most_frequent&#x27;)</pre></div></div></div></div></div></div><div class=\"sk-parallel-item\"><div class=\"sk-item\"><div class=\"sk-label-container\"><div class=\"sk-label sk-toggleable\"><input class=\"sk-toggleable__control sk-hidden--visually\" id=\"e425549e-0ee8-4e31-901b-341c2f849ed9\" type=\"checkbox\" ><label for=\"e425549e-0ee8-4e31-901b-341c2f849ed9\" class=\"sk-toggleable__label sk-toggleable__label-arrow\">remainder</label><div class=\"sk-toggleable__content\"><pre>[&#x27;Pclass&#x27;, &#x27;Sex&#x27;, &#x27;SibSp&#x27;, &#x27;Parch&#x27;, &#x27;Fare&#x27;]</pre></div></div></div><div class=\"sk-serial\"><div class=\"sk-item\"><div class=\"sk-estimator sk-toggleable\"><input class=\"sk-toggleable__control sk-hidden--visually\" id=\"60d72bc2-8fd0-4f64-a5c8-6625594eea0e\" type=\"checkbox\" ><label for=\"60d72bc2-8fd0-4f64-a5c8-6625594eea0e\" class=\"sk-toggleable__label sk-toggleable__label-arrow\">passthrough</label><div class=\"sk-toggleable__content\"><pre>passthrough</pre></div></div></div></div></div></div></div></div><div class=\"sk-item sk-dashed-wrapped\"><div class=\"sk-label-container\"><div class=\"sk-label sk-toggleable\"><input class=\"sk-toggleable__control sk-hidden--visually\" id=\"2f2d43b8-b4a5-46d9-8109-8ea1f772c13b\" type=\"checkbox\" ><label for=\"2f2d43b8-b4a5-46d9-8109-8ea1f772c13b\" class=\"sk-toggleable__label sk-toggleable__label-arrow\">trf2: ColumnTransformer</label><div class=\"sk-toggleable__content\"><pre>ColumnTransformer(remainder=&#x27;passthrough&#x27;,\n",
       "                  transformers=[(&#x27;ohe_sex_embarked&#x27;,\n",
       "                                 OneHotEncoder(handle_unknown=&#x27;ignore&#x27;,\n",
       "                                               sparse=False),\n",
       "                                 [1, 6])])</pre></div></div></div><div class=\"sk-parallel\"><div class=\"sk-parallel-item\"><div class=\"sk-item\"><div class=\"sk-label-container\"><div class=\"sk-label sk-toggleable\"><input class=\"sk-toggleable__control sk-hidden--visually\" id=\"8c295290-8f03-48c0-bf9a-482dacf7e479\" type=\"checkbox\" ><label for=\"8c295290-8f03-48c0-bf9a-482dacf7e479\" class=\"sk-toggleable__label sk-toggleable__label-arrow\">ohe_sex_embarked</label><div class=\"sk-toggleable__content\"><pre>[1, 6]</pre></div></div></div><div class=\"sk-serial\"><div class=\"sk-item\"><div class=\"sk-estimator sk-toggleable\"><input class=\"sk-toggleable__control sk-hidden--visually\" id=\"9639122c-e8c7-4581-af2c-ff43d42b7203\" type=\"checkbox\" ><label for=\"9639122c-e8c7-4581-af2c-ff43d42b7203\" class=\"sk-toggleable__label sk-toggleable__label-arrow\">OneHotEncoder</label><div class=\"sk-toggleable__content\"><pre>OneHotEncoder(handle_unknown=&#x27;ignore&#x27;, sparse=False)</pre></div></div></div></div></div></div><div class=\"sk-parallel-item\"><div class=\"sk-item\"><div class=\"sk-label-container\"><div class=\"sk-label sk-toggleable\"><input class=\"sk-toggleable__control sk-hidden--visually\" id=\"2583b35c-cb75-4818-a012-cf45af86bc62\" type=\"checkbox\" ><label for=\"2583b35c-cb75-4818-a012-cf45af86bc62\" class=\"sk-toggleable__label sk-toggleable__label-arrow\">remainder</label><div class=\"sk-toggleable__content\"><pre>[0, 2, 3, 4, 5]</pre></div></div></div><div class=\"sk-serial\"><div class=\"sk-item\"><div class=\"sk-estimator sk-toggleable\"><input class=\"sk-toggleable__control sk-hidden--visually\" id=\"d3fb624c-ef0e-4ac3-a52c-ec34625ce667\" type=\"checkbox\" ><label for=\"d3fb624c-ef0e-4ac3-a52c-ec34625ce667\" class=\"sk-toggleable__label sk-toggleable__label-arrow\">passthrough</label><div class=\"sk-toggleable__content\"><pre>passthrough</pre></div></div></div></div></div></div></div></div><div class=\"sk-item sk-dashed-wrapped\"><div class=\"sk-label-container\"><div class=\"sk-label sk-toggleable\"><input class=\"sk-toggleable__control sk-hidden--visually\" id=\"fcc1ccaf-30f4-4d58-990b-4c849c6f6caf\" type=\"checkbox\" ><label for=\"fcc1ccaf-30f4-4d58-990b-4c849c6f6caf\" class=\"sk-toggleable__label sk-toggleable__label-arrow\">trf_ss: ColumnTransformer</label><div class=\"sk-toggleable__content\"><pre>ColumnTransformer(transformers=[(&#x27;standardscale&#x27;, StandardScaler(),\n",
       "                                 slice(0, 10, None))])</pre></div></div></div><div class=\"sk-parallel\"><div class=\"sk-parallel-item\"><div class=\"sk-item\"><div class=\"sk-label-container\"><div class=\"sk-label sk-toggleable\"><input class=\"sk-toggleable__control sk-hidden--visually\" id=\"2b93a2e3-c2b3-49e6-8a86-ba82bc79aca2\" type=\"checkbox\" ><label for=\"2b93a2e3-c2b3-49e6-8a86-ba82bc79aca2\" class=\"sk-toggleable__label sk-toggleable__label-arrow\">standardscale</label><div class=\"sk-toggleable__content\"><pre>slice(0, 10, None)</pre></div></div></div><div class=\"sk-serial\"><div class=\"sk-item\"><div class=\"sk-estimator sk-toggleable\"><input class=\"sk-toggleable__control sk-hidden--visually\" id=\"71645a72-b346-4714-9dd4-2970c9fef364\" type=\"checkbox\" ><label for=\"71645a72-b346-4714-9dd4-2970c9fef364\" class=\"sk-toggleable__label sk-toggleable__label-arrow\">StandardScaler</label><div class=\"sk-toggleable__content\"><pre>StandardScaler()</pre></div></div></div></div></div></div></div></div><div class=\"sk-item\"><div class=\"sk-estimator sk-toggleable\"><input class=\"sk-toggleable__control sk-hidden--visually\" id=\"c6477d61-ef23-440d-b22e-092718d000db\" type=\"checkbox\" ><label for=\"c6477d61-ef23-440d-b22e-092718d000db\" class=\"sk-toggleable__label sk-toggleable__label-arrow\">DecisionTreeClassifier</label><div class=\"sk-toggleable__content\"><pre>DecisionTreeClassifier()</pre></div></div></div></div></div></div></div>"
      ],
      "text/plain": [
       "Pipeline(steps=[('trf1',\n",
       "                 ColumnTransformer(remainder='passthrough',\n",
       "                                   transformers=[('impute_age', SimpleImputer(),\n",
       "                                                  [2]),\n",
       "                                                 ('impute_embarked',\n",
       "                                                  SimpleImputer(strategy='most_frequent'),\n",
       "                                                  [6])])),\n",
       "                ('trf2',\n",
       "                 ColumnTransformer(remainder='passthrough',\n",
       "                                   transformers=[('ohe_sex_embarked',\n",
       "                                                  OneHotEncoder(handle_unknown='ignore',\n",
       "                                                                sparse=False),\n",
       "                                                  [1, 6])])),\n",
       "                ('trf_ss',\n",
       "                 ColumnTransformer(transformers=[('standardscale',\n",
       "                                                  StandardScaler(),\n",
       "                                                  slice(0, 10, None))])),\n",
       "                ('trf5', DecisionTreeClassifier())])"
      ]
     },
     "execution_count": 115,
     "metadata": {},
     "output_type": "execute_result"
    }
   ],
   "source": [
    "pipe_without_fs.fit(X_train ,y_train)"
   ]
  },
  {
   "cell_type": "code",
   "execution_count": 116,
   "id": "f46e3a9c",
   "metadata": {},
   "outputs": [],
   "source": [
    "y_pred_ = pipe_without_fs.predict(X_test)"
   ]
  },
  {
   "cell_type": "code",
   "execution_count": 117,
   "id": "1c2adb61",
   "metadata": {},
   "outputs": [
    {
     "data": {
      "text/plain": [
       "0.6256983240223464"
      ]
     },
     "execution_count": 117,
     "metadata": {},
     "output_type": "execute_result"
    }
   ],
   "source": [
    "accuracy_score(y_test ,y_pred)"
   ]
  },
  {
   "cell_type": "markdown",
   "id": "337d3d0a",
   "metadata": {},
   "source": [
    "# Exporting the pipeline for production"
   ]
  },
  {
   "cell_type": "code",
   "execution_count": 133,
   "id": "61ddbba5",
   "metadata": {},
   "outputs": [],
   "source": [
    "pickle.dump(pipe,open('models/pipe_S.pkl','wb'))"
   ]
  },
  {
   "cell_type": "markdown",
   "id": "a7a174e9",
   "metadata": {},
   "source": [
    "# Let's use this"
   ]
  },
  {
   "cell_type": "code",
   "execution_count": 134,
   "id": "739276c0",
   "metadata": {},
   "outputs": [],
   "source": [
    " pipe_prod = pickle.load(open('models/pipe_S.pkl','rb'))"
   ]
  },
  {
   "cell_type": "code",
   "execution_count": 136,
   "id": "27444e63",
   "metadata": {},
   "outputs": [],
   "source": [
    "test_input_2  = np.array([2,'male',31.0 ,0,0,10.5,'S'] , dtype = object).reshape(1,7)"
   ]
  },
  {
   "cell_type": "code",
   "execution_count": 138,
   "id": "d78dafec",
   "metadata": {},
   "outputs": [
    {
     "name": "stderr",
     "output_type": "stream",
     "text": [
      "C:\\Users\\Abhishek\\miniconda3\\lib\\site-packages\\sklearn\\base.py:451: UserWarning: X does not have valid feature names, but SimpleImputer was fitted with feature names\n",
      "  \"X does not have valid feature names, but\"\n",
      "C:\\Users\\Abhishek\\miniconda3\\lib\\site-packages\\sklearn\\base.py:451: UserWarning: X does not have valid feature names, but SimpleImputer was fitted with feature names\n",
      "  \"X does not have valid feature names, but\"\n"
     ]
    },
    {
     "data": {
      "text/plain": [
       "array([0], dtype=int64)"
      ]
     },
     "execution_count": 138,
     "metadata": {},
     "output_type": "execute_result"
    }
   ],
   "source": [
    "pipe_prod.predict(test_input_2)"
   ]
  },
  {
   "cell_type": "markdown",
   "id": "46516535",
   "metadata": {},
   "source": [
    "- So no changes required @production level; cool right just download new pipe and continue with work even if you do changes in the pipeline by adding or doing anything.\n",
    "- Column Transformers made our work clean and readable plus less confusion which is an indicator of good code.\n",
    "- There will be no problem at production and this one is a well managed and I guess well written code(hahah).\n",
    "- Try to work in pipelines, this will help alot in future. \n"
   ]
  },
  {
   "cell_type": "markdown",
   "id": "4b1c355e",
   "metadata": {},
   "source": [
    "# Thanks for reading."
   ]
  }
 ],
 "metadata": {
  "kernelspec": {
   "display_name": "Python 3 (ipykernel)",
   "language": "python",
   "name": "python3"
  },
  "language_info": {
   "codemirror_mode": {
    "name": "ipython",
    "version": 3
   },
   "file_extension": ".py",
   "mimetype": "text/x-python",
   "name": "python",
   "nbconvert_exporter": "python",
   "pygments_lexer": "ipython3",
   "version": "3.7.7"
  }
 },
 "nbformat": 4,
 "nbformat_minor": 5
}
