{
 "cells": [
  {
   "cell_type": "code",
   "execution_count": 1,
   "id": "7640f6ed",
   "metadata": {},
   "outputs": [],
   "source": [
    "from sklearn.datasets import load_diabetes\n",
    "from sklearn.metrics import r2_score\n",
    "import numpy as np\n"
   ]
  },
  {
   "cell_type": "code",
   "execution_count": 2,
   "id": "19ef99d6",
   "metadata": {},
   "outputs": [],
   "source": [
    "X,y = load_diabetes(return_X_y= True)"
   ]
  },
  {
   "cell_type": "code",
   "execution_count": 3,
   "id": "b66a88f4",
   "metadata": {},
   "outputs": [],
   "source": [
    "from sklearn.model_selection import train_test_split\n",
    "X_train,X_test , y_train,y_test = train_test_split(X,y,test_size=0.2 ,random_state=4)"
   ]
  },
  {
   "cell_type": "code",
   "execution_count": 4,
   "id": "58127c2b",
   "metadata": {},
   "outputs": [],
   "source": [
    "from sklearn.linear_model import Ridge"
   ]
  },
  {
   "cell_type": "code",
   "execution_count": 5,
   "id": "4807163d",
   "metadata": {},
   "outputs": [],
   "source": [
    "reg = Ridge(alpha = 0.1 ,solver = 'cholesky')"
   ]
  },
  {
   "cell_type": "code",
   "execution_count": 6,
   "id": "b4cd1f3b",
   "metadata": {},
   "outputs": [
    {
     "data": {
      "text/plain": [
       "Ridge(alpha=0.1, solver='cholesky')"
      ]
     },
     "execution_count": 6,
     "metadata": {},
     "output_type": "execute_result"
    }
   ],
   "source": [
    "reg.fit(X_train,y_train)"
   ]
  },
  {
   "cell_type": "code",
   "execution_count": 7,
   "id": "ba8c8b5a",
   "metadata": {},
   "outputs": [
    {
     "data": {
      "text/plain": [
       "150.89050209333024"
      ]
     },
     "execution_count": 7,
     "metadata": {},
     "output_type": "execute_result"
    }
   ],
   "source": [
    "reg.intercept_"
   ]
  },
  {
   "cell_type": "code",
   "execution_count": 8,
   "id": "4c2b288f",
   "metadata": {},
   "outputs": [
    {
     "data": {
      "text/plain": [
       "array([  44.02025512, -241.69666596,  452.98163524,  332.04993719,\n",
       "        -76.34010147,  -68.52063199, -164.98817213,  149.9687712 ,\n",
       "        431.61985919,   58.51762582])"
      ]
     },
     "execution_count": 8,
     "metadata": {},
     "output_type": "execute_result"
    }
   ],
   "source": [
    "reg.coef_"
   ]
  },
  {
   "cell_type": "code",
   "execution_count": 9,
   "id": "a552adb6",
   "metadata": {},
   "outputs": [
    {
     "data": {
      "text/plain": [
       "0.46930668289209754"
      ]
     },
     "execution_count": 9,
     "metadata": {},
     "output_type": "execute_result"
    }
   ],
   "source": [
    "y_pred = reg.predict(X_test)\n",
    "r2_score(y_test,y_pred)"
   ]
  },
  {
   "cell_type": "code",
   "execution_count": 22,
   "id": "3c588f6f",
   "metadata": {},
   "outputs": [
    {
     "name": "stdout",
     "output_type": "stream",
     "text": [
      "[  44.02025512 -241.69666596  452.98163524  332.04993719  -76.34010147\n",
      "  -68.52063199 -164.98817213  149.9687712   431.61985919   58.51762582]\n",
      "150.89050209333024\n"
     ]
    }
   ],
   "source": [
    "print(reg.coef_)\n",
    "print(reg.intercept_)"
   ]
  },
  {
   "cell_type": "code",
   "execution_count": 24,
   "id": "283ce561",
   "metadata": {},
   "outputs": [],
   "source": [
    "class MyRidgeNd:\n",
    "    \n",
    "    def __init__(self , alpha = 0.1):\n",
    "        \n",
    "        self.alpha = alpha\n",
    "        self.coef_ = None\n",
    "        self.intercept_ = None\n",
    "        \n",
    "        \n",
    "    def fit(self, X_train,y_train):\n",
    "            X_train = np.insert(X_train,0,1,axis = 1)\n",
    "            I = np.identity(X_train.shape[1])\n",
    "            I[0][0] = 0 \n",
    "            result  = np.linalg.inv(np.dot(X_train.T,X_train) + self.alpha * I).dot(X_train.T).dot(y_train)\n",
    "            \n",
    "            self.intercept_ = result[0]\n",
    "            self.coef_ = result[1:]\n",
    "            \n",
    "    def predict(self, X_test):\n",
    "        return np.dot(X_test,self.coef_)+ self.intercept_"
   ]
  },
  {
   "cell_type": "code",
   "execution_count": 25,
   "id": "7de66db3",
   "metadata": {},
   "outputs": [],
   "source": [
    "r = MyRidgeNd()"
   ]
  },
  {
   "cell_type": "code",
   "execution_count": 26,
   "id": "cb79027f",
   "metadata": {},
   "outputs": [
    {
     "name": "stdout",
     "output_type": "stream",
     "text": [
      "0.46930668289209776\n",
      "[  44.02025512 -241.69666596  452.98163524  332.04993719  -76.34010147\n",
      "  -68.52063199 -164.98817213  149.9687712   431.61985919   58.51762582]\n",
      "150.89050209333027\n"
     ]
    }
   ],
   "source": [
    "r.fit(X_train,y_train)\n",
    "y_pred2 = r.predict(X_test)\n",
    "print(r2_score(y_test,y_pred2))\n",
    "print(r.coef_)\n",
    "print(r.intercept_)"
   ]
  },
  {
   "cell_type": "code",
   "execution_count": 19,
   "id": "b5ed41c8",
   "metadata": {},
   "outputs": [
    {
     "data": {
      "text/plain": [
       "(353, 10)"
      ]
     },
     "execution_count": 19,
     "metadata": {},
     "output_type": "execute_result"
    }
   ],
   "source": [
    "X_train.shape"
   ]
  },
  {
   "cell_type": "code",
   "execution_count": 12,
   "id": "f5da6c94",
   "metadata": {},
   "outputs": [
    {
     "data": {
      "text/plain": [
       "array([[ 1.        ,  0.0090156 , -0.04464164, ...,  0.02323852,\n",
       "         0.05568355,  0.10661708],\n",
       "       [ 1.        ,  0.03081083,  0.05068012, ...,  0.05755657,\n",
       "         0.03546194,  0.08590655],\n",
       "       [ 1.        ,  0.01628068, -0.04464164, ..., -0.03949338,\n",
       "        -0.0594727 , -0.06735141],\n",
       "       ...,\n",
       "       [ 1.        ,  0.04170844,  0.05068012, ..., -0.01107952,\n",
       "        -0.04687948,  0.01549073],\n",
       "       [ 1.        ,  0.01628068,  0.05068012, ..., -0.03949338,\n",
       "         0.01703713,  0.00720652],\n",
       "       [ 1.        ,  0.04897352,  0.05068012, ...,  0.07120998,\n",
       "         0.03243323,  0.04862759]])"
      ]
     },
     "execution_count": 12,
     "metadata": {},
     "output_type": "execute_result"
    }
   ],
   "source": [
    "np.insert(X_train,0,1,axis=1)"
   ]
  },
  {
   "cell_type": "code",
   "execution_count": null,
   "id": "028f3f02",
   "metadata": {},
   "outputs": [],
   "source": []
  }
 ],
 "metadata": {
  "kernelspec": {
   "display_name": "Python 3 (ipykernel)",
   "language": "python",
   "name": "python3"
  },
  "language_info": {
   "codemirror_mode": {
    "name": "ipython",
    "version": 3
   },
   "file_extension": ".py",
   "mimetype": "text/x-python",
   "name": "python",
   "nbconvert_exporter": "python",
   "pygments_lexer": "ipython3",
   "version": "3.7.7"
  }
 },
 "nbformat": 4,
 "nbformat_minor": 5
}
