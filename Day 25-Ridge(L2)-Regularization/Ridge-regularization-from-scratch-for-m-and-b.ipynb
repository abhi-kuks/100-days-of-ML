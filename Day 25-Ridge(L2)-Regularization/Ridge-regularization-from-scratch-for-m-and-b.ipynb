{
 "cells": [
  {
   "cell_type": "code",
   "execution_count": 2,
   "id": "2f3da2c1",
   "metadata": {},
   "outputs": [],
   "source": [
    "from sklearn.datasets import make_regression\n",
    "import matplotlib.pyplot as plt\n",
    "import numpy as np"
   ]
  },
  {
   "cell_type": "code",
   "execution_count": 3,
   "id": "18a02b5c",
   "metadata": {},
   "outputs": [],
   "source": [
    "X,y = make_regression(n_samples = 100 , n_features = 1 , n_informative=1 , n_targets=1 , noise= 20 , random_state=13)"
   ]
  },
  {
   "cell_type": "code",
   "execution_count": 4,
   "id": "1a9be9ca",
   "metadata": {},
   "outputs": [
    {
     "data": {
      "text/plain": [
       "<matplotlib.collections.PathCollection at 0x18c21fc2c48>"
      ]
     },
     "execution_count": 4,
     "metadata": {},
     "output_type": "execute_result"
    },
    {
     "data": {
      "image/png": "[encoded data removed]",
      "text/plain": [
       "<Figure size 432x288 with 1 Axes>"
      ]
     },
     "metadata": {
      "needs_background": "light"
     },
     "output_type": "display_data"
    }
   ],
   "source": [
    "plt.scatter(X,y)"
   ]
  },
  {
   "cell_type": "code",
   "execution_count": 13,
   "id": "0e38f878",
   "metadata": {},
   "outputs": [
    {
     "name": "stdout",
     "output_type": "stream",
     "text": [
      "-2.29474455867698\n",
      "[27.82809103]\n"
     ]
    }
   ],
   "source": [
    "from sklearn.linear_model import LinearRegression\n",
    "\n",
    "lr = LinearRegression()\n",
    "lr.fit(X,y)\n",
    "print(lr.intercept_)\n",
    "print(lr.coef_)\n"
   ]
  },
  {
   "cell_type": "code",
   "execution_count": 14,
   "id": "44f68170",
   "metadata": {},
   "outputs": [
    {
     "name": "stdout",
     "output_type": "stream",
     "text": [
      "-2.1269130035235726\n",
      "[24.9546267]\n"
     ]
    }
   ],
   "source": [
    "from sklearn.linear_model import Ridge\n",
    "ridge= Ridge(alpha = 10)\n",
    "ridge.fit(X,y)\n",
    "print(ridge.intercept_)\n",
    "print(ridge.coef_)"
   ]
  },
  {
   "cell_type": "code",
   "execution_count": 15,
   "id": "994577a8",
   "metadata": {},
   "outputs": [
    {
     "name": "stdout",
     "output_type": "stream",
     "text": [
      "-1.4248441496033308\n",
      "[12.93442104]\n"
     ]
    }
   ],
   "source": [
    "ridge1 = Ridge(alpha = 100)\n",
    "ridge1.fit(X,y)\n",
    "print(ridge1.intercept_)\n",
    "print(ridge1.coef_)"
   ]
  },
  {
   "cell_type": "code",
   "execution_count": 16,
   "id": "6b000953",
   "metadata": {},
   "outputs": [
    {
     "name": "stdout",
     "output_type": "stream",
     "text": [
      "-0.7992543425229544\n",
      "[2.22362237]\n"
     ]
    }
   ],
   "source": [
    "ridge2= Ridge(alpha = 1000)\n",
    "ridge2.fit(X,y)\n",
    "print(ridge2.intercept_)\n",
    "print(ridge2.coef_)"
   ]
  },
  {
   "cell_type": "code",
   "execution_count": 22,
   "id": "fe8014a6",
   "metadata": {},
   "outputs": [
    {
     "data": {
      "text/plain": [
       "<matplotlib.legend.Legend at 0x18c24957488>"
      ]
     },
     "execution_count": 22,
     "metadata": {},
     "output_type": "execute_result"
    },
    {
     "data": {
      "image/png": "[encoded data removed]",
      "text/plain": [
       "<Figure size 432x288 with 1 Axes>"
      ]
     },
     "metadata": {
      "needs_background": "light"
     },
     "output_type": "display_data"
    }
   ],
   "source": [
    "plt.plot(X,y ,'b.')\n",
    "plt.plot(X,lr.predict(X) ,color= 'red' , label = 'alpha = 0')\n",
    "plt.plot(X,ridge.predict(X) ,color= 'green' , label = 'alpha = 10')\n",
    "plt.plot(X,ridge1.predict(X) ,color= 'orange' , label = 'alpha = 100')\n",
    "plt.plot(X,ridge2.predict(X) ,color= 'black' , label = 'alpha = 1000')\n",
    "plt.legend()"
   ]
  },
  {
   "cell_type": "code",
   "execution_count": 34,
   "id": "327ba75d",
   "metadata": {},
   "outputs": [],
   "source": [
    "class MyRidge:\n",
    "    \n",
    "    def __init__(self,alpha=0.1):\n",
    "        \n",
    "        self.alpha = alpha\n",
    "        self.m = None\n",
    "        self.b = None\n",
    "        \n",
    "    def fit(self,X_train, y_train):\n",
    "        num = 0\n",
    "        den = 0\n",
    "        \n",
    "        for i in range(X_train.shape[0]):\n",
    "            num = num + (y_train[i] - y_train.mean()) * (X_train[i] - X_train.mean())\n",
    "            den = den + (X_train[i] - X_train.mean())**2\n",
    "        \n",
    "        self.m = num/(den + self.alpha)\n",
    "        self.b = y_train.mean() - (self.m * X_train.mean())\n",
    "        \n",
    "        print(self.m , self.b)\n",
    "    \n",
    "    def predict(self,X_test):\n",
    "        pass"
   ]
  },
  {
   "cell_type": "code",
   "execution_count": 37,
   "id": "2c4c5781",
   "metadata": {},
   "outputs": [],
   "source": [
    "mr =MyRidge(alpha = 100)"
   ]
  },
  {
   "cell_type": "code",
   "execution_count": 38,
   "id": "bcf52509",
   "metadata": {},
   "outputs": [
    {
     "name": "stdout",
     "output_type": "stream",
     "text": [
      "[12.93442104] [-1.42484415]\n"
     ]
    }
   ],
   "source": [
    "mr.fit(X,y)"
   ]
  },
  {
   "cell_type": "code",
   "execution_count": null,
   "id": "c4db2e8d",
   "metadata": {},
   "outputs": [],
   "source": []
  }
 ],
 "metadata": {
  "kernelspec": {
   "display_name": "Python 3 (ipykernel)",
   "language": "python",
   "name": "python3"
  },
  "language_info": {
   "codemirror_mode": {
    "name": "ipython",
    "version": 3
   },
   "file_extension": ".py",
   "mimetype": "text/x-python",
   "name": "python",
   "nbconvert_exporter": "python",
   "pygments_lexer": "ipython3",
   "version": "3.7.7"
  }
 },
 "nbformat": 4,
 "nbformat_minor": 5
}
