{
 "cells": [
  {
   "cell_type": "code",
   "execution_count": 2,
   "id": "a6f012a7",
   "metadata": {},
   "outputs": [],
   "source": [
    "import numpy as np\n",
    "import pandas as pd\n",
    "import matplotlib.pyplot as plt\n",
    "from sklearn.datasets import load_diabetes\n",
    "from sklearn.linear_model import LinearRegression\n",
    "from sklearn.metrics import r2_score\n",
    "from sklearn.model_selection import train_test_split"
   ]
  },
  {
   "cell_type": "code",
   "execution_count": 3,
   "id": "f2b47213",
   "metadata": {},
   "outputs": [],
   "source": [
    "X,y = load_diabetes(return_X_y= True)"
   ]
  },
  {
   "cell_type": "code",
   "execution_count": 4,
   "id": "865eb124",
   "metadata": {},
   "outputs": [
    {
     "data": {
      "text/plain": [
       "(442, 10)"
      ]
     },
     "execution_count": 4,
     "metadata": {},
     "output_type": "execute_result"
    }
   ],
   "source": [
    "X.shape"
   ]
  },
  {
   "cell_type": "code",
   "execution_count": 5,
   "id": "5a683753",
   "metadata": {},
   "outputs": [
    {
     "data": {
      "text/plain": [
       "(442,)"
      ]
     },
     "execution_count": 5,
     "metadata": {},
     "output_type": "execute_result"
    }
   ],
   "source": [
    "y.shape"
   ]
  },
  {
   "cell_type": "code",
   "execution_count": 7,
   "id": "b3b2bf30",
   "metadata": {},
   "outputs": [],
   "source": [
    "X_train,X_test , y_train,y_test = train_test_split(X,y,test_size=0.2 , random_state=42)"
   ]
  },
  {
   "cell_type": "code",
   "execution_count": 8,
   "id": "332fa7e1",
   "metadata": {},
   "outputs": [
    {
     "data": {
      "text/plain": [
       "(353, 10)"
      ]
     },
     "execution_count": 8,
     "metadata": {},
     "output_type": "execute_result"
    }
   ],
   "source": [
    "X_train.shape"
   ]
  },
  {
   "cell_type": "code",
   "execution_count": 9,
   "id": "4794d365",
   "metadata": {},
   "outputs": [
    {
     "data": {
      "text/plain": [
       "(89, 10)"
      ]
     },
     "execution_count": 9,
     "metadata": {},
     "output_type": "execute_result"
    }
   ],
   "source": [
    "X_test.shape"
   ]
  },
  {
   "cell_type": "code",
   "execution_count": 19,
   "id": "bf361711",
   "metadata": {},
   "outputs": [],
   "source": [
    "from sklearn.linear_model import SGDRegressor"
   ]
  },
  {
   "cell_type": "code",
   "execution_count": 20,
   "id": "6459d7e8",
   "metadata": {},
   "outputs": [],
   "source": [
    "reg = SGDRegressor(penalty = 'l2' , max_iter=500 , eta0=0.1 , learning_rate='constant' , alpha =0.001 )"
   ]
  },
  {
   "cell_type": "code",
   "execution_count": 21,
   "id": "8ec6079e",
   "metadata": {},
   "outputs": [
    {
     "data": {
      "text/plain": [
       "SGDRegressor(alpha=0.001, eta0=0.1, learning_rate='constant', max_iter=500)"
      ]
     },
     "execution_count": 21,
     "metadata": {},
     "output_type": "execute_result"
    }
   ],
   "source": [
    "reg.fit(X_train,y_train)"
   ]
  },
  {
   "cell_type": "code",
   "execution_count": 22,
   "id": "c7f16da3",
   "metadata": {},
   "outputs": [
    {
     "name": "stdout",
     "output_type": "stream",
     "text": [
      "R2 Score:  0.4388808099091669\n",
      "[  49.69785734 -135.4379025   398.86128813  264.76871738  -27.3644252\n",
      "  -70.05814923 -183.66228299  135.83943794  308.90298502  117.09005628]\n",
      "[162.99907037]\n"
     ]
    }
   ],
   "source": [
    "y_pred = reg.predict(X_test)\n",
    "print(\"R2 Score: \" ,r2_score(y_test ,y_pred))\n",
    "print(reg.coef_)\n",
    "print(reg.intercept_)"
   ]
  },
  {
   "cell_type": "code",
   "execution_count": 23,
   "id": "00fd5d0f",
   "metadata": {},
   "outputs": [],
   "source": [
    "from sklearn.linear_model import Ridge\n",
    "regr = Ridge(alpha = 0.001 , max_iter=500 , solver= 'sparse_cg')"
   ]
  },
  {
   "cell_type": "code",
   "execution_count": 24,
   "id": "b0956422",
   "metadata": {},
   "outputs": [
    {
     "name": "stdout",
     "output_type": "stream",
     "text": [
      "R2 Score: 0.4534315005383639\n",
      "[  38.47997752 -241.35368624  543.83212466  346.78758236 -827.67603678\n",
      "  437.15629503  116.93428998  260.75216964  696.11975692   49.7439021 ]\n",
      "151.3420287191661\n"
     ]
    }
   ],
   "source": [
    "regr.fit(X_train,y_train)\n",
    "y_pred2 = regr.predict(X_test)\n",
    "print('R2 Score:',r2_score(y_test,y_pred2))\n",
    "print(regr.coef_)\n",
    "print(regr.intercept_)"
   ]
  },
  {
   "cell_type": "code",
   "execution_count": 35,
   "id": "e52e6535",
   "metadata": {},
   "outputs": [],
   "source": [
    "class MeraRidgeGD:\n",
    "    \n",
    "    def __init__(self, epochs , learning_rate , alpha):\n",
    "        self.learning_rate = learning_rate\n",
    "        self.epochs = epochs\n",
    "        self.alpha = alpha\n",
    "        self.coef_ = None\n",
    "        self.intercept_ = None\n",
    "        \n",
    "    def fit(self, X_train,y_train):\n",
    "        \n",
    "        self.coef_ = np.ones(X_train.shape[1])\n",
    "        self.intercept_ = 0\n",
    "        \n",
    "        theta = np.insert(self.coef_,0 , self.intercept_)\n",
    "        \n",
    "        X_train = np.insert(X_train, 0, 1 , axis = 1)\n",
    "        \n",
    "        for i in range(self.epochs):\n",
    "            theta_der = np.dot(X_train.T,X_train).dot(theta) - np.dot(X_train.T,y_train) + self.alpha*theta\n",
    "            theta = theta - self.learning_rate* theta_der\n",
    "        \n",
    "        self.coef_ = theta[1:]\n",
    "        self.intercept_ = theta[0]\n",
    "#         print(self.coef_)\n",
    "#         print(self.intercept_)\n",
    "    \n",
    "    def predict(self, X_test):\n",
    "        return np.dot(X_test, self.coef_) + self.intercept_"
   ]
  },
  {
   "cell_type": "code",
   "execution_count": 36,
   "id": "16407c0d",
   "metadata": {},
   "outputs": [],
   "source": [
    "MRGD = MeraRidgeGD(epochs=500 , learning_rate=0.005 , alpha = 0.001)"
   ]
  },
  {
   "cell_type": "code",
   "execution_count": 37,
   "id": "51e1c6a2",
   "metadata": {},
   "outputs": [],
   "source": [
    "MRGD.fit(X_train,y_train)"
   ]
  },
  {
   "cell_type": "code",
   "execution_count": 38,
   "id": "46fe1c85",
   "metadata": {},
   "outputs": [
    {
     "name": "stdout",
     "output_type": "stream",
     "text": [
      "R2 Score :  0.45922562409621004\n",
      "[  43.37045483 -192.03844748  496.43371401  319.37856976  -64.42806489\n",
      " -113.19505857 -213.90825527  144.861197    367.67858381  119.56862435]\n",
      "151.40457302137384\n"
     ]
    }
   ],
   "source": [
    "y_pred3 = MRGD.predict(X_test)\n",
    "print(\"R2 Score : \" , r2_score(y_test , y_pred3))\n",
    "print(MRGD.coef_)\n",
    "print(MRGD.intercept_)"
   ]
  },
  {
   "cell_type": "code",
   "execution_count": null,
   "id": "5f9c17ee",
   "metadata": {},
   "outputs": [],
   "source": []
  }
 ],
 "metadata": {
  "kernelspec": {
   "display_name": "Python 3 (ipykernel)",
   "language": "python",
   "name": "python3"
  },
  "language_info": {
   "codemirror_mode": {
    "name": "ipython",
    "version": 3
   },
   "file_extension": ".py",
   "mimetype": "text/x-python",
   "name": "python",
   "nbconvert_exporter": "python",
   "pygments_lexer": "ipython3",
   "version": "3.7.7"
  }
 },
 "nbformat": 4,
 "nbformat_minor": 5
}
