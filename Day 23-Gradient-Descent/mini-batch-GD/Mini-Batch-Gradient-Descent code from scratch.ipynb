{
 "cells": [
  {
   "cell_type": "code",
   "execution_count": 1,
   "id": "4d2fe5f8",
   "metadata": {},
   "outputs": [],
   "source": [
    "from sklearn.datasets import load_diabetes\n",
    "\n",
    "import numpy as np\n",
    "from sklearn.linear_model import LinearRegression\n",
    "from sklearn.model_selection import train_test_split\n",
    "from sklearn.metrics import r2_score"
   ]
  },
  {
   "cell_type": "code",
   "execution_count": 2,
   "id": "ce1023ca",
   "metadata": {},
   "outputs": [],
   "source": [
    "X,y = load_diabetes(return_X_y=True)"
   ]
  },
  {
   "cell_type": "code",
   "execution_count": 4,
   "id": "398cee3f",
   "metadata": {},
   "outputs": [],
   "source": [
    "X_train,X_test,y_train,y_test = train_test_split(X,y,random_state = 2 ,test_size=0.2)"
   ]
  },
  {
   "cell_type": "code",
   "execution_count": 5,
   "id": "1c2f5f16",
   "metadata": {},
   "outputs": [],
   "source": [
    "reg = LinearRegression()"
   ]
  },
  {
   "cell_type": "code",
   "execution_count": 6,
   "id": "b239bbd9",
   "metadata": {},
   "outputs": [
    {
     "data": {
      "text/plain": [
       "LinearRegression()"
      ]
     },
     "execution_count": 6,
     "metadata": {},
     "output_type": "execute_result"
    }
   ],
   "source": [
    "reg.fit(X_train,y_train)"
   ]
  },
  {
   "cell_type": "code",
   "execution_count": 7,
   "id": "47559c36",
   "metadata": {},
   "outputs": [
    {
     "name": "stdout",
     "output_type": "stream",
     "text": [
      "151.88334520854633\n",
      "[  -9.16088483 -205.46225988  516.68462383  340.62734108 -895.54360867\n",
      "  561.21453306  153.88478595  126.73431596  861.12139955   52.41982836]\n"
     ]
    }
   ],
   "source": [
    "print(reg.intercept_)\n",
    "print(reg.coef_)"
   ]
  },
  {
   "cell_type": "code",
   "execution_count": 8,
   "id": "29754172",
   "metadata": {},
   "outputs": [],
   "source": [
    "y_pred = reg.predict(X_test)"
   ]
  },
  {
   "cell_type": "code",
   "execution_count": 9,
   "id": "01ea7356",
   "metadata": {},
   "outputs": [
    {
     "data": {
      "text/plain": [
       "0.4399387660024645"
      ]
     },
     "execution_count": 9,
     "metadata": {},
     "output_type": "execute_result"
    }
   ],
   "source": [
    "r2_score(y_test ,y_pred)"
   ]
  },
  {
   "cell_type": "code",
   "execution_count": 60,
   "id": "a435a7cd",
   "metadata": {},
   "outputs": [],
   "source": [
    "import random\n",
    "class MBGDRegressor:\n",
    "    \n",
    "    def __init__(self,batch_size ,learning_rate= 0.01,epochs=100):\n",
    "        \n",
    "        self.coef_ = None\n",
    "        self.intercept_ = None\n",
    "        self.lr = learning_rate\n",
    "        self.epochs = epochs\n",
    "        self.batch_size = batch_size\n",
    "        \n",
    "    def fit(self,X_train,y_train):\n",
    "        # initialize the coefficients and intercepts\n",
    "        self.intercept_ = 0\n",
    "        self.coef_ = np.ones(X_train.shape[1])\n",
    "        \n",
    "        for i in range(self.epochs):\n",
    "            for j in range(int(X_train.shape[0] / self.batch_size)):\n",
    "                \n",
    "                # Generating random numbers for the given batch size\n",
    "                idx = random.sample(range(X_train.shape[0]), self.batch_size)\n",
    "                \n",
    "                y_hat = np.dot(X_train[idx] , self.coef_) + self.intercept_\n",
    "                intercept_der = (-2) * np.mean(y_train[idx]-y_hat) \n",
    "                self.intercept_ = self.intercept_ - (self.lr*intercept_der)\n",
    "\n",
    "                coef_der = (-2/self.batch_size) * np.dot((y_train[idx] - y_hat),X_train[idx])\n",
    "                self.coef_ = self.coef_ - (self.lr * coef_der)\n",
    "        \n",
    "        print(self.intercept_ , self.coef_)\n",
    "         \n",
    "    def predict(self,X_test):\n",
    "        return np.dot(X_test,self.coef_ ) + self.intercept_"
   ]
  },
  {
   "cell_type": "code",
   "execution_count": 61,
   "id": "dbe6f51b",
   "metadata": {},
   "outputs": [
    {
     "data": {
      "text/plain": [
       "35"
      ]
     },
     "execution_count": 61,
     "metadata": {},
     "output_type": "execute_result"
    }
   ],
   "source": [
    "int(X_train.shape[0]/10)"
   ]
  },
  {
   "cell_type": "code",
   "execution_count": 89,
   "id": "a2c6bcc5",
   "metadata": {},
   "outputs": [],
   "source": [
    "mgdr = MBGDRegressor(batch_size=int(X_train.shape[0]/20) , epochs = 100 ,learning_rate =0.1)"
   ]
  },
  {
   "cell_type": "code",
   "execution_count": 90,
   "id": "68725b6d",
   "metadata": {},
   "outputs": [
    {
     "name": "stdout",
     "output_type": "stream",
     "text": [
      "150.3986215652853 [  47.83899069  -81.15889935  365.57909714  262.07264467   11.22235725\n",
      "  -35.06345113 -180.08233187  130.3698812   328.84340221  125.85341084]\n"
     ]
    }
   ],
   "source": [
    "mgdr.fit(X_train,y_train)"
   ]
  },
  {
   "cell_type": "code",
   "execution_count": 91,
   "id": "d33deced",
   "metadata": {},
   "outputs": [],
   "source": [
    "y_pred = mgdr.predict(X_test)"
   ]
  },
  {
   "cell_type": "code",
   "execution_count": 92,
   "id": "14d433df",
   "metadata": {},
   "outputs": [
    {
     "data": {
      "text/plain": [
       "0.43891644531894947"
      ]
     },
     "execution_count": 92,
     "metadata": {},
     "output_type": "execute_result"
    }
   ],
   "source": [
    "r2_score(y_test,y_pred)"
   ]
  },
  {
   "cell_type": "code",
   "execution_count": 80,
   "id": "e4835568",
   "metadata": {},
   "outputs": [
    {
     "data": {
      "text/plain": [
       "17"
      ]
     },
     "execution_count": 80,
     "metadata": {},
     "output_type": "execute_result"
    }
   ],
   "source": []
  },
  {
   "cell_type": "code",
   "execution_count": null,
   "id": "c8b3b7e2",
   "metadata": {},
   "outputs": [],
   "source": []
  },
  {
   "cell_type": "code",
   "execution_count": 17,
   "id": "53ddd17b",
   "metadata": {},
   "outputs": [
    {
     "data": {
      "text/plain": [
       "[61, 96, 70, 98, 9, 91, 48, 31, 56, 66]"
      ]
     },
     "execution_count": 17,
     "metadata": {},
     "output_type": "execute_result"
    }
   ],
   "source": [
    "import random \n",
    "random.sample(range(100),10)"
   ]
  },
  {
   "cell_type": "code",
   "execution_count": 18,
   "id": "cb36ad49",
   "metadata": {},
   "outputs": [
    {
     "data": {
      "text/plain": [
       "[154, 123, 164, 153, 52, 198, 204, 287, 131, 3]"
      ]
     },
     "execution_count": 18,
     "metadata": {},
     "output_type": "execute_result"
    }
   ],
   "source": [
    "random.sample(range(X_train.shape[0]), 10)"
   ]
  },
  {
   "cell_type": "code",
   "execution_count": 19,
   "id": "c71cf21a",
   "metadata": {},
   "outputs": [
    {
     "data": {
      "text/plain": [
       "array([[-0.00188202, -0.04464164,  0.03367309,  0.12515848,  0.02457414,\n",
       "         0.02624319, -0.01026611, -0.00259226,  0.02671426,  0.06105391],\n",
       "       [-0.00188202,  0.05068012,  0.01427248, -0.07452802,  0.0025589 ,\n",
       "         0.00620169, -0.01394774, -0.00259226,  0.01919903,  0.00306441],\n",
       "       [-0.00914709, -0.04464164, -0.05686312, -0.05042793,  0.02182224,\n",
       "         0.04534524, -0.02867429,  0.03430886, -0.00991896, -0.01764613],\n",
       "       [ 0.01628068,  0.05068012,  0.00241654, -0.00567061, -0.00569682,\n",
       "         0.01089891, -0.05076412,  0.03430886,  0.02269202, -0.03835666],\n",
       "       [-0.02367725, -0.04464164,  0.03043966, -0.00567061,  0.08236416,\n",
       "         0.09200436, -0.01762938,  0.07120998,  0.03304707,  0.00306441],\n",
       "       [ 0.04897352,  0.05068012,  0.08109682,  0.02187235,  0.04383748,\n",
       "         0.06413415, -0.05444576,  0.07120998,  0.03243323,  0.04862759],\n",
       "       [ 0.02354575, -0.04464164,  0.06169621,  0.05285819, -0.03459183,\n",
       "        -0.04891244, -0.02867429, -0.00259226,  0.054724  , -0.0052198 ],\n",
       "       [ 0.07076875,  0.05068012, -0.01698407,  0.02187235,  0.04383748,\n",
       "         0.05630544,  0.03759519, -0.00259226, -0.07020931, -0.01764613],\n",
       "       [ 0.01628068, -0.04464164,  0.07355214, -0.04124694, -0.00432087,\n",
       "        -0.01352667, -0.01394774, -0.00111622,  0.04289569,  0.04448548],\n",
       "       [-0.02367725, -0.04464164,  0.04552903,  0.09072977, -0.01808039,\n",
       "        -0.03544706,  0.07072993, -0.03949338, -0.03452372, -0.00936191]])"
      ]
     },
     "execution_count": 19,
     "metadata": {},
     "output_type": "execute_result"
    }
   ],
   "source": [
    "X_train[[154, 123, 164, 153, 52, 198, 204, 287, 131, 3]]"
   ]
  },
  {
   "cell_type": "markdown",
   "id": "4ec6019a",
   "metadata": {},
   "source": [
    "# ***How to use Mini Batch Gradient descent from Scikit learn***"
   ]
  },
  {
   "cell_type": "code",
   "execution_count": 93,
   "id": "97559a67",
   "metadata": {},
   "outputs": [],
   "source": [
    "from sklearn.linear_model import SGDRegressor"
   ]
  },
  {
   "cell_type": "code",
   "execution_count": 94,
   "id": "32a2115a",
   "metadata": {},
   "outputs": [],
   "source": [
    "sgd = SGDRegressor(learning_rate='constant' , eta0=0.2)"
   ]
  },
  {
   "cell_type": "code",
   "execution_count": 96,
   "id": "94b47d6e",
   "metadata": {},
   "outputs": [],
   "source": [
    "batch_size = 35\n",
    "for i in range(100):\n",
    "    idx = random.sample(range(X_train.shape[0]),batch_size)\n",
    "    sgd.partial_fit(X_train[idx] , y_train[idx])"
   ]
  },
  {
   "cell_type": "code",
   "execution_count": 97,
   "id": "2f236668",
   "metadata": {},
   "outputs": [
    {
     "data": {
      "text/plain": [
       "array([   3.04210185, -131.84737515,  479.15966354,  271.10347392,\n",
       "        -28.7788636 ,  -88.62197125, -191.22841743,  110.04684546,\n",
       "        382.86703047,  125.99680835])"
      ]
     },
     "execution_count": 97,
     "metadata": {},
     "output_type": "execute_result"
    }
   ],
   "source": [
    "sgd.coef_"
   ]
  },
  {
   "cell_type": "code",
   "execution_count": 98,
   "id": "bde1e4c5",
   "metadata": {},
   "outputs": [
    {
     "data": {
      "text/plain": [
       "array([148.69750243])"
      ]
     },
     "execution_count": 98,
     "metadata": {},
     "output_type": "execute_result"
    }
   ],
   "source": [
    "sgd.intercept_"
   ]
  },
  {
   "cell_type": "code",
   "execution_count": 99,
   "id": "d949e994",
   "metadata": {},
   "outputs": [],
   "source": [
    "y2_pred = sgd.predict(X_test)"
   ]
  },
  {
   "cell_type": "code",
   "execution_count": 100,
   "id": "e71a98ea",
   "metadata": {},
   "outputs": [
    {
     "data": {
      "text/plain": [
       "0.4571808431197223"
      ]
     },
     "execution_count": 100,
     "metadata": {},
     "output_type": "execute_result"
    }
   ],
   "source": [
    "r2_score(y_test,y2_pred)"
   ]
  },
  {
   "cell_type": "code",
   "execution_count": null,
   "id": "d02acc57",
   "metadata": {},
   "outputs": [],
   "source": []
  }
 ],
 "metadata": {
  "kernelspec": {
   "display_name": "Python 3 (ipykernel)",
   "language": "python",
   "name": "python3"
  },
  "language_info": {
   "codemirror_mode": {
    "name": "ipython",
    "version": 3
   },
   "file_extension": ".py",
   "mimetype": "text/x-python",
   "name": "python",
   "nbconvert_exporter": "python",
   "pygments_lexer": "ipython3",
   "version": "3.7.7"
  }
 },
 "nbformat": 4,
 "nbformat_minor": 5
}
