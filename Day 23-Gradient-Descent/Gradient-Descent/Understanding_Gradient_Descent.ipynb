{
 "cells": [
  {
   "cell_type": "code",
   "execution_count": 2,
   "id": "ab6a4be0",
   "metadata": {},
   "outputs": [],
   "source": [
    "from sklearn.datasets import make_regression\n",
    "import numpy as np\n",
    "import pandas as pd\n",
    "import matplotlib.pyplot as plt"
   ]
  },
  {
   "cell_type": "code",
   "execution_count": 9,
   "id": "a6a21fc0",
   "metadata": {},
   "outputs": [],
   "source": [
    "X,y = make_regression(n_samples=4,n_features =1, n_informative=1 ,\n",
    "                      n_targets =1 , noise =80,random_state=13)"
   ]
  },
  {
   "cell_type": "code",
   "execution_count": 10,
   "id": "e6a79ffd",
   "metadata": {},
   "outputs": [
    {
     "data": {
      "text/plain": [
       "<matplotlib.collections.PathCollection at 0x1d0fb5c7508>"
      ]
     },
     "execution_count": 10,
     "metadata": {},
     "output_type": "execute_result"
    },
    {
     "data": {
      "image/png": "[encoded data removed]",
      "text/plain": [
       "<Figure size 432x288 with 1 Axes>"
      ]
     },
     "metadata": {
      "needs_background": "light"
     },
     "output_type": "display_data"
    }
   ],
   "source": [
    "plt.scatter(X,y)"
   ]
  },
  {
   "cell_type": "code",
   "execution_count": 39,
   "id": "0921e613",
   "metadata": {},
   "outputs": [],
   "source": [
    "# Let's apply ols\n",
    "from sklearn.linear_model import LinearRegression"
   ]
  },
  {
   "cell_type": "code",
   "execution_count": 40,
   "id": "09dce55f",
   "metadata": {},
   "outputs": [
    {
     "data": {
      "text/plain": [
       "LinearRegression()"
      ]
     },
     "execution_count": 40,
     "metadata": {},
     "output_type": "execute_result"
    }
   ],
   "source": [
    "lr =LinearRegression()\n",
    "lr.fit(X,y)"
   ]
  },
  {
   "cell_type": "code",
   "execution_count": 41,
   "id": "0e52ecae",
   "metadata": {},
   "outputs": [
    {
     "data": {
      "text/plain": [
       "array([78.35063668])"
      ]
     },
     "execution_count": 41,
     "metadata": {},
     "output_type": "execute_result"
    }
   ],
   "source": [
    "lr.coef_"
   ]
  },
  {
   "cell_type": "code",
   "execution_count": 42,
   "id": "3621f92d",
   "metadata": {},
   "outputs": [
    {
     "data": {
      "text/plain": [
       "26.15963284313262"
      ]
     },
     "execution_count": 42,
     "metadata": {},
     "output_type": "execute_result"
    }
   ],
   "source": [
    "lr.intercept_"
   ]
  },
  {
   "cell_type": "code",
   "execution_count": 15,
   "id": "49a1126f",
   "metadata": {},
   "outputs": [
    {
     "data": {
      "text/plain": [
       "[<matplotlib.lines.Line2D at 0x1d0fb9386c8>]"
      ]
     },
     "execution_count": 15,
     "metadata": {},
     "output_type": "execute_result"
    },
    {
     "data": {
      "image/png": "[encoded data removed]",
      "text/plain": [
       "<Figure size 432x288 with 1 Axes>"
      ]
     },
     "metadata": {
      "needs_background": "light"
     },
     "output_type": "display_data"
    }
   ],
   "source": [
    "plt.scatter(X,y)\n",
    "plt.plot(X,lr.predict(X),color ='red')\n"
   ]
  },
  {
   "cell_type": "code",
   "execution_count": 57,
   "id": "4995fadf",
   "metadata": {},
   "outputs": [],
   "source": [
    "# Let's apply Gradient Descent assuming slope(m) is constant 78.35\n",
    "# and let's also assume for now I am starting with b =100\n",
    "y_pred =( (78.35* X) + 100).reshape(4)"
   ]
  },
  {
   "cell_type": "code",
   "execution_count": 58,
   "id": "61f9b537",
   "metadata": {},
   "outputs": [
    {
     "data": {
      "text/plain": [
       "array([ 44.18419163, 135.39949674,  96.51318381, 159.05759577])"
      ]
     },
     "execution_count": 58,
     "metadata": {},
     "output_type": "execute_result"
    }
   ],
   "source": [
    "y_pred"
   ]
  },
  {
   "cell_type": "code",
   "execution_count": 60,
   "id": "f054411e",
   "metadata": {},
   "outputs": [
    {
     "data": {
      "image/png": "[encoded data removed]",
      "text/plain": [
       "<Figure size 432x288 with 1 Axes>"
      ]
     },
     "metadata": {
      "needs_background": "light"
     },
     "output_type": "display_data"
    }
   ],
   "source": [
    "plt.scatter(X,y)\n",
    "# leg ={'ols': 'red','b=0': 'blue'}\n",
    "plt.plot(X,lr.predict(X) , color ='red',label ='OLS' )\n",
    "plt.plot(X,y_pred,color= 'green' ,label ='b=0')\n",
    "plt.legend()\n",
    "plt.show()"
   ]
  },
  {
   "cell_type": "code",
   "execution_count": 61,
   "id": "c5dcfc0f",
   "metadata": {},
   "outputs": [
    {
     "data": {
      "text/plain": [
       "590.7223659179078"
      ]
     },
     "execution_count": 61,
     "metadata": {},
     "output_type": "execute_result"
    }
   ],
   "source": [
    "m = 78.35\n",
    "b =100\n",
    "loss_slope = -2*np.sum(y-m*X.ravel() - b)\n",
    "loss_slope"
   ]
  },
  {
   "cell_type": "code",
   "execution_count": 62,
   "id": "6e474268",
   "metadata": {},
   "outputs": [
    {
     "data": {
      "text/plain": [
       "59.072236591790784"
      ]
     },
     "execution_count": 62,
     "metadata": {},
     "output_type": "execute_result"
    }
   ],
   "source": [
    "# let's take learning rate to be 0.1\n",
    "learn_rate =0.1\n",
    "step_size = learn_rate *loss_slope\n",
    "step_size"
   ]
  },
  {
   "cell_type": "code",
   "execution_count": 63,
   "id": "3bb75ca2",
   "metadata": {},
   "outputs": [
    {
     "data": {
      "text/plain": [
       "40.927763408209216"
      ]
     },
     "execution_count": 63,
     "metadata": {},
     "output_type": "execute_result"
    }
   ],
   "source": [
    "b = b-step_size\n",
    "b"
   ]
  },
  {
   "cell_type": "code",
   "execution_count": 64,
   "id": "16b8e9dc",
   "metadata": {},
   "outputs": [
    {
     "data": {
      "image/png": "[encoded data removed]",
      "text/plain": [
       "<Figure size 432x288 with 1 Axes>"
      ]
     },
     "metadata": {
      "needs_background": "light"
     },
     "output_type": "display_data"
    }
   ],
   "source": [
    "y_pred1 = (m*X + b)\n",
    "plt.scatter(X,y)\n",
    "plt.plot(X,lr.predict(X), color ='red',label ='OLS' )\n",
    "plt.plot(X,y_pred1,color= 'green' ,label ='b={}'.format(round(b,2)))\n",
    "plt.plot(X,y_pred ,color = 'blue' ,label =' b=0')\n",
    "plt.legend()\n",
    "plt.show()"
   ]
  },
  {
   "cell_type": "code",
   "execution_count": 65,
   "id": "0a07d89f",
   "metadata": {},
   "outputs": [
    {
     "data": {
      "text/plain": [
       "118.14447318358157"
      ]
     },
     "execution_count": 65,
     "metadata": {},
     "output_type": "execute_result"
    }
   ],
   "source": [
    "# Iteration 2\n",
    "loss_slope = -2*np.sum(y-m*X.ravel() - b)\n",
    "loss_slope"
   ]
  },
  {
   "cell_type": "code",
   "execution_count": 66,
   "id": "6a3bb5a5",
   "metadata": {},
   "outputs": [],
   "source": [
    "learn_rate = 0.1"
   ]
  },
  {
   "cell_type": "code",
   "execution_count": 67,
   "id": "f1471f6e",
   "metadata": {},
   "outputs": [
    {
     "data": {
      "text/plain": [
       "11.814447318358157"
      ]
     },
     "execution_count": 67,
     "metadata": {},
     "output_type": "execute_result"
    }
   ],
   "source": [
    "step_size = learn_rate *loss_slope\n",
    "step_size"
   ]
  },
  {
   "cell_type": "code",
   "execution_count": 68,
   "id": "6c76209d",
   "metadata": {},
   "outputs": [
    {
     "data": {
      "text/plain": [
       "29.11331608985106"
      ]
     },
     "execution_count": 68,
     "metadata": {},
     "output_type": "execute_result"
    }
   ],
   "source": [
    "b =b -step_size\n",
    "b"
   ]
  },
  {
   "cell_type": "code",
   "execution_count": 69,
   "id": "19904d22",
   "metadata": {},
   "outputs": [
    {
     "data": {
      "image/png": "[encoded data removed]",
      "text/plain": [
       "<Figure size 432x288 with 1 Axes>"
      ]
     },
     "metadata": {
      "needs_background": "light"
     },
     "output_type": "display_data"
    }
   ],
   "source": [
    "y_pred2 = (m*X + b).reshape(4)\n",
    "plt.scatter(X,y)\n",
    "plt.plot(X,lr.predict(X), color ='red',label ='OLS' )\n",
    "plt.plot(X,y_pred2,color= 'black' ,label ='b={}'.format(round(b,2)))\n",
    "plt.plot(X,y_pred1,color= 'green' ,label ='b={}'.format(round(b,2)))\n",
    "plt.plot(X,y_pred ,color = 'blue' ,label =' b=0')\n",
    "plt.legend()\n",
    "plt.show()"
   ]
  },
  {
   "cell_type": "code",
   "execution_count": 70,
   "id": "a2d3321a",
   "metadata": {},
   "outputs": [
    {
     "data": {
      "text/plain": [
       "23.62889463671634"
      ]
     },
     "execution_count": 70,
     "metadata": {},
     "output_type": "execute_result"
    }
   ],
   "source": [
    "# Iteration 3\n",
    "loss_slope = -2*np.sum(y-m*X.ravel() - b)\n",
    "loss_slope"
   ]
  },
  {
   "cell_type": "code",
   "execution_count": 71,
   "id": "8501f090",
   "metadata": {},
   "outputs": [
    {
     "data": {
      "text/plain": [
       "2.362889463671634"
      ]
     },
     "execution_count": 71,
     "metadata": {},
     "output_type": "execute_result"
    }
   ],
   "source": [
    "step_size = learn_rate *loss_slope\n",
    "step_size"
   ]
  },
  {
   "cell_type": "code",
   "execution_count": 72,
   "id": "cf036484",
   "metadata": {},
   "outputs": [
    {
     "data": {
      "text/plain": [
       "26.750426626179426"
      ]
     },
     "execution_count": 72,
     "metadata": {},
     "output_type": "execute_result"
    }
   ],
   "source": [
    "b =b -step_size\n",
    "b"
   ]
  },
  {
   "cell_type": "code",
   "execution_count": 73,
   "id": "956cef9d",
   "metadata": {},
   "outputs": [
    {
     "data": {
      "image/png": "[encoded data removed]",
      "text/plain": [
       "<Figure size 432x288 with 1 Axes>"
      ]
     },
     "metadata": {
      "needs_background": "light"
     },
     "output_type": "display_data"
    }
   ],
   "source": [
    "y_pred3 = (m*X + b).reshape(4)\n",
    "plt.scatter(X,y)\n",
    "plt.plot(X,lr.predict(X), color ='red',label ='OLS' )\n",
    "plt.plot(X,y_pred3,color= 'black' ,label ='b={}'.format(round(b,2)))\n",
    "plt.plot(X,y_pred2,color= 'cyan' ,label ='b={}'.format(round(b,2)))\n",
    "plt.plot(X,y_pred1,color= 'green' ,label ='b={}'.format(round(b,2)))\n",
    "plt.plot(X,y_pred ,color = 'blue' ,label =' b=0')\n",
    "plt.legend()\n",
    "plt.show()"
   ]
  },
  {
   "cell_type": "code",
   "execution_count": 80,
   "id": "661d05a4",
   "metadata": {},
   "outputs": [
    {
     "data": {
      "text/plain": [
       "<matplotlib.collections.PathCollection at 0x1d0fc223408>"
      ]
     },
     "execution_count": 80,
     "metadata": {},
     "output_type": "execute_result"
    },
    {
     "data": {
      "image/png": "[encoded data removed]",
      "text/plain": [
       "<Figure size 432x288 with 1 Axes>"
      ]
     },
     "metadata": {
      "needs_background": "light"
     },
     "output_type": "display_data"
    }
   ],
   "source": [
    "b =-100\n",
    "m = 78.35\n",
    "learn_rate =0.1\n",
    "epochs =10\n",
    "for i in range(epochs):\n",
    "    loss_slope = -2* np.sum(y-m*X.ravel() - b)\n",
    "    b = b-(learn_rate*loss_slope)\n",
    "    y_pred = m*X + b\n",
    "    plt.plot(X,y_pred)\n",
    "\n",
    "plt.scatter(X,y)"
   ]
  },
  {
   "cell_type": "code",
   "execution_count": null,
   "id": "3cfc772a",
   "metadata": {},
   "outputs": [],
   "source": []
  }
 ],
 "metadata": {
  "kernelspec": {
   "display_name": "Python 3 (ipykernel)",
   "language": "python",
   "name": "python3"
  },
  "language_info": {
   "codemirror_mode": {
    "name": "ipython",
    "version": 3
   },
   "file_extension": ".py",
   "mimetype": "text/x-python",
   "name": "python",
   "nbconvert_exporter": "python",
   "pygments_lexer": "ipython3",
   "version": "3.7.7"
  }
 },
 "nbformat": 4,
 "nbformat_minor": 5
}
